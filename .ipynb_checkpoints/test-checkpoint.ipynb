{
 "cells": [
  {
   "cell_type": "markdown",
   "metadata": {},
   "source": [
    "Yeah I guess this is pretty cool? $e^x=\\sum_{i=0}^\\infty \\frac{1}{i!}x^1$ We could definitely take some sick $\\LaTeX$ math notes with this.\n"
   ]
  },
  {
   "cell_type": "markdown",
   "metadata": {},
   "source": [
    "\\begin{equation}\n",
    "R^2 = \n",
    "\\left({\\begin{array}{cc} c & s \\end{array}}\\right)\n",
    "\\left(\\begin{array}{cc} 1 & 0\\\\ 0 & 1 \\end{array}\\right)\n",
    "\\left(\\begin{array}{c} c \\\\ s \\end{array}\\right) \n",
    "= c^2 + s^2\n",
    "\\end{equation}\n",
    "\n",
    "\\begin{equation}\n",
    "R^2 = \n",
    "\\begin{pmatrix} c & s \\end{pmatrix} \n",
    "\\begin{pmatrix} 1 & 0\\\\ 0 & 1 \\end{pmatrix}\n",
    "\\begin{pmatrix} c \\\\ s \\end{pmatrix} \n",
    "= c^2 + s^2\n",
    "\\end{equation}\n"
   ]
  },
  {
   "cell_type": "markdown",
   "metadata": {},
   "source": [
    "The following algorithm copies vector $x\\in \\mathbb{R}^n$ into vector $y \\in \\mathbb{R}^n$, performing the operation $y := x$\n",
    "$$\\begin{equation*}\n",
    "    \\left(\n",
    "        \\begin{array}{c} \n",
    "            \\Psi_0\\\\\\ \n",
    "            \\Psi_1\\\\\\ \n",
    "             ... \\\\\\ \n",
    "            \\Psi_n-1\n",
    "        \\end{array}\n",
    "    \\right)\n",
    "    :=\n",
    "    \\left(\n",
    "        \\begin{array}{c}\n",
    "            \\chi_0\\\\\\\n",
    "            \\chi_1\\\\\\\n",
    "            ...\\\\\\\n",
    "            \\chi_n-1\n",
    "        \\end{array}\n",
    "    \\right)\n",
    "\\end{equation*}$$\n",
    "Note: $\\Psi$ = Psi\n",
    "$\\chi$ = chi"
   ]
  },
  {
   "cell_type": "markdown",
   "metadata": {},
   "source": [
    "\n"
   ]
  }
 ],
 "metadata": {
  "kernelspec": {
   "display_name": "Python 3",
   "language": "python",
   "name": "python3"
  },
  "language_info": {
   "codemirror_mode": {
    "name": "ipython",
    "version": 3
   },
   "file_extension": ".py",
   "mimetype": "text/x-python",
   "name": "python",
   "nbconvert_exporter": "python",
   "pygments_lexer": "ipython3",
   "version": "3.6.6"
  }
 },
 "nbformat": 4,
 "nbformat_minor": 2
}
