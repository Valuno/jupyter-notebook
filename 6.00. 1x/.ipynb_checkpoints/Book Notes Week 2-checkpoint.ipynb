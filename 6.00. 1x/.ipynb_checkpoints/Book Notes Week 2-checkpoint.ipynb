{
 "cells": [
  {
   "cell_type": "markdown",
   "metadata": {},
   "source": [
    "## 3.3  Approximate Solutions and Bisection Search"
   ]
  },
  {
   "cell_type": "code",
   "execution_count": null,
   "metadata": {},
   "outputs": [],
   "source": [
    "x = 123456\n",
    "epsilon = 0.01\n",
    "step = epsilon**3\n",
    "numGuesses = 0\n",
    "ans = 0.0\n",
    "while abs(ans**2 - x) >= epsilon and ans*ans <= x:\n",
    "    ans += step\n",
    "    numGuesses += 1\n",
    "print('numGuesses =', numGuesses)\n",
    "if abs(ans**2 - x) >= epsilon:\n",
    "    print('Failed on square root of', x)\n",
    "else:\n",
    "    print(ans, 'is close to square root of', x)"
   ]
  },
  {
   "cell_type": "markdown",
   "metadata": {},
   "source": [
    "This is an example of approximating a square root using exhaustive enumeration. After we try to make it find a close to exact solution, the program now takes too long to run, and if it's faster it doesn't find the solution we want. So, we have to use a different method."
   ]
  },
  {
   "cell_type": "markdown",
   "metadata": {},
   "source": [
    "Suppose we know that a good approximation to the square root of `x` lies somewhere between `0` and `max`. We can exploit the fact that numbers are **totally ordered**. That is to say, for any pair of distinct numbers,`n1` and `n2`, either `n1 < n2` or `n1 > n2`. So we can think of the square root of x as lying somewhere on the line  \n",
    "`0_____________________________________________________max`  \n",
    "and start searching that interval. Since we don't necessarily know where to start searching, let's start in the middle.  \n",
    "`0_________________________guess_______________________max`  \n",
    "If that's the right answer(most of the time it won't be), ask whether it is too big or too small. If too big, we know the answer must lie to the left. If too small, the answer must be to the right. Then we repeat the process on the smaller interval. This is called a **bisection search**. Here's an example, approximating a square root below."
   ]
  },
  {
   "cell_type": "code",
   "execution_count": 6,
   "metadata": {},
   "outputs": [
    {
     "name": "stdout",
     "output_type": "stream",
     "text": [
      "low = 0.0 high = 25 ans = 12.5\n",
      "low = 0.0 high = 12.5 ans = 6.25\n",
      "low = 0.0 high = 6.25 ans = 3.125\n",
      "low = 3.125 high = 6.25 ans = 4.6875\n",
      "low = 4.6875 high = 6.25 ans = 5.46875\n",
      "low = 4.6875 high = 5.46875 ans = 5.078125\n",
      "low = 4.6875 high = 5.078125 ans = 4.8828125\n",
      "low = 4.8828125 high = 5.078125 ans = 4.98046875\n",
      "low = 4.98046875 high = 5.078125 ans = 5.029296875\n",
      "low = 4.98046875 high = 5.029296875 ans = 5.0048828125\n",
      "low = 4.98046875 high = 5.0048828125 ans = 4.99267578125\n",
      "low = 4.99267578125 high = 5.0048828125 ans = 4.998779296875\n",
      "low = 4.998779296875 high = 5.0048828125 ans = 5.0018310546875\n",
      "numGuesses = 13\n",
      "5.00030517578125 is close to square root of 25\n"
     ]
    }
   ],
   "source": [
    "x = 25\n",
    "epsilon = 0.01\n",
    "numGuesses = 0\n",
    "low = 0.0\n",
    "high = max(1.0, x)\n",
    "ans = (high + low)/2.0\n",
    "while abs(ans**2 - x) >= epsilon:\n",
    "    print('low =', low, 'high =', high, 'ans =', ans)\n",
    "    numGuesses += 1\n",
    "    if ans**2 < x:\n",
    "        low = ans\n",
    "    else:\n",
    "        high = ans\n",
    "    ans = (high + low)/2.0\n",
    "print('numGuesses =', numGuesses)\n",
    "print(ans, 'is close to square root of', x)"
   ]
  },
  {
   "cell_type": "markdown",
   "metadata": {},
   "source": []
  }
 ],
 "metadata": {
  "kernelspec": {
   "display_name": "Python 3",
   "language": "python",
   "name": "python3"
  },
  "language_info": {
   "codemirror_mode": {
    "name": "ipython",
    "version": 3
   },
   "file_extension": ".py",
   "mimetype": "text/x-python",
   "name": "python",
   "nbconvert_exporter": "python",
   "pygments_lexer": "ipython3",
   "version": "3.6.6"
  },
  "latex_envs": {
   "LaTeX_envs_menu_present": true,
   "autoclose": true,
   "autocomplete": true,
   "bibliofile": "biblio.bib",
   "cite_by": "apalike",
   "current_citInitial": 1,
   "eqLabelWithNumbers": true,
   "eqNumInitial": 1,
   "hotkeys": {
    "equation": "Ctrl-E",
    "itemize": "Ctrl-I"
   },
   "labels_anchors": false,
   "latex_user_defs": false,
   "report_style_numbering": false,
   "user_envs_cfg": false
  }
 },
 "nbformat": 4,
 "nbformat_minor": 2
}
