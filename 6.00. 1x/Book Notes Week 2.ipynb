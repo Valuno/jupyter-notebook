{
 "cells": [
  {
   "cell_type": "markdown",
   "metadata": {},
   "source": [
    "## 3.3  Approximate Solutions and Bisection Search"
   ]
  },
  {
   "cell_type": "code",
   "execution_count": 3,
   "metadata": {},
   "outputs": [
    {
     "name": "stdout",
     "output_type": "stream",
     "text": [
      "numGuesses = 2999630\n",
      "2.9996300000653777 is close to square root of 27\n"
     ]
    }
   ],
   "source": [
    "x = 123456\n",
    "epsilon = 0.01\n",
    "step = epsilon**3\n",
    "numGuesses = 0\n",
    "ans = 0.0\n",
    "while abs(ans**2 - x) >= epsilon and ans*ans <= x:\n",
    "    ans += step\n",
    "    numGuesses += 1\n",
    "print('numGuesses =', numGuesses)\n",
    "if abs(ans**2 - x) >= epsilon:\n",
    "    print('Failed on square root of', x)\n",
    "else:\n",
    "    print(ans, 'is close to square root of', x)"
   ]
  },
  {
   "cell_type": "markdown",
   "metadata": {},
   "source": [
    "This is an example of approximating a square root using exhaustive enumeration. After we try to make it find a close to exact solution, the program now takes too long to run, and if it's faster it doesn't find the solution we want. So, we have to use a different method."
   ]
  },
  {
   "cell_type": "markdown",
   "metadata": {},
   "source": [
    "Suppose we know that a good approximation to the square root of `x` lies somewhere between `0` and `max`. We can exploit the fact that numbers are **totally ordered**. That is to say, for any pair of distinct numbers,`n1` and `n2`, either `n1 < n2` or `n1 > n2`. So we can think of the square root of x as lying somewhere on the line  \n",
    "`0_____________________________________________________max`  \n",
    "and start searching that interval. Since we don't necessarily know where to start searching, let's start in the middle.  \n",
    "`0_________________________guess_______________________max`  \n",
    "If that's the right answer(most of the time it won't be), ask whether it is too big or too small. If too big, we know the answer must lie to the left. If too small, the answer must be to the right. Then we repeat the process on the smaller interval. This is called a **bisection search**. Here's an example, approximating a square root below."
   ]
  },
  {
   "cell_type": "code",
   "execution_count": 8,
   "metadata": {},
   "outputs": [
    {
     "name": "stdout",
     "output_type": "stream",
     "text": [
      "low = 0.0 high = 25 ans = 12.5\n",
      "low = 0.0 high = 12.5 ans = 6.25\n",
      "low = 0.0 high = 6.25 ans = 3.125\n",
      "low = 3.125 high = 6.25 ans = 4.6875\n",
      "low = 4.6875 high = 6.25 ans = 5.46875\n",
      "low = 4.6875 high = 5.46875 ans = 5.078125\n",
      "low = 4.6875 high = 5.078125 ans = 4.8828125\n",
      "low = 4.8828125 high = 5.078125 ans = 4.98046875\n",
      "low = 4.98046875 high = 5.078125 ans = 5.029296875\n",
      "low = 4.98046875 high = 5.029296875 ans = 5.0048828125\n",
      "low = 4.98046875 high = 5.0048828125 ans = 4.99267578125\n",
      "low = 4.99267578125 high = 5.0048828125 ans = 4.998779296875\n",
      "low = 4.998779296875 high = 5.0048828125 ans = 5.0018310546875\n",
      "numGuesses = 13\n",
      "5.00030517578125 is close to square root of 25\n"
     ]
    }
   ],
   "source": [
    "#Figure 3.4 Using a bisection search to approximate square root\n",
    "x = 25\n",
    "epsilon = 0.01\n",
    "numGuesses = 0\n",
    "low = 0.0\n",
    "high = max(1.0, x)\n",
    "ans = (high + low)/2.0\n",
    "while abs(ans**2 - x) >= epsilon:\n",
    "    print('low =', low, 'high =', high, 'ans =', ans)\n",
    "    numGuesses += 1\n",
    "    if ans**2 < x:\n",
    "        low = ans\n",
    "    else:\n",
    "        high = ans\n",
    "    ans = (high + low)/2.0\n",
    "print('numGuesses =', numGuesses)\n",
    "print(ans, 'is close to square root of', x)"
   ]
  },
  {
   "cell_type": "markdown",
   "metadata": {},
   "source": [
    "Bisection search is a huge improvement over our earlier algorithm, which reduced the search space by only a small amount at each iteration. Bisection search divides the search space in half at each step.\n",
    "\n",
    "**Finger exercise:** What would the code in Figure 3.4 do if the statement `x = 25` were replaced by `x = -25`?  \n",
    "~~The code would end really fast because max would be 1.0 instead of 25, and low would still be 0.~~ Ok, after testing it, the code produces an infinite loop. I suppose this is the case because x = -25, but low = 0 and high = 1, so the ans will be a number approaching zero, and the while loop will go on forever because `ans**2 - x` will never not be $\\geq$ to `epsilon`, and it will never find the real answer.  \n",
    "\n",
    "**Finger exercise:** What would have to be changed to make the code in Figure 3.4 work for finding an approximation to the cube root of both negative and positive numbers? (Hint: think about changing `low` to ensure that the answer lies within the region being searched.)  \n",
    "Well this was simple, all we had to do was change `ans**2` to `ans**3`, and then change the range if x was negative."
   ]
  },
  {
   "cell_type": "code",
   "execution_count": 1,
   "metadata": {},
   "outputs": [
    {
     "name": "stdout",
     "output_type": "stream",
     "text": [
      "low = -27 high = 0 ans = -13.5\n",
      "low = -13.5 high = 0 ans = -6.75\n",
      "low = -6.75 high = 0 ans = -3.375\n",
      "low = -3.375 high = 0 ans = -1.6875\n",
      "low = -3.375 high = -1.6875 ans = -2.53125\n",
      "low = -3.375 high = -2.53125 ans = -2.953125\n",
      "low = -3.375 high = -2.953125 ans = -3.1640625\n",
      "low = -3.1640625 high = -2.953125 ans = -3.05859375\n",
      "low = -3.05859375 high = -2.953125 ans = -3.005859375\n",
      "low = -3.005859375 high = -2.953125 ans = -2.9794921875\n",
      "low = -3.005859375 high = -2.9794921875 ans = -2.99267578125\n",
      "low = -3.005859375 high = -2.99267578125 ans = -2.999267578125\n",
      "low = -3.005859375 high = -2.999267578125 ans = -3.0025634765625\n",
      "low = -3.0025634765625 high = -2.999267578125 ans = -3.00091552734375\n",
      "numGuesses = 14\n",
      "-3.000091552734375 is close to cube root of -27\n"
     ]
    }
   ],
   "source": [
    "#Finger exercise to approximate the cube root of a positive or negative number\n",
    "x = -27\n",
    "epsilon = 0.01\n",
    "numGuesses = 0\n",
    "#sets range based on if x is positive or negative\n",
    "if x * -1 == abs(x):\n",
    "    low = x\n",
    "    high = 0\n",
    "else:\n",
    "    low = 0.0\n",
    "    high = max(1.0, x)\n",
    "ans = (high + low)/2.0\n",
    "while abs(ans**3 - x) >= epsilon:\n",
    "    print('low =', low, 'high =', high, 'ans =', ans)\n",
    "    numGuesses += 1\n",
    "    if ans**3 < x:\n",
    "        low = ans\n",
    "    else:\n",
    "        high = ans\n",
    "    ans = (high + low)/2.0\n",
    "print('numGuesses =', numGuesses)\n",
    "print(ans, 'is close to cube root of', x)"
   ]
  },
  {
   "cell_type": "markdown",
   "metadata": {},
   "source": [
    "***\n",
    "## 3.4 A Few Words About Using Floats"
   ]
  }
 ],
 "metadata": {
  "kernelspec": {
   "display_name": "Python 3",
   "language": "python",
   "name": "python3"
  },
  "language_info": {
   "codemirror_mode": {
    "name": "ipython",
    "version": 3
   },
   "file_extension": ".py",
   "mimetype": "text/x-python",
   "name": "python",
   "nbconvert_exporter": "python",
   "pygments_lexer": "ipython3",
   "version": "3.6.6"
  },
  "latex_envs": {
   "LaTeX_envs_menu_present": true,
   "autoclose": true,
   "autocomplete": true,
   "bibliofile": "biblio.bib",
   "cite_by": "apalike",
   "current_citInitial": 1,
   "eqLabelWithNumbers": true,
   "eqNumInitial": 1,
   "hotkeys": {
    "equation": "Ctrl-E",
    "itemize": "Ctrl-I"
   },
   "labels_anchors": false,
   "latex_user_defs": false,
   "report_style_numbering": false,
   "user_envs_cfg": false
  }
 },
 "nbformat": 4,
 "nbformat_minor": 2
}
