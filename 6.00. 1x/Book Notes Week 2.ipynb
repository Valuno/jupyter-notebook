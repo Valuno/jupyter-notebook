{
 "cells": [
  {
   "cell_type": "markdown",
   "metadata": {},
   "source": [
    "## 3.3  Approximate Solutions and Bisection Search"
   ]
  },
  {
   "cell_type": "code",
   "execution_count": 12,
   "metadata": {},
   "outputs": [
    {
     "ename": "KeyboardInterrupt",
     "evalue": "",
     "output_type": "error",
     "traceback": [
      "\u001b[1;31m---------------------------------------------------------------------------\u001b[0m",
      "\u001b[1;31mKeyboardInterrupt\u001b[0m                         Traceback (most recent call last)",
      "\u001b[1;32m<ipython-input-12-5dd6594b215c>\u001b[0m in \u001b[0;36m<module>\u001b[1;34m()\u001b[0m\n\u001b[0;32m      6\u001b[0m \u001b[0mans\u001b[0m \u001b[1;33m=\u001b[0m \u001b[1;36m0.0\u001b[0m\u001b[1;33m\u001b[0m\u001b[0m\n\u001b[0;32m      7\u001b[0m \u001b[1;32mwhile\u001b[0m \u001b[0mabs\u001b[0m\u001b[1;33m(\u001b[0m\u001b[0mans\u001b[0m\u001b[1;33m**\u001b[0m\u001b[1;36m2\u001b[0m \u001b[1;33m-\u001b[0m \u001b[0mx\u001b[0m\u001b[1;33m)\u001b[0m \u001b[1;33m>=\u001b[0m \u001b[0mepsilon\u001b[0m \u001b[1;32mand\u001b[0m \u001b[0mans\u001b[0m\u001b[1;33m*\u001b[0m\u001b[0mans\u001b[0m \u001b[1;33m<=\u001b[0m \u001b[0mx\u001b[0m\u001b[1;33m:\u001b[0m\u001b[1;33m\u001b[0m\u001b[0m\n\u001b[1;32m----> 8\u001b[1;33m     \u001b[0mans\u001b[0m \u001b[1;33m+=\u001b[0m \u001b[0mstep\u001b[0m\u001b[1;33m\u001b[0m\u001b[0m\n\u001b[0m\u001b[0;32m      9\u001b[0m     \u001b[0mnumGuesses\u001b[0m \u001b[1;33m+=\u001b[0m \u001b[1;36m1\u001b[0m\u001b[1;33m\u001b[0m\u001b[0m\n\u001b[0;32m     10\u001b[0m \u001b[0mprint\u001b[0m\u001b[1;33m(\u001b[0m\u001b[1;34m'numGuesses ='\u001b[0m\u001b[1;33m,\u001b[0m \u001b[0mnumGuesses\u001b[0m\u001b[1;33m)\u001b[0m\u001b[1;33m\u001b[0m\u001b[0m\n",
      "\u001b[1;31mKeyboardInterrupt\u001b[0m: "
     ]
    }
   ],
   "source": [
    "#exhaustive enumerative square root\n",
    "x = 123456\n",
    "epsilon = 0.01\n",
    "step = epsilon**3\n",
    "numGuesses = 0\n",
    "ans = 0.0\n",
    "while abs(ans**2 - x) >= epsilon and ans*ans <= x:\n",
    "    ans += step\n",
    "    numGuesses += 1\n",
    "print('numGuesses =', numGuesses)\n",
    "if abs(ans**2 - x) >= epsilon:\n",
    "    print('Failed on square root of', x)\n",
    "else:\n",
    "    print(ans, 'is close to square root of', x)"
   ]
  },
  {
   "cell_type": "markdown",
   "metadata": {},
   "source": [
    "This is an example of approximating a square root using exhaustive enumeration. After we try to make it find a close to exact solution, the program now takes too long to run, and if it's faster it doesn't find the solution we want. So, we have to use a different method."
   ]
  },
  {
   "cell_type": "markdown",
   "metadata": {},
   "source": [
    "Suppose we know that a good approximation to the square root of `x` lies somewhere between `0` and `max`. We can exploit the fact that numbers are **totally ordered**. That is to say, for any pair of distinct numbers,`n1` and `n2`, either `n1 < n2` or `n1 > n2`. So we can think of the square root of x as lying somewhere on the line  \n",
    "`0_____________________________________________________max`  \n",
    "and start searching that interval. Since we don't necessarily know where to start searching, let's start in the middle.  \n",
    "`0_________________________guess_______________________max`  \n",
    "If that's the right answer(most of the time it won't be), ask whether it is too big or too small. If too big, we know the answer must lie to the left. If too small, the answer must be to the right. Then we repeat the process on the smaller interval. This is called a **bisection search**. Here's an example, approximating a square root below."
   ]
  },
  {
   "cell_type": "code",
   "execution_count": 22,
   "metadata": {},
   "outputs": [
    {
     "name": "stdout",
     "output_type": "stream",
     "text": [
      "low = 0.0 high = 25 ans = 12.5\n",
      "low = 0.0 high = 12.5 ans = 6.25\n",
      "low = 0.0 high = 6.25 ans = 3.125\n",
      "low = 3.125 high = 6.25 ans = 4.6875\n",
      "low = 4.6875 high = 6.25 ans = 5.46875\n",
      "low = 4.6875 high = 5.46875 ans = 5.078125\n",
      "low = 4.6875 high = 5.078125 ans = 4.8828125\n",
      "low = 4.8828125 high = 5.078125 ans = 4.98046875\n",
      "low = 4.98046875 high = 5.078125 ans = 5.029296875\n",
      "low = 4.98046875 high = 5.029296875 ans = 5.0048828125\n",
      "low = 4.98046875 high = 5.0048828125 ans = 4.99267578125\n",
      "low = 4.99267578125 high = 5.0048828125 ans = 4.998779296875\n",
      "low = 4.998779296875 high = 5.0048828125 ans = 5.0018310546875\n",
      "numGuesses = 13\n",
      "5.00030517578125 is close to square root of 25\n"
     ]
    }
   ],
   "source": [
    "#Figure 3.4 Using a bisection search to approximate square root\n",
    "x = 25\n",
    "epsilon = 0.01\n",
    "numGuesses = 0\n",
    "low = 0.0\n",
    "high = max(1.0, x)\n",
    "ans = (high + low)/2.0\n",
    "while abs(ans**2 - x) >= epsilon:\n",
    "    print('low =', low, 'high =', high, 'ans =', ans)\n",
    "    numGuesses += 1\n",
    "    if ans**2 < x:\n",
    "        low = ans\n",
    "    else:\n",
    "        high = ans\n",
    "    ans = (high + low)/2.0\n",
    "print('numGuesses =', numGuesses)\n",
    "print(ans, 'is close to square root of', x)"
   ]
  },
  {
   "cell_type": "markdown",
   "metadata": {},
   "source": [
    "Bisection search is a huge improvement over our earlier algorithm, which reduced the search space by only a small amount at each iteration. Bisection search divides the search space in half at each step.\n",
    "\n",
    "**Finger exercise:** What would the code in Figure 3.4 do if the statement `x = 25` were replaced by `x = -25`?  \n",
    "~~The code would end really fast because max would be 1.0 instead of 25, and low would still be 0.~~ Ok, after testing it, the code produces an infinite loop. I suppose this is the case because x = -25, but low = 0 and high = 1, so the ans will be a number approaching zero, and the while loop will go on forever because `ans**2 - x` will never not be $\\geq$ to `epsilon`, and it will never find the real answer.  \n",
    "\n",
    "**Finger exercise:** What would have to be changed to make the code in Figure 3.4 work for finding an approximation to the cube root of both negative and positive numbers? (Hint: think about changing `low` to ensure that the answer lies within the region being searched.)  \n",
    "Well this was simple, all we had to do was change `ans**2` to `ans**3`, and then change the range if x was negative."
   ]
  },
  {
   "cell_type": "code",
   "execution_count": 20,
   "metadata": {},
   "outputs": [
    {
     "name": "stdout",
     "output_type": "stream",
     "text": [
      "low = -27 high = 0 ans = -13.5\n",
      "low = -13.5 high = 0 ans = -6.75\n",
      "low = -6.75 high = 0 ans = -3.375\n",
      "low = -3.375 high = 0 ans = -1.6875\n",
      "low = -3.375 high = -1.6875 ans = -2.53125\n",
      "low = -3.375 high = -2.53125 ans = -2.953125\n",
      "low = -3.375 high = -2.953125 ans = -3.1640625\n",
      "low = -3.1640625 high = -2.953125 ans = -3.05859375\n",
      "low = -3.05859375 high = -2.953125 ans = -3.005859375\n",
      "low = -3.005859375 high = -2.953125 ans = -2.9794921875\n",
      "low = -3.005859375 high = -2.9794921875 ans = -2.99267578125\n",
      "low = -3.005859375 high = -2.99267578125 ans = -2.999267578125\n",
      "low = -3.005859375 high = -2.999267578125 ans = -3.0025634765625\n",
      "low = -3.0025634765625 high = -2.999267578125 ans = -3.00091552734375\n",
      "numGuesses = 14\n",
      "-3.000091552734375 is close to cube root of -27\n"
     ]
    }
   ],
   "source": [
    "#Finger exercise to approximate the cube root of a positive or negative number\n",
    "x = -27\n",
    "epsilon = 0.01\n",
    "numGuesses = 0\n",
    "#sets range based on if x is positive or negative\n",
    "if x * -1 == abs(x):\n",
    "    low = x\n",
    "    high = 0\n",
    "else:\n",
    "    low = 0.0\n",
    "    high = max(1.0, x)\n",
    "ans = (high + low)/2.0\n",
    "while abs(ans**3 - x) >= epsilon:\n",
    "    print('low =', low, 'high =', high, 'ans =', ans)\n",
    "    numGuesses += 1\n",
    "    if ans**3 < x:\n",
    "        low = ans\n",
    "    else:\n",
    "        high = ans\n",
    "    ans = (high + low)/2.0\n",
    "print('numGuesses =', numGuesses)\n",
    "print(ans, 'is close to cube root of', x)"
   ]
  },
  {
   "cell_type": "markdown",
   "metadata": {},
   "source": [
    "***\n",
    "## 3.4 A Few Words About Using Floats"
   ]
  },
  {
   "cell_type": "code",
   "execution_count": 4,
   "metadata": {},
   "outputs": [
    {
     "name": "stdout",
     "output_type": "stream",
     "text": [
      "0.9999999999999999 is not 1.0\n"
     ]
    }
   ],
   "source": [
    "x = 0.0\n",
    "for i in range(10):\n",
    "    x = x + 0.1\n",
    "if x == 1.0:\n",
    "    print(x, '= 1.0')\n",
    "else:\n",
    "    print(x, 'is not 1.0')"
   ]
  },
  {
   "cell_type": "markdown",
   "metadata": {},
   "source": [
    "A binary number is represented by a sequence of digits each of which is either 0 or 1. These digits are often called **bits**. The rightmost digit is the $2^0$ place, the next digit towards the left is the $2^1$ place, etc. For example, the sequence of binary digits `101` represents $1*4 + 0*2 + 1*1 = 5.$ How many different numbers can be represented by a sequence of length $n?\\: 2^n.$\n",
    "\n",
    "**Finger exercise**: What is the decimal equivalent of the binary number `10011`? $$2^0 * 1 + 2^1 * 1 + 2^2 * 0 + 2^3 * 0 + 2^4 * 1$$\n",
    "$$= 1 + 2 + 0 + 0 + 16 = 19$$"
   ]
  },
  {
   "cell_type": "markdown",
   "metadata": {},
   "source": [
    "- Non-integer numbers are implmeented using a represtantation called **floating point**.\n",
    "- Represent a number(in decimal) as a pair of integers, the **significant digits** of the number and an **exponent**.\n",
    "    - For example, 1.949 would be represented as the pair (1949, -3), which stands for the product $1949 \\times 10^{-3}.$\n",
    "- The number of significant digits determines the **precision** with which numbers can be represented.\n",
    "    - For example, if there were only two significant digits, the number `1.949` could not be represented exactly. It would have to be converted to an approximation, in this case `1.9`.\n",
    "- That approximation is called the **rounded value**."
   ]
  },
  {
   "cell_type": "markdown",
   "metadata": {},
   "source": [
    "**Binary representations**\n",
    "- Modern computers use binary, not decimal, representations.\n",
    "- For example, the number `0.625 (5/8)` would be represented by the pair `(101,011)`; because `5/8` is `0.101` in binary and `-11` is the binary representation of `-3`, the pair `(101,-11)` stands for $5 \\times 2^{-3} = 5/8 = 0.625.$"
   ]
  },
  {
   "cell_type": "code",
   "execution_count": 4,
   "metadata": {},
   "outputs": [
    {
     "name": "stdout",
     "output_type": "stream",
     "text": [
      "0.9999999999999999 is not 1.0\n"
     ]
    }
   ],
   "source": [
    "x = 0.0\n",
    "for i in range(10):\n",
    "    x = x + 0.1\n",
    "if x == 1.0:\n",
    "    print(x, '= 1.0')\n",
    "else:\n",
    "    print(x, 'is not 1.0')"
   ]
  },
  {
   "cell_type": "markdown",
   "metadata": {
    "cell_style": "center"
   },
   "source": [
    "So going back to this example, well in my interpreter we can see that the output is not exactly equal to 1.0, so it returns the output that it does.\n",
    "- Adding 0.1 ten times does not produce the same result as multiplying 0.1 by 10 in the world of computers.\n",
    "- Print x will print 1.0 rather than the variable x because Python does some automatic rounding.\n",
    "- However, what's being displayed does not necessarily match the value stored in the machine.\n",
    "\n",
    "If you want to explicitly round a floating point number, use the `round` function. The expression `round(x, numDigits)` returns the floating point number equivalent to rounding the value of `x` to `numDigits` decimal digits following the decimal point."
   ]
  },
  {
   "cell_type": "code",
   "execution_count": 5,
   "metadata": {},
   "outputs": [
    {
     "name": "stdout",
     "output_type": "stream",
     "text": [
      "1.414\n"
     ]
    }
   ],
   "source": [
    "#For example:\n",
    "print(round(2**0.5,3))"
   ]
  },
  {
   "cell_type": "markdown",
   "metadata": {},
   "source": [
    "Most of the time the difference between floating point and real numbers doesn't matter too much. However, one thing that is almost always worth worrying about is tests for equality.  \n",
    "**It is almost always more appropriate to ask whether two floating point values are close enough to each other, not whether they are identical.**  \n",
    "For example, it is better to write `abs(x-y) < 0.0001` rather than `x ==y`."
   ]
  },
  {
   "cell_type": "code",
   "execution_count": 6,
   "metadata": {},
   "outputs": [],
   "source": [
    "# I guess this value is the epsilon we've seen floating around."
   ]
  },
  {
   "cell_type": "markdown",
   "metadata": {},
   "source": [
    "Another thing to worry about is the accumulation of rounding errors. Most of the time things work out OK because sometimes the number stored in the computer is a little bigger than intended, and sometimes it is a little smaller than intended. However, in some programs, the errors will all be in the same direction and accumulate over time."
   ]
  },
  {
   "cell_type": "code",
   "execution_count": 7,
   "metadata": {},
   "outputs": [],
   "source": [
    "# This one just got me, in the guess my number bisection search exercise."
   ]
  },
  {
   "cell_type": "markdown",
   "metadata": {},
   "source": [
    "***\n",
    "## 3.5 Newton-Raphson\n",
    "\n",
    "The most commonly used approximation algorithm is usually attributed to Isaac Newton. It's typically called Newton's method, but sometimes it's called the Newton-Raphson method. It can be used to find the real roots of monay functions, but we're looking at it in the context of finding the real roots of a polynomial with one variable.\n",
    "\n",
    "A **polynomial** with one variable(by convention, we will write the variable as `x`) is either zero or the sum of a finite number of nonzero terms, e.g., $3x^2 + 2x + 3.$ Each term consists of a constant(the **coefficient** of the term) multiplied by a variable, raised to a nonnegative integer exponent(**degree**). The degree of a polynomial is the largest degree of any single term.\n",
    "\n",
    "If $p$ is a polynomial and $r$ a real number, we will write $p(r)$ to stand for the value of the polynomial when $x = r.$ A **root** of the polynomial $p$ is a solution to the equation $p = 0$, i.e., an $r$ such that $p(r) = 0.$ So, for example, the problem of finding an approximation to the square root of `24` can be formulated as finding an $x$ such that $x^2 - 24 \\approx 0.$\n",
    "\n",
    "Newton proved a theorem that implies that if a value, call it `guess`, is an approximation to a root of a polynomial, then `guess` - p(`guess`)/p'(`guess`), where `p'` is the first derivative of `p`, is a better approximation.\n",
    "\n",
    "For any constant $k$ and any coefficient $c$, the first deriviative of $cx^2 + k$ is $2cx.$ For example, the first derivative of $x^2 - k$ is $2x.$ Therefore, we know that we can improve on the current guess, call it $y$, by choosing as our next guess $y - (y^2 - k)/2y.$ This is called **successive approximation**. "
   ]
  },
  {
   "cell_type": "code",
   "execution_count": 11,
   "metadata": {},
   "outputs": [
    {
     "name": "stdout",
     "output_type": "stream",
     "text": [
      "Square root of 24.0 is about 4.8989887432139305\n"
     ]
    }
   ],
   "source": [
    "# Newton-Raphson for square root\n",
    "# Find x such that x**2 - 24 is within epsilon of 0\n",
    "epsilon = 0.01\n",
    "k = 24.0\n",
    "guess = k/2.0\n",
    "while abs(guess*guess - k) >= epsilon:\n",
    "    guess = guess - (((guess**2)) - k) /(2*guess)\n",
    "print('Square root of', k, 'is about', guess)"
   ]
  },
  {
   "cell_type": "markdown",
   "metadata": {},
   "source": [
    "**Finger exercise:** Add some code to the implementation of Newton-Raphson that keeps track of the number of iterations used to find the root. use that code as part of program that compares the efficiency of Newton-Raphson and bisection search. (You should discover that Newton-Raphson is more efficient.)"
   ]
  },
  {
   "cell_type": "code",
   "execution_count": 29,
   "metadata": {},
   "outputs": [
    {
     "name": "stdout",
     "output_type": "stream",
     "text": [
      "Input a number: 50\n",
      "The square root of 50 is 7.0709228515625 using bisection, and 7.0710679289844185 using Newton.\n",
      "Bisection went through 13 guesses, and Newton went through 5 guesses.\n",
      "Newton is faster than Bisection.\n"
     ]
    }
   ],
   "source": [
    "# Newton Bisection Comparison\n",
    "# Bisection\n",
    "x = int(input(\"Input a number: \"))\n",
    "epsilon = 0.01\n",
    "numGuesses = 0\n",
    "low = 0.0\n",
    "high = max(1.0, x)\n",
    "ans = (high + low)/2.0\n",
    "while abs(ans**2 - x) >= epsilon:\n",
    "    numGuesses += 1\n",
    "    if ans**2 < x:\n",
    "        low = ans\n",
    "    else:\n",
    "        high = ans\n",
    "    ans = (high + low)/2.0\n",
    "#print('numGuesses =', numGuesses)\n",
    "#print(ans, 'is close to square root of', x)\n",
    "# Newton\n",
    "epsilon = 0.01\n",
    "iteration = 0\n",
    "k = x\n",
    "guess = k/2.0\n",
    "while abs(guess*guess - k) >= epsilon:\n",
    "    guess = guess - (((guess**2)) - k) /(2*guess)\n",
    "    iteration += 1\n",
    "#print('Square root of', k, 'is about', guess)\n",
    "print(\"The square root of\", x, \"is\", ans, \"using bisection, and\", guess, 'using Newton.')\n",
    "print('Bisection went through', numGuesses, 'guesses, and Newton went through', iteration, 'guesses.')\n",
    "if(iteration < numGuesses):\n",
    "    print('Newton is faster than Bisection.')\n",
    "else:\n",
    "    print('Bisection is faster than Newton.')"
   ]
  },
  {
   "cell_type": "code",
   "execution_count": null,
   "metadata": {},
   "outputs": [],
   "source": []
  }
 ],
 "metadata": {
  "kernelspec": {
   "display_name": "Python 3",
   "language": "python",
   "name": "python3"
  },
  "language_info": {
   "codemirror_mode": {
    "name": "ipython",
    "version": 3
   },
   "file_extension": ".py",
   "mimetype": "text/x-python",
   "name": "python",
   "nbconvert_exporter": "python",
   "pygments_lexer": "ipython3",
   "version": "3.6.6"
  },
  "latex_envs": {
   "LaTeX_envs_menu_present": true,
   "autoclose": true,
   "autocomplete": true,
   "bibliofile": "biblio.bib",
   "cite_by": "apalike",
   "current_citInitial": 1,
   "eqLabelWithNumbers": true,
   "eqNumInitial": 1,
   "hotkeys": {
    "equation": "Ctrl-E",
    "itemize": "Ctrl-I"
   },
   "labels_anchors": false,
   "latex_user_defs": false,
   "report_style_numbering": false,
   "user_envs_cfg": false
  }
 },
 "nbformat": 4,
 "nbformat_minor": 2
}
