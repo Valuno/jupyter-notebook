{
 "cells": [
  {
   "cell_type": "markdown",
   "metadata": {},
   "source": [
    "## 3.3  Approximate Solutions and Bisection Search"
   ]
  },
  {
   "cell_type": "code",
   "execution_count": 12,
   "metadata": {},
   "outputs": [
    {
     "ename": "KeyboardInterrupt",
     "evalue": "",
     "output_type": "error",
     "traceback": [
      "\u001b[1;31m---------------------------------------------------------------------------\u001b[0m",
      "\u001b[1;31mKeyboardInterrupt\u001b[0m                         Traceback (most recent call last)",
      "\u001b[1;32m<ipython-input-12-5dd6594b215c>\u001b[0m in \u001b[0;36m<module>\u001b[1;34m()\u001b[0m\n\u001b[0;32m      6\u001b[0m \u001b[0mans\u001b[0m \u001b[1;33m=\u001b[0m \u001b[1;36m0.0\u001b[0m\u001b[1;33m\u001b[0m\u001b[0m\n\u001b[0;32m      7\u001b[0m \u001b[1;32mwhile\u001b[0m \u001b[0mabs\u001b[0m\u001b[1;33m(\u001b[0m\u001b[0mans\u001b[0m\u001b[1;33m**\u001b[0m\u001b[1;36m2\u001b[0m \u001b[1;33m-\u001b[0m \u001b[0mx\u001b[0m\u001b[1;33m)\u001b[0m \u001b[1;33m>=\u001b[0m \u001b[0mepsilon\u001b[0m \u001b[1;32mand\u001b[0m \u001b[0mans\u001b[0m\u001b[1;33m*\u001b[0m\u001b[0mans\u001b[0m \u001b[1;33m<=\u001b[0m \u001b[0mx\u001b[0m\u001b[1;33m:\u001b[0m\u001b[1;33m\u001b[0m\u001b[0m\n\u001b[1;32m----> 8\u001b[1;33m     \u001b[0mans\u001b[0m \u001b[1;33m+=\u001b[0m \u001b[0mstep\u001b[0m\u001b[1;33m\u001b[0m\u001b[0m\n\u001b[0m\u001b[0;32m      9\u001b[0m     \u001b[0mnumGuesses\u001b[0m \u001b[1;33m+=\u001b[0m \u001b[1;36m1\u001b[0m\u001b[1;33m\u001b[0m\u001b[0m\n\u001b[0;32m     10\u001b[0m \u001b[0mprint\u001b[0m\u001b[1;33m(\u001b[0m\u001b[1;34m'numGuesses ='\u001b[0m\u001b[1;33m,\u001b[0m \u001b[0mnumGuesses\u001b[0m\u001b[1;33m)\u001b[0m\u001b[1;33m\u001b[0m\u001b[0m\n",
      "\u001b[1;31mKeyboardInterrupt\u001b[0m: "
     ]
    }
   ],
   "source": [
    "#exhaustive enumerative square root\n",
    "x = 123456\n",
    "epsilon = 0.01\n",
    "step = epsilon**3\n",
    "numGuesses = 0\n",
    "ans = 0.0\n",
    "while abs(ans**2 - x) >= epsilon and ans*ans <= x:\n",
    "    ans += step\n",
    "    numGuesses += 1\n",
    "print('numGuesses =', numGuesses)\n",
    "if abs(ans**2 - x) >= epsilon:\n",
    "    print('Failed on square root of', x)\n",
    "else:\n",
    "    print(ans, 'is close to square root of', x)"
   ]
  },
  {
   "cell_type": "markdown",
   "metadata": {},
   "source": [
    "This is an example of approximating a square root using exhaustive enumeration. After we try to make it find a close to exact solution, the program now takes too long to run, and if it's faster it doesn't find the solution we want. So, we have to use a different method."
   ]
  },
  {
   "cell_type": "markdown",
   "metadata": {},
   "source": [
    "Suppose we know that a good approximation to the square root of `x` lies somewhere between `0` and `max`. We can exploit the fact that numbers are **totally ordered**. That is to say, for any pair of distinct numbers,`n1` and `n2`, either `n1 < n2` or `n1 > n2`. So we can think of the square root of x as lying somewhere on the line  \n",
    "`0_____________________________________________________max`  \n",
    "and start searching that interval. Since we don't necessarily know where to start searching, let's start in the middle.  \n",
    "`0_________________________guess_______________________max`  \n",
    "If that's the right answer(most of the time it won't be), ask whether it is too big or too small. If too big, we know the answer must lie to the left. If too small, the answer must be to the right. Then we repeat the process on the smaller interval. This is called a **bisection search**. Here's an example, approximating a square root below."
   ]
  },
  {
   "cell_type": "code",
   "execution_count": 22,
   "metadata": {},
   "outputs": [
    {
     "name": "stdout",
     "output_type": "stream",
     "text": [
      "low = 0.0 high = 25 ans = 12.5\n",
      "low = 0.0 high = 12.5 ans = 6.25\n",
      "low = 0.0 high = 6.25 ans = 3.125\n",
      "low = 3.125 high = 6.25 ans = 4.6875\n",
      "low = 4.6875 high = 6.25 ans = 5.46875\n",
      "low = 4.6875 high = 5.46875 ans = 5.078125\n",
      "low = 4.6875 high = 5.078125 ans = 4.8828125\n",
      "low = 4.8828125 high = 5.078125 ans = 4.98046875\n",
      "low = 4.98046875 high = 5.078125 ans = 5.029296875\n",
      "low = 4.98046875 high = 5.029296875 ans = 5.0048828125\n",
      "low = 4.98046875 high = 5.0048828125 ans = 4.99267578125\n",
      "low = 4.99267578125 high = 5.0048828125 ans = 4.998779296875\n",
      "low = 4.998779296875 high = 5.0048828125 ans = 5.0018310546875\n",
      "numGuesses = 13\n",
      "5.00030517578125 is close to square root of 25\n"
     ]
    }
   ],
   "source": [
    "#Figure 3.4 Using a bisection search to approximate square root\n",
    "x = 25\n",
    "epsilon = 0.01\n",
    "numGuesses = 0\n",
    "low = 0.0\n",
    "high = max(1.0, x)\n",
    "ans = (high + low)/2.0\n",
    "while abs(ans**2 - x) >= epsilon:\n",
    "    print('low =', low, 'high =', high, 'ans =', ans)\n",
    "    numGuesses += 1\n",
    "    if ans**2 < x:\n",
    "        low = ans\n",
    "    else:\n",
    "        high = ans\n",
    "    ans = (high + low)/2.0\n",
    "print('numGuesses =', numGuesses)\n",
    "print(ans, 'is close to square root of', x)"
   ]
  },
  {
   "cell_type": "markdown",
   "metadata": {},
   "source": [
    "Bisection search is a huge improvement over our earlier algorithm, which reduced the search space by only a small amount at each iteration. Bisection search divides the search space in half at each step.\n",
    "\n",
    "**Finger exercise:** What would the code in Figure 3.4 do if the statement `x = 25` were replaced by `x = -25`?  \n",
    "~~The code would end really fast because max would be 1.0 instead of 25, and low would still be 0.~~ Ok, after testing it, the code produces an infinite loop. I suppose this is the case because x = -25, but low = 0 and high = 1, so the ans will be a number approaching zero, and the while loop will go on forever because `ans**2 - x` will never not be $\\geq$ to `epsilon`, and it will never find the real answer.  \n",
    "\n",
    "**Finger exercise:** What would have to be changed to make the code in Figure 3.4 work for finding an approximation to the cube root of both negative and positive numbers? (Hint: think about changing `low` to ensure that the answer lies within the region being searched.)  \n",
    "Well this was simple, all we had to do was change `ans**2` to `ans**3`, and then change the range if x was negative."
   ]
  },
  {
   "cell_type": "code",
   "execution_count": 20,
   "metadata": {},
   "outputs": [
    {
     "name": "stdout",
     "output_type": "stream",
     "text": [
      "low = -27 high = 0 ans = -13.5\n",
      "low = -13.5 high = 0 ans = -6.75\n",
      "low = -6.75 high = 0 ans = -3.375\n",
      "low = -3.375 high = 0 ans = -1.6875\n",
      "low = -3.375 high = -1.6875 ans = -2.53125\n",
      "low = -3.375 high = -2.53125 ans = -2.953125\n",
      "low = -3.375 high = -2.953125 ans = -3.1640625\n",
      "low = -3.1640625 high = -2.953125 ans = -3.05859375\n",
      "low = -3.05859375 high = -2.953125 ans = -3.005859375\n",
      "low = -3.005859375 high = -2.953125 ans = -2.9794921875\n",
      "low = -3.005859375 high = -2.9794921875 ans = -2.99267578125\n",
      "low = -3.005859375 high = -2.99267578125 ans = -2.999267578125\n",
      "low = -3.005859375 high = -2.999267578125 ans = -3.0025634765625\n",
      "low = -3.0025634765625 high = -2.999267578125 ans = -3.00091552734375\n",
      "numGuesses = 14\n",
      "-3.000091552734375 is close to cube root of -27\n"
     ]
    }
   ],
   "source": [
    "#Finger exercise to approximate the cube root of a positive or negative number\n",
    "x = -27\n",
    "epsilon = 0.01\n",
    "numGuesses = 0\n",
    "#sets range based on if x is positive or negative\n",
    "if x * -1 == abs(x):\n",
    "    low = x\n",
    "    high = 0\n",
    "else:\n",
    "    low = 0.0\n",
    "    high = max(1.0, x)\n",
    "ans = (high + low)/2.0\n",
    "while abs(ans**3 - x) >= epsilon:\n",
    "    print('low =', low, 'high =', high, 'ans =', ans)\n",
    "    numGuesses += 1\n",
    "    if ans**3 < x:\n",
    "        low = ans\n",
    "    else:\n",
    "        high = ans\n",
    "    ans = (high + low)/2.0\n",
    "print('numGuesses =', numGuesses)\n",
    "print(ans, 'is close to cube root of', x)"
   ]
  },
  {
   "cell_type": "markdown",
   "metadata": {},
   "source": [
    "***\n",
    "## 3.4 A Few Words About Using Floats"
   ]
  },
  {
   "cell_type": "code",
   "execution_count": 4,
   "metadata": {},
   "outputs": [
    {
     "name": "stdout",
     "output_type": "stream",
     "text": [
      "0.9999999999999999 is not 1.0\n"
     ]
    }
   ],
   "source": [
    "x = 0.0\n",
    "for i in range(10):\n",
    "    x = x + 0.1\n",
    "if x == 1.0:\n",
    "    print(x, '= 1.0')\n",
    "else:\n",
    "    print(x, 'is not 1.0')"
   ]
  },
  {
   "cell_type": "markdown",
   "metadata": {},
   "source": [
    "A binary number is represented by a sequence of digits each of which is either 0 or 1. These digits are often called **bits**. The rightmost digit is the $2^0$ place, the next digit towards the left is the $2^1$ place, etc. For example, the sequence of binary digits `101` represents $1*4 + 0*2 + 1*1 = 5.$ How many different numbers can be represented by a sequence of length $n?\\: 2^n.$\n",
    "\n",
    "**Finger exercise**: What is the decimal equivalent of the binary number `10011`? $$2^0 * 1 + 2^1 * 1 + 2^2 * 0 + 2^3 * 0 + 2^4 * 1$$\n",
    "$$= 1 + 2 + 0 + 0 + 16 = 19$$"
   ]
  },
  {
   "cell_type": "markdown",
   "metadata": {},
   "source": [
    "- Non-integer numbers are implmeented using a represtantation called **floating point**.\n",
    "- Represent a number(in decimal) as a pair of integers, the **significant digits** of the number and an **exponent**.\n",
    "    - For example, 1.949 would be represented as the pair (1949, -3), which stands for the product $1949 \\times 10^{-3}.$\n",
    "- The number of significant digits determines the **precision** with which numbers can be represented.\n",
    "    - For example, if there were only two significant digits, the number `1.949` could not be represented exactly. It would have to be converted to an approximation, in this case `1.9`.\n",
    "- That approximation is called the **rounded value**."
   ]
  },
  {
   "cell_type": "markdown",
   "metadata": {},
   "source": [
    "**Binary representations**\n",
    "- Modern computers use binary, not decimal, representations.\n",
    "- For example, the number `0.625 (5/8)` would be represented by the pair `(101,011)`; because `5/8` is `0.101` in binary and `-11` is the binary representation of `-3`, the pair `(101,-11)` stands for $5 \\times 2^{-3} = 5/8 = 0.625.$"
   ]
  },
  {
   "cell_type": "code",
   "execution_count": 4,
   "metadata": {},
   "outputs": [
    {
     "name": "stdout",
     "output_type": "stream",
     "text": [
      "0.9999999999999999 is not 1.0\n"
     ]
    }
   ],
   "source": [
    "x = 0.0\n",
    "for i in range(10):\n",
    "    x = x + 0.1\n",
    "if x == 1.0:\n",
    "    print(x, '= 1.0')\n",
    "else:\n",
    "    print(x, 'is not 1.0')"
   ]
  },
  {
   "cell_type": "markdown",
   "metadata": {
    "cell_style": "center"
   },
   "source": [
    "So going back to this example, well in my interpreter we can see that the output is not exactly equal to 1.0, so it returns the output that it does.\n",
    "- Adding 0.1 ten times does not produce the same result as multiplying 0.1 by 10 in the world of computers.\n",
    "- Print x will print 1.0 rather than the variable x because Python does some automatic rounding.\n",
    "- However, what's being displayed does not necessarily match the value stored in the machine.\n",
    "\n",
    "If you want to explicitly round a floating point number, use the `round` function. The expression `round(x, numDigits)` returns the floating point number equivalent to rounding the value of `x` to `numDigits` decimal digits following the decimal point."
   ]
  },
  {
   "cell_type": "code",
   "execution_count": 5,
   "metadata": {},
   "outputs": [
    {
     "name": "stdout",
     "output_type": "stream",
     "text": [
      "1.414\n"
     ]
    }
   ],
   "source": [
    "#For example:\n",
    "print(round(2**0.5,3))"
   ]
  },
  {
   "cell_type": "markdown",
   "metadata": {},
   "source": [
    "Most of the time the difference between floating point and real numbers doesn't matter too much. However, one thing that is almost always worth worrying about is tests for equality.  \n",
    "**It is almost always more appropriate to ask whether two floating point values are close enough to each other, not whether they are identical.**  \n",
    "For example, it is better to write `abs(x-y) < 0.0001` rather than `x ==y`."
   ]
  },
  {
   "cell_type": "code",
   "execution_count": 6,
   "metadata": {},
   "outputs": [],
   "source": [
    "# I guess this value is the epsilon we've seen floating around."
   ]
  },
  {
   "cell_type": "markdown",
   "metadata": {},
   "source": [
    "Another thing to worry about is the accumulation of rounding errors. Most of the time things work out OK because sometimes the number stored in the computer is a little bigger than intended, and sometimes it is a little smaller than intended. However, in some programs, the errors will all be in the same direction and accumulate over time."
   ]
  },
  {
   "cell_type": "code",
   "execution_count": 7,
   "metadata": {},
   "outputs": [],
   "source": [
    "# This one just got me, in the guess my number bisection search exercise."
   ]
  },
  {
   "cell_type": "markdown",
   "metadata": {},
   "source": [
    "***\n",
    "## 3.5 Newton-Raphson\n",
    "\n",
    "The most commonly used approximation algorithm is usually attributed to Isaac Newton. It's typically called Newton's method, but sometimes it's called the Newton-Raphson method. It can be used to find the real roots of monay functions, but we're looking at it in the context of finding the real roots of a polynomial with one variable.\n",
    "\n",
    "A **polynomial** with one variable(by convention, we will write the variable as `x`) is either zero or the sum of a finite number of nonzero terms, e.g., $3x^2 + 2x + 3.$ Each term consists of a constant(the **coefficient** of the term) multiplied by a variable, raised to a nonnegative integer exponent(**degree**). The degree of a polynomial is the largest degree of any single term.\n",
    "\n",
    "If $p$ is a polynomial and $r$ a real number, we will write $p(r)$ to stand for the value of the polynomial when $x = r.$ A **root** of the polynomial $p$ is a solution to the equation $p = 0$, i.e., an $r$ such that $p(r) = 0.$ So, for example, the problem of finding an approximation to the square root of `24` can be formulated as finding an $x$ such that $x^2 - 24 \\approx 0.$\n",
    "\n",
    "Newton proved a theorem that implies that if a value, call it `guess`, is an approximation to a root of a polynomial, then `guess` - p(`guess`)/p'(`guess`), where `p'` is the first derivative of `p`, is a better approximation.\n",
    "\n",
    "For any constant $k$ and any coefficient $c$, the first deriviative of $cx^2 + k$ is $2cx.$ For example, the first derivative of $x^2 - k$ is $2x.$ Therefore, we know that we can improve on the current guess, call it $y$, by choosing as our next guess $y - (y^2 - k)/2y.$ This is called **successive approximation**. "
   ]
  },
  {
   "cell_type": "code",
   "execution_count": 11,
   "metadata": {},
   "outputs": [
    {
     "name": "stdout",
     "output_type": "stream",
     "text": [
      "Square root of 24.0 is about 4.8989887432139305\n"
     ]
    }
   ],
   "source": [
    "# Newton-Raphson for square root\n",
    "# Find x such that x**2 - 24 is within epsilon of 0\n",
    "epsilon = 0.01\n",
    "k = 24.0\n",
    "guess = k/2.0\n",
    "while abs(guess*guess - k) >= epsilon:\n",
    "    guess = guess - (((guess**2)) - k) /(2*guess)\n",
    "print('Square root of', k, 'is about', guess)"
   ]
  },
  {
   "cell_type": "markdown",
   "metadata": {},
   "source": [
    "**Finger exercise:** Add some code to the implementation of Newton-Raphson that keeps track of the number of iterations used to find the root. use that code as part of program that compares the efficiency of Newton-Raphson and bisection search. (You should discover that Newton-Raphson is more efficient.)"
   ]
  },
  {
   "cell_type": "code",
   "execution_count": 29,
   "metadata": {},
   "outputs": [
    {
     "name": "stdout",
     "output_type": "stream",
     "text": [
      "Input a number: 50\n",
      "The square root of 50 is 7.0709228515625 using bisection, and 7.0710679289844185 using Newton.\n",
      "Bisection went through 13 guesses, and Newton went through 5 guesses.\n",
      "Newton is faster than Bisection.\n"
     ]
    }
   ],
   "source": [
    "# Newton Bisection Comparison\n",
    "# Bisection\n",
    "x = int(input(\"Input a number: \"))\n",
    "epsilon = 0.01\n",
    "numGuesses = 0\n",
    "low = 0.0\n",
    "high = max(1.0, x)\n",
    "ans = (high + low)/2.0\n",
    "while abs(ans**2 - x) >= epsilon:\n",
    "    numGuesses += 1\n",
    "    if ans**2 < x:\n",
    "        low = ans\n",
    "    else:\n",
    "        high = ans\n",
    "    ans = (high + low)/2.0\n",
    "#print('numGuesses =', numGuesses)\n",
    "#print(ans, 'is close to square root of', x)\n",
    "# Newton\n",
    "epsilon = 0.01\n",
    "iteration = 0\n",
    "k = x\n",
    "guess = k/2.0\n",
    "while abs(guess*guess - k) >= epsilon:\n",
    "    guess = guess - (((guess**2)) - k) /(2*guess)\n",
    "    iteration += 1\n",
    "#print('Square root of', k, 'is about', guess)\n",
    "print(\"The square root of\", x, \"is\", ans, \"using bisection, and\", guess, 'using Newton.')\n",
    "print('Bisection went through', numGuesses, 'guesses, and Newton went through', iteration, 'guesses.')\n",
    "if(iteration < numGuesses):\n",
    "    print('Newton is faster than Bisection.')\n",
    "else:\n",
    "    print('Bisection is faster than Newton.')"
   ]
  },
  {
   "cell_type": "markdown",
   "metadata": {},
   "source": [
    "# 4 Functions, Scoping, And Abstraction\n",
    "\n",
    "- We've introduced numbers, assignments, input/output, comparisons, and looping constructs.\n",
    "- In a theoretical sense, this is as powerful as you will ever need.\n",
    "- Such languages are called **Turing complete.** This means if a problem can be solved by computation, it can be solved by only these operations that we've done.\n",
    "- All of our code has been a single sequence of instructions, all merged together."
   ]
  },
  {
   "cell_type": "code",
   "execution_count": null,
   "metadata": {},
   "outputs": [],
   "source": [
    "#Figure 3.4 Using a bisection search to approximate square root\n",
    "x = 25\n",
    "epsilon = 0.01\n",
    "numGuesses = 0\n",
    "low = 0.0\n",
    "high = max(1.0, x)\n",
    "ans = (high + low)/2.0\n",
    "while abs(ans**2 - x) >= epsilon:\n",
    "    print('low =', low, 'high =', high, 'ans =', ans)\n",
    "    numGuesses += 1\n",
    "    if ans**2 < x:\n",
    "        low = ans\n",
    "    else:\n",
    "        high = ans\n",
    "    ans = (high + low)/2.0\n",
    "print('numGuesses =', numGuesses)\n",
    "print(ans, 'is close to square root of', x)"
   ]
  },
  {
   "cell_type": "markdown",
   "metadata": {},
   "source": [
    "- This is a reasonable piece of code, but we aren't able to reuse it because it only works for the values denoted by `x` and `epsilon`. So, we can't use it other more complicated computations.\n",
    "- If we wanted a program to compute cube roots, or a program that computes square roots and cube roots, or even a program that computes square roots in two different places, the program would contain chunks of almost identical code. \n",
    "- This is very bad.\n",
    "- **The more code a program contains, the more chance there is for something to go wrong, and the harder the code is to maintain.**  \n",
    "\n",
    "- Python provides several linguistic features that make it relatively easy to generalize and reuse code.\n",
    "- The most important is the function.\n",
    "***"
   ]
  },
  {
   "cell_type": "markdown",
   "metadata": {},
   "source": [
    "## 4.1 Functions and Scoping\n",
    "\n",
    "### 4.1.1 Function Definitions \n",
    "\n",
    "In python each **function definition** is of the form  "
   ]
  },
  {
   "cell_type": "code",
   "execution_count": 34,
   "metadata": {},
   "outputs": [],
   "source": [
    "# def name of function (list of formal parameters):\n",
    "#     body of function"
   ]
  },
  {
   "cell_type": "markdown",
   "metadata": {},
   "source": [
    "For example, we could define the function `max` by the code"
   ]
  },
  {
   "cell_type": "code",
   "execution_count": 35,
   "metadata": {},
   "outputs": [],
   "source": [
    "def max(x,y):\n",
    "    if x > y:\n",
    "        return x\n",
    "    else:\n",
    "        return y"
   ]
  },
  {
   "cell_type": "markdown",
   "metadata": {},
   "source": [
    "- `def` is a reserved word that tells Python that a function is about to be defined. The function name is simply a name that is used to refer to the function.\n",
    "- The names in the parentheses following the function name are the **formal parameters** of the function.\n",
    "- When the function is used, the formal parameters are bound(as in an assighment statement) to the **actual parameters**(often referred to as **arguments**) of the **function invocation**(also refered to as a **function call**).\n",
    "* For example, `max(3,4)` binds 3 to x, and 4 to y."
   ]
  },
  {
   "cell_type": "markdown",
   "metadata": {},
   "source": [
    "- **return** is a special statement that can only be used within the body of a function\n",
    "- A function call is an expression, and like all expressions it has a value.\n",
    "- That value is returned by the invoked function."
   ]
  },
  {
   "cell_type": "markdown",
   "metadata": {},
   "source": [
    "To summarize, when a function is called:\n",
    "1. The expression that make up the actual parameters are evaluated, and the formal parameters of the function are bound to the resulting values. For example, the invocation `max(3+4, z)` will bind the formal parameter `x` to `7` and the formal parameter `y` to whatever value the variable `z` has when the invocation is evaluated.\n",
    "2. The **point of execution** (the next instruction to be executed) moves from the point of invocation to the first statement in the body of the function.\n",
    "3. The code in the body of the function is executed until either a return statement is encountered, in which case the value of the expression following the `return` becomes the value of the function invocation, or there are no more statements to execute, in which case the function returns the value `None`. (If no expression follows the `return`, the value of the invocation is `None`.)\n",
    "4. The value of invocation is the returned value.\n",
    "5. The point of execution is transferred back to the code immediately following the invocation.\n",
    "\n",
    "Parameters provide something called **lambda abstraction**, allowing programmers to write code that manipulates not specific objects, but instead whatever objects the caller of the function chooses to use as actual parameters.\n",
    "\n",
    "**Finger exercise**: Write a function `isIn` that accepts two strings as arguments and returns `True` if either string occurs anywhere in the the other, and `False` otherwise. Hint: you might want to use the built-in `str` operation `in`."
   ]
  },
  {
   "cell_type": "code",
   "execution_count": 37,
   "metadata": {},
   "outputs": [],
   "source": [
    "def isIn(str1, str2):\n",
    "    if str1 in str2:\n",
    "        return True\n",
    "    elif str2 in str1:\n",
    "        return True\n",
    "    else:\n",
    "        return False"
   ]
  },
  {
   "cell_type": "code",
   "execution_count": 40,
   "metadata": {},
   "outputs": [
    {
     "name": "stdout",
     "output_type": "stream",
     "text": [
      "Enter string 1: samantha\n",
      "Enter string 2: sam\n"
     ]
    },
    {
     "data": {
      "text/plain": [
       "True"
      ]
     },
     "execution_count": 40,
     "metadata": {},
     "output_type": "execute_result"
    }
   ],
   "source": [
    "a = input(\"Enter string 1: \")\n",
    "b = input(\"Enter string 2: \")\n",
    "isIn(a, b)"
   ]
  },
  {
   "cell_type": "code",
   "execution_count": 41,
   "metadata": {},
   "outputs": [],
   "source": [
    "#Sick, that was pretty easy."
   ]
  },
  {
   "cell_type": "markdown",
   "metadata": {},
   "source": [
    "### 4.1.2 Keyword Arguments and Default Values\n",
    "\n",
    "In Python, there are two ways that formal parameters get bound to actual parameters. The most common method, which is the only one we have used thus far, is called **positional**- the first formal parameter is bound to the first actual parameter, the second formal to the second actual, etc. Python also supports what it calls **keyword arguments**, in which formals are bound to actuals using the name of the formal parameter."
   ]
  },
  {
   "cell_type": "code",
   "execution_count": 207,
   "metadata": {},
   "outputs": [],
   "source": [
    "#Figure 4.2 Function that prints a name.\n",
    "def printName(firstName, lastName, reverse):\n",
    "    if reverse:\n",
    "        print(lastName + ', ' + firstName)\n",
    "    else:\n",
    "        print(firstName, lastName)"
   ]
  },
  {
   "cell_type": "markdown",
   "metadata": {},
   "source": [
    "This function `printName` assumes that `firstName` and `lastName` are strings and that `reverse` is a Boolean.\n",
    "- Keyword arguments are commonly usd in conjunction with **default parameter values.** We can, for example, write"
   ]
  },
  {
   "cell_type": "code",
   "execution_count": 210,
   "metadata": {},
   "outputs": [],
   "source": [
    "def printName(firstName, lastName, reverse = False):\n",
    "    if reverse:\n",
    "        print(lastName + ', ' + firstName)\n",
    "    else:\n",
    "        print(firstName, lastName)"
   ]
  },
  {
   "cell_type": "markdown",
   "metadata": {},
   "source": [
    "Default values allow programmers to call a function with fewer than the specified number of arguments. For example"
   ]
  },
  {
   "cell_type": "code",
   "execution_count": 211,
   "metadata": {},
   "outputs": [
    {
     "name": "stdout",
     "output_type": "stream",
     "text": [
      "Olga Puchmajerova\n",
      "Puchmajerova, Olga\n",
      "Puchmajerova, Olga\n"
     ]
    }
   ],
   "source": [
    "printName('Olga', 'Puchmajerova')\n",
    "printName('Olga', 'Puchmajerova', True)\n",
    "printName('Olga', 'Puchmajerova', reverse = True)"
   ]
  },
  {
   "cell_type": "markdown",
   "metadata": {},
   "source": [
    "### 4.1.3 Scoping  \n"
   ]
  },
  {
   "cell_type": "code",
   "execution_count": 214,
   "metadata": {},
   "outputs": [
    {
     "name": "stdout",
     "output_type": "stream",
     "text": [
      "x = 4\n",
      "z = 4\n",
      "x = 3\n",
      "y = 2\n"
     ]
    }
   ],
   "source": [
    "def f(x): #name x used as formal parameter\n",
    "    y = 1\n",
    "    x = x + y\n",
    "    print('x =', x)\n",
    "    return x\n",
    "\n",
    "x = 3\n",
    "y = 2\n",
    "z = f(x) #value of x used as actual parameter\n",
    "print('z =', z)\n",
    "print('x =', x)\n",
    "print('y =', y)"
   ]
  },
  {
   "cell_type": "markdown",
   "metadata": {},
   "source": [
    "What's going on here? At the call of `f`, the formal parameter `x` is locally bound to the value of the actual parameter `x`. It is important to note that **though the actual and formal parameters have the same name, they are not the same variable.**"
   ]
  },
  {
   "cell_type": "markdown",
   "metadata": {},
   "source": [
    "Each function defines a new **name space**, also called a **scope**. The formal parameter `x` and the **local variable** `y` that are used in `f` exist only within the scope of the definition of `f`. The assignment statement `x = x + y` within the function body binds the local name `x` to the object `4`. The assignments in `f` have no effect at all on the bindings of the names `x` and `y` that exist outside the scope of `f`. "
   ]
  },
  {
   "cell_type": "markdown",
   "metadata": {},
   "source": [
    "Here's one way to think about this:\n",
    "- At top level, i.e., the level of the shell, a **symbol table** keeps track of all names defined at that level and their current bindings.\n",
    "- When a function is called, a new symbol table (sometimes called a **stack frame**) is created. This table keeps track of all names defined within the function (including the formal parameters) and their current bindings. If a function is a called from within the function body, yet another stack frame is created.\n",
    "- When the function completes, its stack frame goes away.\n",
    "\n",
    "In python, one can always determine the scope of a name by looking at the program text. This is called **static** or **lexical scoping**. Figure 4.3 contains a slightly more elaborate example."
   ]
  },
  {
   "cell_type": "code",
   "execution_count": null,
   "metadata": {},
   "outputs": [],
   "source": [
    "#Figure 4.3 Nested scope\n",
    "def f(x):\n",
    "    def g():\n",
    "        x = 'abc'\n",
    "        print('x =', x)\n",
    "    def h():\n",
    "        z = x\n",
    "        print('z =', z)\n",
    "    x = x + 1\n",
    "    print('x =', x)\n",
    "    h()\n",
    "    g()\n",
    "    print('x =', x)\n",
    "    return g\n",
    "\n",
    "x = 3\n",
    "z = f(x)\n",
    "print('x =', x)\n",
    "print('z =', z)\n",
    "z()"
   ]
  },
  {
   "cell_type": "markdown",
   "metadata": {},
   "source": [
    "<img src= \"https://puu.sh/BuBqg/31651656f1.png\">"
   ]
  },
  {
   "cell_type": "markdown",
   "metadata": {},
   "source": [
    "- The first column contains the set of names known outside the body of the function `f`, i.e., the variables `x` and `z`, and the function name `f`.\n",
    "- First assignment statement binds `x` to `3`.\n",
    "- z = f(x) invokes the function `f` to which `x` is bound. It creates a stack frame.\n",
    "- We never remove frames from the middle of the stack, but only the most recently added frame.\n",
    "- **stack**s have a \"last in first out\" behavior which is why they are named so.\n",
    "- come back here later to understand stacks better, no need to understand it all now."
   ]
  },
  {
   "cell_type": "markdown",
   "metadata": {},
   "source": [
    "### 4.2 Specifications\n",
    "\n",
    "- Figure 4.5 generalizes the bisection search we used to find square roots in Figure 4.1. It also contains `testFindRoot`, which can be used to test if `findRoot` works as intended.  \n",
    "- `testFindRoot` is almost as long as `findRoot`.\n",
    "- **test functions** might seem like a waste of time, but writing testing code can often pay big dividends. It's certainly better than **debugging**.\n",
    "- The text between triple quotation marks is called a **docstring** in Python. These are used to provide specifications of functions.\n",
    "- These docstrings can be accessed using the built-in function `help`.\n"
   ]
  },
  {
   "cell_type": "code",
   "execution_count": 5,
   "metadata": {},
   "outputs": [
    {
     "name": "stdout",
     "output_type": "stream",
     "text": [
      "Help on built-in function abs in module builtins:\n",
      "\n",
      "abs(x, /)\n",
      "    Return the absolute value of the argument.\n",
      "\n"
     ]
    }
   ],
   "source": [
    "help(abs)"
   ]
  },
  {
   "cell_type": "code",
   "execution_count": 8,
   "metadata": {},
   "outputs": [],
   "source": [
    "#Figure 4.5 Finding an approximation to a root\n",
    "def findRoot(x, power, epsilon):\n",
    "    \"\"\"Assumes x and epsilon int or float, power an int,\n",
    "        epsilon > 0 & power >= 1\n",
    "    Returns float y such that y**power is within epsilon of x.\n",
    "        If such a float does not exist, it returns None\"\"\"\n",
    "    if x < 0 and power%2 == 0:\n",
    "        return None\n",
    "    low = min(-1.0, x)\n",
    "    high = max(1.0, x)\n",
    "    ans = (high + low)/ 2.0\n",
    "    while abs(ans**power - x) >= epsilon:\n",
    "        if ans**power < x:\n",
    "            low = ans\n",
    "        else:\n",
    "            high = ans\n",
    "        ans = (high + low)/2.0\n",
    "    return ans\n",
    "\n",
    "def testFindRoot():\n",
    "    epsilon = 0.0001\n",
    "    for x in (0.25, -0.25, 2, -2, 8, -8):\n",
    "        for power in range(1, 4):\n",
    "            print('Testing x = ' + str(x) + \\\n",
    "                  ' and power = ' + str(power))\n",
    "            result = findRoot(x, power, epsilon)\n",
    "            if result == None:\n",
    "                print('   No root')\n",
    "            else:\n",
    "                print('   ', result**power, '~=', x)"
   ]
  },
  {
   "cell_type": "code",
   "execution_count": 9,
   "metadata": {},
   "outputs": [
    {
     "name": "stdout",
     "output_type": "stream",
     "text": [
      "Help on function findRoot in module __main__:\n",
      "\n",
      "findRoot(x, power, epsilon)\n",
      "    Assumes x and epsilon int or float, power an int,\n",
      "        epsilon > 0 & power >= 1\n",
      "    Returns float y such that y**power is within epsilon of x.\n",
      "        If such a float does not exist, it returns None\n",
      "\n"
     ]
    }
   ],
   "source": [
    "help(findRoot)"
   ]
  },
  {
   "cell_type": "markdown",
   "metadata": {},
   "source": [
    "A **specification** of a function defines a contract between the implementer of a function and those who will be writing programs that use the function. We will refer to users of a function as its **clients**. The contract can be thought of as containing two parts.\n",
    "1. **Assumptions**: Conditions that must be met by the clients of the function.\n",
    "2. **Guarantees**: Describe what the function will return to the clients.\n",
    "\n",
    "Functions are a way of creating computational elements that we can think of as primitives. Just as we have built-in functions `max` and `abs`, we would like to have the equivalent of a built-in function for finding roots and for many other complex operations. Functions faciliate this by providing decomposition and abstraction.  \n",
    "- **Decomposition** creates structure. It allows us to break a problem into modules that are reasonably self-contained, and that may be reused in different settings.\n",
    "- **Abstraction** hides detail. It allows us to use a piece of code as if it were a **black box-- that is, something whose interior details we cannot see, don't need to see, and shouldn't even want to see.** The essence of abstraction is preserving information that is relevant in a given context, and forgetting information that is irrelevant in that context.\n",
    "- Abstraction is all about forgetting. There are a lot of ways to model this, for example, the auditory apparatus of most teenagers.\n",
    "    - Teenager says: May I borrow the car tonight?\n",
    "    - Parent says: Yes, but be back before midnight, and make sure that the gas tank is full.\n",
    "    - Teenager hears: Yes.\n",
    "- The teenager has ignored all of the pesky details that he or she considers irrelevant.\n",
    "***"
   ]
  },
  {
   "cell_type": "markdown",
   "metadata": {},
   "source": [
    "## 4.3 Recursion\n",
    "\n",
    "As a descriptive method recursion is widely used, even by people who would never dream of writing a program.  \n",
    "\n",
    "Consider part of the legal code of the Unisted States defining the notion of a \"natural-born\" citizen. Roughly speaking, the definition is as follows\n",
    "1. Any child born inside the United States,\n",
    "2. Any child born in wedlock outside the United States both of whose parents are citizens of the U.S., as long as one parent has lived in the U.S. prior to the birth of the child and \n",
    "3. Any child born in wedlock outside the United States one of whose parents is a U.S. citizen who has lived at least five years in the U.S. prior to the birth of the child, provided that at least two of those years were after the citizen's fourteen birthday.\n",
    "\n",
    "The first part is simple; if you are born in the United States, you are a natural-born citizen (such as Barack Obama). If you are not born in the U.S., then one has to decide if your parents are U.S. citizens (either natural born or naturalized). To determine if your parents are U.S. citizens, you might have to look at your grandparents, and so on."
   ]
  },
  {
   "cell_type": "markdown",
   "metadata": {},
   "source": [
    "In general, a recursive defintion is made up of two parts. There is at least one **base case** that directly specifies the result for a special case (case 1 in the example above), and there is at least one **recursive (inductive) case** (cases 2 and 3 in the example above) that defines the answer in terms of the answer to the question on some other input, typically a simpler version of the same problem.\n",
    "\n",
    "The world's simplest recursive definition is probably the factorial function (typically written in mathematics using !) on natural numbers. The classic **inductive definition** is,\n",
    "$$1! = 1\\\\ (n+1)! = (n+1)*n!$$  \n",
    "The first equation defines the base case. The second equation defines factorial for all natural numbers, except the base case, in terms of the factorial of the previous number. \n",
    "\n",
    "Figure 4.6 contains both an iterative(`factI`) and a recursive(`factR`) implementation of factorial. "
   ]
  },
  {
   "cell_type": "code",
   "execution_count": 10,
   "metadata": {},
   "outputs": [],
   "source": [
    "#Figure 4.6 Iterative and recursive implementation of factorial\n",
    "def factI(n):\n",
    "    \"\"\"Assumes that n is an int > 0\n",
    "        Returns n!\"\"\"\n",
    "    result = 1\n",
    "    while n > 1:\n",
    "        result = result * n\n",
    "        n -= 1\n",
    "    return result\n",
    "\n",
    "def factR(n):\n",
    "    \"\"\"Assumes that n is an int > 0\n",
    "        Returns n!\"\"\"\n",
    "    if n == 1:\n",
    "        return n\n",
    "    else:\n",
    "        return n*factR(n - 1)"
   ]
  },
  {
   "cell_type": "markdown",
   "metadata": {},
   "source": [
    "This function is sufficiently simple that neither implmeentation is hard to follow. Still, the second is a more obvious translation of the original recursive definition.  \n",
    "It almost seems like cheating to implement `factR` by calling `factR` from within the body of `factR`. It works for the same reason that the iterative implementation works. We know that the iteration of `factI` will terminate because `n` starts out positive and each time around the loop it is reduced by 1. This means that it cannot be greater than 1 forever. Similarly, if `factR` is called with `1`, it returns a value without making a recursive call. When it does make a recursive call, it always does so with a value one less than the value with which it was called. Eventually the recursion terminates with the call `factR(1)`."
   ]
  },
  {
   "cell_type": "markdown",
   "metadata": {},
   "source": [
    "### 4.3.1 Fibonacci Numbers  \n",
    "\n",
    "The Fibonacci sequence is another common mathematical function that is usually defined recursively. Fibonacci developed this formula to quantify the growth of a population.  \n",
    "\n",
    "Suppose a newly born pair of rabbits, one male and one female are:\n",
    "- put into a pen/released into the wild\n",
    "- able to mate at the age of one month\n",
    "- have a gestation period of one month\n",
    "- never die\n",
    "- the female alawys produces a new pair(male and female) every month from its second month on  \n",
    "How many pregnant rabbits will there be at the end of six months?\n",
    "\n",
    "| Month  | Females  |\n",
    "|---|---|\n",
    "| 0  | 1  |\n",
    "| 1  | 1  |\n",
    "| 2  | 2  |\n",
    "| 3  | 3  |\n",
    "| 4  | 5  |\n",
    "| 5  | 8  |\n",
    "| 6  | 13  |  \n",
    "\n",
    "Notice that for month $n > 1,\\: \\text{females}(n) = \\text{females}(n-1) + \\text{females}(n-2).$ This is not an accident. Each female that was alive in month `n-1` will still be alive in the month `n`. The new females can be added to the females alive in month `n-1` to get the number of females in month `n`.\n",
    "\n",
    "The growth in population is described naturally by the **recurrence**:\n",
    "```Python\n",
    "females(0) = 1\n",
    "females(1) = 1\n",
    "females(n + 2) = females(n+1) + females(n)\n",
    "```\n",
    "\n",
    "This definition is a little different from the recursive definition of factorial:\n",
    "- It has two base cases, not just one. **In general, you can have as many base cases as you need**.\n",
    "- In the recursive case, there are **two recursive calls, not just one. Again, there can be as many as you need.**"
   ]
  },
  {
   "cell_type": "code",
   "execution_count": 16,
   "metadata": {},
   "outputs": [],
   "source": [
    "#Figure 4.7 Recursive implementation of Fibonacci sequence\n",
    "def fib(n):\n",
    "    \"\"\"Assumes n an int >= 0\n",
    "        Returns Fibonacci of n\"\"\"\n",
    "    if n == 0 or n == 1:\n",
    "        return 1\n",
    "    else:\n",
    "        return fib(n-1) + fib(n-2)\n",
    "\n",
    "def testFib(n):\n",
    "    for i in range(n+1):\n",
    "        print('fib of', i, '=', fib(i))"
   ]
  },
  {
   "cell_type": "markdown",
   "metadata": {},
   "source": [
    "**Finger exercise:** When the implementation of `fib` in Figure 4.7 is used to compute `fib(5)`, how many times does it compute the value of `fib(2)`?"
   ]
  },
  {
   "cell_type": "markdown",
   "metadata": {},
   "source": [
    "$fib(5)\\\\\n",
    "= fib(5-1) + fib(5-2)\\\\\n",
    "= fib(4) + fib(3)\\\\\n",
    "= fib(4-1) + fib(4-2) + fib(3-1) + fib(3-2)\\\\\n",
    "= fib(3) + fib(2) + fib(2) + fib(1)\\\\\n",
    "= fib(3-1) + fib(3-2) + 2(fib(2-2) + fib(2-1)) + 1\\\\\n",
    "= fib(2) + fib(1) + 2(fib(0) + fib(1)) + 1\\\\\n",
    "= fib(2-2) + fib(2-1) + 1 + 2(2) + 1\\\\\n",
    "= 2 + 1 + 4 + 1\\\\\n",
    "= 8\n",
    "$"
   ]
  },
  {
   "cell_type": "code",
   "execution_count": 17,
   "metadata": {},
   "outputs": [
    {
     "data": {
      "text/plain": [
       "8"
      ]
     },
     "execution_count": 17,
     "metadata": {},
     "output_type": "execute_result"
    }
   ],
   "source": [
    "fib(5)"
   ]
  },
  {
   "cell_type": "markdown",
   "metadata": {},
   "source": [
    "I guess it computes `fib(2)` 3 times?"
   ]
  },
  {
   "cell_type": "markdown",
   "metadata": {},
   "source": [
    "### 4.3.2 Palindromes\n",
    "\n",
    "Recursion is also useful for many problems that do not involve numbers. Figure 4.8 contains a function, `isPalindrome`, that checks whether a string reads the same way backwards and forwards."
   ]
  },
  {
   "cell_type": "markdown",
   "metadata": {},
   "source": [
    "```Python\n",
    "def isPalindrome(s):\n",
    "    \"\"\"Assumes s is a str\n",
    "        Returns True if the letters in s form a palindrome;\n",
    "            False otherwise. Non-letters and capitalization are ignored.\"\"\"\n",
    "    \n",
    "    def toChars(s):\n",
    "        s = s.lower()\n",
    "        letters = ''\n",
    "        for c in s:\n",
    "            if c in 'abcdefghijklmnopqrstuvwxyz':\n",
    "                letters = letters + c\n",
    "        return letters\n",
    "    \n",
    "    def isPal(s):\n",
    "        if len(s) <= 1:\n",
    "            return True\n",
    "        else:\n",
    "            return s[0] == s[-1] and isPal(s[1:-1])\n",
    "        \n",
    "    return isPal(toChars(s))\n",
    "```\n",
    "**<p style=\"text-align: center;\"> Figure 4.8 Palindrome testing </p>**"
   ]
  },
  {
   "cell_type": "markdown",
   "metadata": {},
   "source": [
    "- The function `isPalindrome` contains two **helper functions**.\n",
    "- The helper function `toChars` converts all letters to lowercase and removes all non-letters.\n",
    "- s.lower() is a built-in method that creates a string identical to s, but all the uppercase letters are converted to lowercase letters.\n",
    "- **method invocation** will be covered more when we get to classes. For now think of it like peculiar syntax for a function call. Instead of putting the first(and in this case only) argument inside parentheses following the function name, we use **dot notation** to place that argument before the function name.\n",
    "- The helper function `isPal` uses recursion to do the real work.\n",
    "- The two base cases are strings of lenght zero or one.\n",
    "- This means that the recursive part of the implementation is reached only on strings of length two or more.\n",
    "- The conjunction in the `else` clause is evaluated from left to right. The code first checks whether the first and last characters are the same, and if they are goes on to check whether the string minus those two characters is a palindrome.\n",
    "- When two Boolean-valued expressions are connected by \"and,\" each expression is called a **conjunct**. If they are connected by \"or,\" they are called **disjuncts**.\n",
    "- The code first checks whether the first and last characters are the same, and if they are, goes on to check whether the string minus those two characters is a palindrome.\n",
    "\n",
    "The implementation of `isPalindrome` is an example of a problem-solving principle known as **divide-and-conquer**. (This principle is related but different from divide-and-conquer algorithms.) The problem-solving principle is to conquer a hard problem by breaking it into a set of subproblems with the properties that\n",
    "- the subproblems are easier to solve than the original problem, and\n",
    "- solutions of the subproblems can be combined to solve the original problem.  \n",
    "In this case, we solve the problem by breaking the original problem into a simpler version of the same problem (checking whether a shorter string is a palindrome), plus some simple things we know how to do (comparing single characters). Figure 4.9 contains some code that can be used to visualize how this works."
   ]
  },
  {
   "cell_type": "markdown",
   "metadata": {},
   "source": [
    "***\n",
    "## 4.4 Global Variables\n",
    "\n",
    "If you tried called `fib` with a large number, you probably noticed that it took a very long time to run. Suppose we want to know how many recursive calls are made? We could do a careful analysis of the code and figure it out, and in Chapter 9 we will talk about how to do that. Another approach is to add some code that counts the number of calls. One way to do that uses **global variables**."
   ]
  },
  {
   "cell_type": "markdown",
   "metadata": {},
   "source": [
    "```Python\n",
    "def fib(x):\n",
    "    \"\"\"Assumes x an int >= 0\n",
    "       Returns Fibonacci of x\"\"\"\n",
    "    global numFibCalls\n",
    "    numFibCalls += 1\n",
    "    if x == 0 or x == 1:\n",
    "        return 1\n",
    "    else:\n",
    "        return fib(x-1) + fib(x-2)\n",
    "    \n",
    "def testFib(n):\n",
    "    for i in range(n+1):\n",
    "        global numFibCalls\n",
    "        numFibCalls = 0\n",
    "        print('fib of', i, '=', fib(i))\n",
    "        print('fib called', numFibCalls, 'times.')\n",
    "```\n",
    "**<p style=\"text-align: center;\"> Figure 4.10 Using a global variable </p>**"
   ]
  },
  {
   "cell_type": "markdown",
   "metadata": {},
   "source": [
    "In each function, the line of code `global numFibCalls` tells Python that the name `numCalls` should be defined at the outermost scope of the module in which the line of code appears rather than within the scope of the function in which the line of code appears--despite the fact that `numFibCalls` occurs on the left-hand side of an assignment statement in both `fib` and `testFib`. (Had we not included the code `global numFibCalls`, the name `numFibCalls` would have been local to each of `fib` and `testFib`.) The functions `fib` and `testFib` both have unfettered access to the object referenced by the variable `numFibCalls`. The function `testFib` binds `numFibCalls` to 0 each time it calls `fib`, and `fib` increments the value of `numFibCalls` each time `fib` is entered."
   ]
  },
  {
   "cell_type": "markdown",
   "metadata": {},
   "source": [
    "***\n",
    "## 4.5 Modules\n",
    "\n",
    "So far, we have operated under the assumption that our entire program is stored in one file. This is perfectly reasonable as long as programs are small. As programs get larger, however, it is typically more convenient to store different parts of them in different files. Imagine, for example, that multiple people are working on the same program. It would be a nightmare if they were all trying to update the same file. Python modules allow us to easily construct a program from code in multiple files.\n",
    "\n",
    "A **module** is a `.py` file containing Pythong definitions and statements. We could create, for example, a file `circle.py` containing\n",
    "```Python\n",
    "pi = 3.14159\n",
    "\n",
    "def area(radius):\n",
    "    return pi*(radius**2)\n",
    "\n",
    "def circumference(radius):\n",
    "    return 2*pi*radius\n",
    "\n",
    "def sphereSurface(radius):\n",
    "    return 4.0*area(radius)\n",
    "\n",
    "def sphereVolume(radius):\n",
    "    return (4.0/3.0)*pi*(radius**3)\n",
    "```"
   ]
  },
  {
   "cell_type": "markdown",
   "metadata": {},
   "source": [
    "A program gets access to a module through an `import` statement. So, for example, the code\n",
    "```Python\n",
    "    import circle\n",
    "    print(circle.pi)\n",
    "    print(circle.area(3))\n",
    "    print(circle.circumference(3))\n",
    "    print(circle.sphereSurface(3))\n",
    "```\n",
    "will print\n",
    "```Python\n",
    "    3.14159\n",
    "    28.27431\n",
    "    18.84954\n",
    "    113.09724\n",
    "```"
   ]
  },
  {
   "cell_type": "markdown",
   "metadata": {},
   "source": [
    "Modules are typically stored in individual files. Each module has its own private symbol area. Consequently, within `circle.py` we access objects (e.g. `pi` and `area`) in the usual way. Executing `import M` creates binding for `M` in the scope in which the importation occurs. Therefore, in the importing context we use dot notation to indicate that we are referring to a name defined in the imported module. For example, outside of `circle.py`, the references `pi` and `circle.pi` can (and in this case do) refe to different objects.\n",
    "\n",
    "At first glance, the use of dot notation may seem cumbersome. On the other hand, when one imports a module one often has no idea what local names might have been used in the implmentation of that module. The use of dot notation to fully qualify names avoids the possibility of getting burned by an accidental name clash. For example, the assignment statement `pi = 3.0` does not change the value of `pi` used within the `circle` module.\n",
    "\n",
    "There is a variant of the `import` statement that allows the importing program to omit the module name when accessing names defined inside the imported module. Executing the statement `from M import *` creates bindings in the current scope to all objects defined within `M`, but not to `M` itself. For example, the code\n",
    "```Python\n",
    "    from circle import *\n",
    "    print(pi)\n",
    "    print(circle.pi)\n",
    "```  \n",
    "will first print `3.14159` and then produce the error message  \n",
    "```Python\n",
    "    NameError: name `circle` is not defined\n",
    "```  \n",
    "Some Python programmers frown about using this form of `import` because they believe that it makes code more difficult to read.  \n",
    "\n",
    "- A module is imported only once per interpreter session. If you start up IDLE, import a module, and then change the contents of that module, the interpreter will still be using the original version of the module. \n",
    "- You can force the interpreter to reload all imported modules by executing `reload()`.  \n",
    "***"
   ]
  },
  {
   "cell_type": "markdown",
   "metadata": {},
   "source": [
    "## 4.6 Files\n",
    "\n",
    "Each operating system comes with its own file system for creating and accessing files. Python achieves operating-system independence by accessing files through something called a **file handle**. The code  \n",
    "    `nameHandle = open('kids', 'w')`  \n",
    "instructs the operating system to create a file with the name `kids`, and return a file handle for that file. The argument `w` to `open` indicates that the file is to be opened for writing. The following code opens a file, uses the **write** method to write two lines, and then clsoes the file. It is important to remember to close the file when the program is finished using it. Otherwise there is a risk that some or all of the writes may not be saved.  \n",
    "```Python\n",
    "    nameHandle = open('kids', 'w')\n",
    "    for i in range(2):\n",
    "        name = raw_input('Enter name: ')\n",
    "        nameHandle.write(name + '\\n')\n",
    "    nameHandle.close()\n",
    "```  \n",
    "In a string, the character \"\\\" is an escape character used to indicate that the next character should be treated in a special way. In this example, the string '\\n' indicates a new line character.  \n",
    "We can now open the file for **reading**(using the argument 'r'), and print its contents. Since Python treats a file as asequence of lines, we can use a `for` statement to iterate over the file's contents.  \n",
    "```Python\n",
    "    nameHandle = open('kids', 'r')\n",
    "    for line in nameHandle:\n",
    "        print(line)\n",
    "    nameHandle.close()\n",
    "```  \n",
    "If we had typed in the names David and Andrea, this will print\n",
    "```Python\n",
    "    David\n",
    "    \n",
    "    Andrea\n",
    "```  \n",
    "The extra line between DAvid and Andrea is there because print starts a new line each time it encoutners the '/n' at the end of each line in the file. We could have avoided printing that by writing `print(line[:-1])`. Now consider  \n",
    "```Python\n",
    "    nameHandle = open('kids', 'w')\n",
    "    nameHandle.write('Michael\\n')\n",
    "    nameHandle.write('Mark\\n')\n",
    "    nameHandle.close()\n",
    "    nameHandle = open('kids', 'r')\n",
    "    for line in nameHandle:\n",
    "        print(line[:-1])\n",
    "    nameHandle.close()\n",
    "```  \n",
    "It will print  \n",
    "```Python\n",
    "    Michael\n",
    "    Mark\n",
    "```  \n",
    "Notice that we have overwritten the previous contents of the file `kids`. If we don't want to do that we can open the file for **appending** (instead of writing) by using the argument 'a'."
   ]
  },
  {
   "cell_type": "markdown",
   "metadata": {},
   "source": [
    "Ok we're done, we didn't really understand that much though tbh."
   ]
  }
 ],
 "metadata": {
  "kernelspec": {
   "display_name": "Python 3",
   "language": "python",
   "name": "python3"
  },
  "language_info": {
   "codemirror_mode": {
    "name": "ipython",
    "version": 3
   },
   "file_extension": ".py",
   "mimetype": "text/x-python",
   "name": "python",
   "nbconvert_exporter": "python",
   "pygments_lexer": "ipython3",
   "version": "3.6.6"
  },
  "latex_envs": {
   "LaTeX_envs_menu_present": true,
   "autoclose": true,
   "autocomplete": true,
   "bibliofile": "biblio.bib",
   "cite_by": "apalike",
   "current_citInitial": 1,
   "eqLabelWithNumbers": true,
   "eqNumInitial": 1,
   "hotkeys": {
    "equation": "Ctrl-E",
    "itemize": "Ctrl-I"
   },
   "labels_anchors": false,
   "latex_user_defs": false,
   "report_style_numbering": false,
   "user_envs_cfg": false
  }
 },
 "nbformat": 4,
 "nbformat_minor": 2
}
