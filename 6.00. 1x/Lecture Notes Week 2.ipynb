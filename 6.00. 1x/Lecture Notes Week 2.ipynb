{
 "cells": [
  {
   "cell_type": "markdown",
   "metadata": {},
   "source": [
    "# Lecture Notes Week 2"
   ]
  },
  {
   "cell_type": "code",
   "execution_count": null,
   "metadata": {},
   "outputs": [],
   "source": [
    "s = \"hello\"\n",
    "print(s)\n",
    "type(s)\n",
    "#s[0] = 'y'\n",
    "s = 'y' + s[1:]\n",
    "s"
   ]
  },
  {
   "cell_type": "markdown",
   "metadata": {},
   "source": [
    "- can **slice** strings using `[start:stop:step]\n",
    "- strings are **immutable** -cannot be modified."
   ]
  },
  {
   "cell_type": "code",
   "execution_count": null,
   "metadata": {},
   "outputs": [],
   "source": [
    "s = \"abcdefgh\"\n",
    "for index in range(len(s)):\n",
    "    if s[index] == 'i' or s[index] == 'u':\n",
    "        print(\"there is an i or u\")"
   ]
  },
  {
   "cell_type": "code",
   "execution_count": null,
   "metadata": {},
   "outputs": [],
   "source": [
    "for char in s:\n",
    "    if char == 'i' or char == 'u':\n",
    "        print(\"there is an i or u\")"
   ]
  },
  {
   "cell_type": "markdown",
   "metadata": {},
   "source": [
    "These both do the same thing, but the second one is cleaner and better."
   ]
  },
  {
   "cell_type": "code",
   "execution_count": null,
   "metadata": {},
   "outputs": [],
   "source": [
    "len(\"hello, world\")"
   ]
  },
  {
   "cell_type": "markdown",
   "metadata": {},
   "source": [
    "### Approximate Solutions\n",
    "`We want these because if the answer could be a float, then the range of values for possible answers is infinite, there we need to look for something close enough.`\n",
    "- **good enough** solution\n",
    "- start with a guess and increment by some **small value**\n",
    "- decreasing increment size $\\rightarrow$ slower program\n",
    "- increasing epsilon $\\rightarrow$ less accurate answer"
   ]
  },
  {
   "cell_type": "code",
   "execution_count": null,
   "metadata": {},
   "outputs": [],
   "source": [
    "cube = 29\n",
    "epsilon = 0.01\n",
    "guess = 0.0\n",
    "increment = 0.01\n",
    "num_guesses = 0\n",
    "while abs(guess**3 - cube) >= epsilon and guess <= cube:\n",
    "    guess += increment\n",
    "    num_guesses += 1\n",
    "print('num_guesses =', num_guesses)\n",
    "if abs(guess**3 - cube) >= epsilon:\n",
    "    print('Failed on cube root of', cube)\n",
    "else:\n",
    "    print(guess, 'is close to the cube root of', cube)"
   ]
  },
  {
   "cell_type": "markdown",
   "metadata": {},
   "source": [
    "### Bisection Search\n",
    "\n",
    "- We know that the square root of x lies between 1 and x, from mathetmatics\n",
    "- Rather than starting at one and using exhaustive enumeration, pick a number(guess) in the middle of the range 1 to x.\n",
    "- If the guess isn't close enough, then if the guess is too big, search from 1 to guess, if it's too small, search from guess to x. \n",
    "- Do this check each time on the new segment until you get something close enough.\n",
    "- Each time you do this, the range of values to search is reduced by half.\n",
    "\n",
    "#### Bisection Search Convergence\n",
    "- search space\n",
    "    - first guess: $\\frac{N}{2}$\n",
    "    - second guess: $\\frac{N}{4}$\n",
    "    - gth guess $\\frac{N}{2^g}$\n",
    "- guess converges on the order of $log_2N$ steps\n",
    "- bisection search works when value of function varies monotonically with input"
   ]
  },
  {
   "cell_type": "code",
   "execution_count": null,
   "metadata": {},
   "outputs": [
    {
     "name": "stdout",
     "output_type": "stream",
     "text": [
      "Please think of a number between 0 and 100!\n",
      "50\n",
      "Is your secret number 50?\n"
     ]
    }
   ],
   "source": [
    "#exercise: guess my number\n",
    "#you(the user) thinks of an integer between 0(inclusive) and \n",
    "#100(not inclusive). The computer makes guesses, and you give it input - \n",
    "#is its guess too high or too low? \n",
    "#Using bisection search the computer will guess the user's secret number!\n",
    "\n",
    "secretNum = 50\n",
    "high = 100\n",
    "low = 0\n",
    "print(\"Please think of a number between 0 and 100!\")\n",
    "c = False\n",
    "while c != True:\n",
    "    print(secretNum)\n",
    "    print(\"Is your secret number \" + str(secretNum) + '?')\n",
    "    tooHigh =  input(\"Enter 'h' to indicate the guess is too high. Enter 'l' to indicate the guess is too low. Enter 'c' to indicate I guessed correctly.\\n\")\n",
    "    print('')\n",
    "    print(tooHigh)\n",
    "    if tooHigh == 'c':\n",
    "        #print(tooHigh)\n",
    "        c = True\n",
    "    elif tooHigh == 'h':\n",
    "        print(secretNum, low)\n",
    "        high = secretNum\n",
    "        secretNum = (high + low)/2\n",
    "    elif tooHigh == 'l':\n",
    "        print(secretNum, high)\n",
    "        low = secretNum\n",
    "        secretNum = (high + low)/2\n",
    "    else:\n",
    "        #print(tooHigh)\n",
    "        print(\"Sorry, I did not understand your input.\")\n",
    "        tooHigh = ''\n",
    "        \n"
   ]
  },
  {
   "cell_type": "code",
   "execution_count": null,
   "metadata": {},
   "outputs": [],
   "source": [
    "# Notice how if we have two print statements\n",
    "print(\"Hi\")\n",
    "print(\"there\")\n",
    "# The output will have each string on a separate line:\n",
    "# Now try adding the following:\n",
    "print(\"Hi\", end = '')\n",
    "print(\"there\")\n",
    "print(\"Hi\", end ='*')\n",
    "print(\"there\")\n",
    "#The output will place the seubsequent string on the same line\n",
    "# and will connect the two prints with the character given by end"
   ]
  }
 ],
 "metadata": {
  "kernelspec": {
   "display_name": "Python 3",
   "language": "python",
   "name": "python3"
  },
  "language_info": {
   "codemirror_mode": {
    "name": "ipython",
    "version": 3
   },
   "file_extension": ".py",
   "mimetype": "text/x-python",
   "name": "python",
   "nbconvert_exporter": "python",
   "pygments_lexer": "ipython3",
   "version": "3.6.6"
  },
  "latex_envs": {
   "LaTeX_envs_menu_present": true,
   "autoclose": true,
   "autocomplete": true,
   "bibliofile": "biblio.bib",
   "cite_by": "apalike",
   "current_citInitial": 1,
   "eqLabelWithNumbers": true,
   "eqNumInitial": 1,
   "hotkeys": {
    "equation": "Ctrl-E",
    "itemize": "Ctrl-I"
   },
   "labels_anchors": false,
   "latex_user_defs": false,
   "report_style_numbering": false,
   "user_envs_cfg": false
  }
 },
 "nbformat": 4,
 "nbformat_minor": 2
}
