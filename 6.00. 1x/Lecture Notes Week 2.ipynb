{
 "cells": [
  {
   "cell_type": "markdown",
   "metadata": {},
   "source": [
    "# Lecture Notes Week 2"
   ]
  },
  {
   "cell_type": "code",
   "execution_count": 13,
   "metadata": {},
   "outputs": [
    {
     "name": "stdout",
     "output_type": "stream",
     "text": [
      "hello\n"
     ]
    },
    {
     "data": {
      "text/plain": [
       "'yello'"
      ]
     },
     "execution_count": 13,
     "metadata": {},
     "output_type": "execute_result"
    }
   ],
   "source": [
    "s = \"hello\"\n",
    "print(s)\n",
    "type(s)\n",
    "#s[0] = 'y'\n",
    "s = 'y' + s[1:]\n",
    "s"
   ]
  },
  {
   "cell_type": "markdown",
   "metadata": {},
   "source": [
    "- can **slice** strings using `[start:stop:step]\n",
    "- strings are **immutable** -cannot be modified."
   ]
  },
  {
   "cell_type": "code",
   "execution_count": 14,
   "metadata": {},
   "outputs": [],
   "source": [
    "s = \"abcdefgh\"\n",
    "for index in range(len(s)):\n",
    "    if s[index] == 'i' or s[index] == 'u':\n",
    "        print(\"there is an i or u\")"
   ]
  },
  {
   "cell_type": "code",
   "execution_count": 15,
   "metadata": {},
   "outputs": [],
   "source": [
    "for char in s:\n",
    "    if char == 'i' or char == 'u':\n",
    "        print(\"there is an i or u\")"
   ]
  },
  {
   "cell_type": "markdown",
   "metadata": {},
   "source": [
    "These both do the same thing, but the second one is cleaner and better."
   ]
  },
  {
   "cell_type": "code",
   "execution_count": 16,
   "metadata": {},
   "outputs": [
    {
     "data": {
      "text/plain": [
       "12"
      ]
     },
     "execution_count": 16,
     "metadata": {},
     "output_type": "execute_result"
    }
   ],
   "source": [
    "len(\"hello, world\")"
   ]
  },
  {
   "cell_type": "markdown",
   "metadata": {},
   "source": [
    "## Approximate Solutions\n",
    "`We want these because if the answer could be a float, then the range of values for possible answers is infinite, there we need to look for something close enough.`\n",
    "- **good enough** solution\n",
    "- start with a guess and increment by some **small value**\n",
    "- decreasing increment size $\\rightarrow$ slower program\n",
    "- increasing epsilon $\\rightarrow$ less accurate answer"
   ]
  },
  {
   "cell_type": "code",
   "execution_count": 17,
   "metadata": {},
   "outputs": [
    {
     "name": "stdout",
     "output_type": "stream",
     "text": [
      "num_guesses = 2900\n",
      "Failed on cube root of 29\n"
     ]
    }
   ],
   "source": [
    "cube = 29\n",
    "epsilon = 0.01\n",
    "guess = 0.0\n",
    "increment = 0.01\n",
    "num_guesses = 0\n",
    "while abs(guess**3 - cube) >= epsilon and guess <= cube:\n",
    "    guess += increment\n",
    "    num_guesses += 1\n",
    "print('num_guesses =', num_guesses)\n",
    "if abs(guess**3 - cube) >= epsilon:\n",
    "    print('Failed on cube root of', cube)\n",
    "else:\n",
    "    print(guess, 'is close to the cube root of', cube)"
   ]
  },
  {
   "cell_type": "markdown",
   "metadata": {},
   "source": [
    "## Bisection Search\n",
    "\n",
    "- We know that the square root of x lies between 1 and x, from mathetmatics\n",
    "- Rather than starting at one and using exhaustive enumeration, pick a number(guess) in the middle of the range 1 to x.\n",
    "- If the guess isn't close enough, then if the guess is too big, search from 1 to guess, if it's too small, search from guess to x. \n",
    "- Do this check each time on the new segment until you get something close enough.\n",
    "- Each time you do this, the range of values to search is reduced by half.\n",
    "\n",
    "### Bisection Search Convergence\n",
    "- search space\n",
    "    - first guess: $\\frac{N}{2}$\n",
    "    - second guess: $\\frac{N}{4}$\n",
    "    - gth guess $\\frac{N}{2^g}$\n",
    "- guess converges on the order of $log_2N$ steps\n",
    "- bisection search works when value of function varies monotonically with input"
   ]
  },
  {
   "cell_type": "code",
   "execution_count": 18,
   "metadata": {},
   "outputs": [
    {
     "name": "stdout",
     "output_type": "stream",
     "text": [
      "Please think of a number between 0 and 100!\n",
      "50\n",
      "Is your secret number 50?\n",
      "Enter 'h' to indicate the guess is too high. Enter 'l' to indicate the guess is too low. Enter 'c' to indicate I guessed correctly. c\n",
      "Game over. Your secret number was: 50\n"
     ]
    }
   ],
   "source": [
    "#exercise: guess my number\n",
    "#you(the user) thinks of an integer between 0(inclusive) and \n",
    "#100(not inclusive). The computer makes guesses, and you give it input - \n",
    "#is its guess too high or too low? \n",
    "#Using bisection search the computer will guess the user's secret number!\n",
    "\n",
    "secretNum = 50\n",
    "high = 100\n",
    "low = 0\n",
    "c = False\n",
    "\n",
    "print(\"Please think of a number between 0 and 100!\")\n",
    "\n",
    "while c != True:\n",
    "    print(secretNum)\n",
    "    print(\"Is your secret number\", str(int(secretNum)) + '?')\n",
    "    tooHigh =  input(\"Enter 'h' to indicate the guess is too high. Enter 'l' to indicate the guess is too low. Enter 'c' to indicate I guessed correctly. \")\n",
    "    if tooHigh == 'c':\n",
    "        c = True\n",
    "    elif tooHigh == 'h':\n",
    "        high = secretNum\n",
    "    elif tooHigh == 'l':\n",
    "        low = secretNum\n",
    "    else:\n",
    "        print(\"Sorry, I did not understand your input.\")\n",
    "        tooHigh = ''\n",
    "    secretNum = int((high + low)/2.0)\n",
    "    \n",
    "print('Game over. Your secret number was:', int(secretNum))\n"
   ]
  },
  {
   "cell_type": "code",
   "execution_count": 19,
   "metadata": {},
   "outputs": [
    {
     "name": "stdout",
     "output_type": "stream",
     "text": [
      "Hi\n",
      "there\n",
      "Hithere\n",
      "Hi*there\n"
     ]
    }
   ],
   "source": [
    "# Notice how if we have two print statements\n",
    "print(\"Hi\")\n",
    "print(\"there\")\n",
    "# The output will have each string on a separate line:\n",
    "# Now try adding the following:\n",
    "print(\"Hi\", end = '')\n",
    "print(\"there\")\n",
    "print(\"Hi\", end ='*')\n",
    "print(\"there\")\n",
    "#The output will place the subsequent string on the same line\n",
    "# and will connect the two prints with the character given by end"
   ]
  },
  {
   "cell_type": "code",
   "execution_count": 20,
   "metadata": {
    "cell_style": "split"
   },
   "outputs": [
    {
     "data": {
      "text/plain": [
       "3"
      ]
     },
     "execution_count": 20,
     "metadata": {},
     "output_type": "execute_result"
    }
   ],
   "source": [
    "10//3"
   ]
  },
  {
   "cell_type": "code",
   "execution_count": 21,
   "metadata": {
    "cell_style": "split"
   },
   "outputs": [
    {
     "data": {
      "text/plain": [
       "3.3333333333333335"
      ]
     },
     "execution_count": 21,
     "metadata": {},
     "output_type": "execute_result"
    }
   ],
   "source": [
    "10/3"
   ]
  },
  {
   "cell_type": "markdown",
   "metadata": {},
   "source": [
    "Trying using `//` for integer division, like kiwi suggested."
   ]
  },
  {
   "cell_type": "markdown",
   "metadata": {},
   "source": [
    "### Converting Decimal Integer to Binary\n",
    "\n",
    "- Consider the example of 19 in decimal, 10011 in binary.\n",
    "- If we take remainder relative to 2 (x%2) of binary, that gives us the last binary bit.\n",
    "- If we then divide x by 2 (x//2), all the bits get shifted right\n",
    "    - `x//2` = $1*2^3 + 0*2^2 + 0*2^1 + 1*2^0 = 1001$\n",
    "- Keep doing this `x//2` operation and the remainder will be the next bit, until you're done."
   ]
  },
  {
   "cell_type": "code",
   "execution_count": 22,
   "metadata": {},
   "outputs": [
    {
     "name": "stdout",
     "output_type": "stream",
     "text": [
      "Enter a number: 94\n",
      "1011110\n"
     ]
    }
   ],
   "source": [
    "#simple binary calculator\n",
    "num = int(input(\"Enter a number: \"))\n",
    "if num < 0:\n",
    "    isNeg = True\n",
    "    num = abs(num)\n",
    "else:\n",
    "    isNeg = False\n",
    "result = ''\n",
    "if num == 0:\n",
    "    result = '0'\n",
    "while num > 0:\n",
    "    result = str(num%2) + result\n",
    "    num = num//2\n",
    "if isNeg:\n",
    "    result = '-' + result\n",
    "print(result)"
   ]
  },
  {
   "cell_type": "markdown",
   "metadata": {},
   "source": [
    "### What About Fractions?\n",
    "- Basically, convert the fractions into whole numbers(integers) and then convert to binary.\n",
    "- Divide by two like how we did before for converting to binary."
   ]
  },
  {
   "cell_type": "code",
   "execution_count": 28,
   "metadata": {},
   "outputs": [
    {
     "name": "stdout",
     "output_type": "stream",
     "text": [
      "Enter a decimal number between 0 and 1: .375\n",
      "Remainder = 0.375\n",
      "Remainder = 0.75\n",
      "Remainder = 0.5\n",
      "The binary representation of the decimal 0.375 is.011\n"
     ]
    }
   ],
   "source": [
    "# decimal to binary for a fraction\n",
    "x = float(input('Enter a decimal number between 0 and 1: '))\n",
    "\n",
    "p = 0\n",
    "while ((2**p)*x)%1 != 0:\n",
    "    print('Remainder = ' + str((2**p)*x - int((2**p)*x)))\n",
    "    p += 1\n",
    "\n",
    "num = int(x*(2**p))\n",
    "\n",
    "result = ''\n",
    "if num == 0:\n",
    "    result = '0'\n",
    "while num > 0:\n",
    "    result = str(num%2) + result\n",
    "    num = num//2\n",
    "\n",
    "for i in range(p - len(result)):\n",
    "    result = '0' + result\n",
    "\n",
    "result = result[0:-p] + '.' + result[-p:]\n",
    "print('The binary representation of the decimal ' + str(x) + ' is' + str(result))"
   ]
  },
  {
   "cell_type": "markdown",
   "metadata": {},
   "source": [
    "### Newton-Raphson\n",
    "- General approximation algorithm to find roots of a polynomial in one variable  $$p(x) = a_nx^n + a_{n-1}x^{n-1}+\\ldots + a_1x + a_0$$\n",
    "- Want to find $r$ such that $p(r) = 0$\n",
    "- For example, to find the square root of 24, find the root of $p(x) = x^2 - 24$\n",
    "- Newton showed that if $g$ is an approximation to the root, then  $$\\frac{g - p(g)}{p'(g)}$$  is a better approximation; where $p'$ is derivative of $p$\n",
    "**Brief Derivative explanation**\n",
    "- Simple case $cx^2 + k$\n",
    "- First derivative: $2cx$\n",
    "- So if polynomial is $x^2 + k,$ then derivative is $2x$\n",
    "- Newton-Raphson says given a guess $g$ for root, a better guess is  $$\\frac{g - (g^2 - k)}{2g}$$"
   ]
  },
  {
   "cell_type": "code",
   "execution_count": 29,
   "metadata": {},
   "outputs": [],
   "source": [
    "#see book notes for the program"
   ]
  },
  {
   "cell_type": "markdown",
   "metadata": {},
   "source": [
    "### Iterative Algorithms Summary\n",
    "- Guess and chech methods build on resusing same code\n",
    "    - Use a looping construct to generate guesses, then check and continue\n",
    "    \n",
    "- Generating guesses\n",
    "    - Exhaustive enumeration\n",
    "    - Bisection search\n",
    "    - Newton-Raphson(for root finding)"
   ]
  }
 ],
 "metadata": {
  "kernelspec": {
   "display_name": "Python 3",
   "language": "python",
   "name": "python3"
  },
  "language_info": {
   "codemirror_mode": {
    "name": "ipython",
    "version": 3
   },
   "file_extension": ".py",
   "mimetype": "text/x-python",
   "name": "python",
   "nbconvert_exporter": "python",
   "pygments_lexer": "ipython3",
   "version": "3.6.6"
  },
  "latex_envs": {
   "LaTeX_envs_menu_present": true,
   "autoclose": true,
   "autocomplete": true,
   "bibliofile": "biblio.bib",
   "cite_by": "apalike",
   "current_citInitial": 1,
   "eqLabelWithNumbers": true,
   "eqNumInitial": 1,
   "hotkeys": {
    "equation": "Ctrl-E",
    "itemize": "Ctrl-I"
   },
   "labels_anchors": false,
   "latex_user_defs": false,
   "report_style_numbering": false,
   "user_envs_cfg": false
  }
 },
 "nbformat": 4,
 "nbformat_minor": 2
}
