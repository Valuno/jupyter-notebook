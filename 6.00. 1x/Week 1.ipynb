{
 "cells": [
  {
   "cell_type": "markdown",
   "metadata": {},
   "source": [
    "# Book Notes"
   ]
  },
  {
   "cell_type": "markdown",
   "metadata": {},
   "source": [
    "# 3$\\quad$ SOME SIMPLE NUMERICAL PROGRAMS\n",
    "***\n",
    "## 3.1$\\quad$ Exhaustive Enumeration\n",
    "\n",
    "The code below finds the cube root of a perfect cube, **using exhaustive enumeration to find the cube root**"
   ]
  },
  {
   "cell_type": "code",
   "execution_count": 5,
   "metadata": {},
   "outputs": [
    {
     "name": "stdout",
     "output_type": "stream",
     "text": [
      "Enter an integer: 343\n",
      "Cube root of 343 is 7\n"
     ]
    }
   ],
   "source": [
    "#Find the cube root of a perfect cube\n",
    "x = int(input('Enter an integer: '))\n",
    "ans = 0\n",
    "while ans**3 < abs(x):\n",
    "    ans += 1\n",
    "if ans**3 != abs(x):\n",
    "    print(x, 'is not a perfect cube')\n",
    "else:\n",
    "    if x < 0:\n",
    "        ans = -ans\n",
    "    print('Cube root of', x, 'is', ans)"
   ]
  },
  {
   "cell_type": "markdown",
   "metadata": {},
   "source": [
    "For what values of $x$ will this program terminate?  \n",
    "\n",
    "The answer is, \"all integers.\" This can be argued quite simply.\n",
    "* The value of the expression ans**3 starts at 0, and gets larger each time through the loop.\n",
    "* When it reaches or exceeds abs(x), the loop terminates.\n",
    "* Since abs(x) is always positive there are only a finite number of iterations before the loop must terminate.\n",
    "    \n",
    "<mark>Whenever you write a loop, you should think about an appropriate **decrementing function**</mark>. This is a function that has the following properties:\n",
    "1. It maps a set of program variables into an integer.\n",
    "2. When the loop is entered, its value is nonnegative.\n",
    "3. When its value is <=0, the loop terminates.\n",
    "4. Its value is decreased everytime through the loop.\n",
    "    \n",
    "What is the decrementing function for the loop above? It is `abs(x) - ans**3`.\n",
    "\n",
    "If you add some errors, this is what happens. If you comment out `ans = 0`, then the interpreter gives an error because `ans` is not defined. If you replace `ans = ans + 1` with `ans = ans`, you're stuck in an infinite loop. Ctrl + c will get you out of the infinite loop in like, iPython and/or Spyder, but I guess not in jupyter notebook.  \n",
    "\n",
    "If you add `print('Value of the decrementing function abs(x) - ans**3 is',\\abs(x) - ans**3)` at the start of the loop, then it'll print that over and over again. The program would have run forever because the loop body is no longer reducing the distance between `ans**3` and `abs(x)`.\n",
    "\n",
    "<mark>**When confronted with a program that seems not to be terminating, experienced programmers often insert print statements, such as the one here, to test whether the decrementing function is indeed being decremented.**</mark>\n",
    "\n",
    "The algorithmic technique used in this program is a variant of **guess and check** called **exhaustive enumeration**. We enumerate all possibilities until we get to the right answer of exhaust the space of possibilities."
   ]
  },
  {
   "cell_type": "markdown",
   "metadata": {},
   "source": [
    "```Python\n",
    "#This tip on inserting print statements to debug my code which wasn't terminating was very useful, helped me out in the below finger exercise.\n",
    "```"
   ]
  },
  {
   "cell_type": "code",
   "execution_count": 6,
   "metadata": {},
   "outputs": [
    {
     "name": "stdout",
     "output_type": "stream",
     "text": [
      "Enter a positive integer: 10000\n",
      "10000\n"
     ]
    }
   ],
   "source": [
    "max = int(input('Enter a positive integer: '))\n",
    "i = 0\n",
    "while i < max:\n",
    "    i += 1\n",
    "print(i)"
   ]
  },
  {
   "cell_type": "markdown",
   "metadata": {},
   "source": [
    "See how large an integer you need to enter before there's a perceptible pause before the result is printed.  \n",
    "*There was a perceptible pause at around 10000000.*"
   ]
  },
  {
   "cell_type": "markdown",
   "metadata": {},
   "source": [
    "```Python\n",
    "#Indentation is important. if the last line, `print(i)` is on the same indentation as the previous line, the program will print 1 2 3 4 5, if `print(i)` is outside, far left, like the book shows, then it only prints 5, given input = 5.\n",
    "```"
   ]
  },
  {
   "cell_type": "markdown",
   "metadata": {},
   "source": [
    "**Finger exercise:** Write a program that asks the user to enter an integer and prints two integers, `root` and `pwr` such that `0 < pwr < 6` and `root**pwr` is equal to the integer entered by the user. If no such pair of integers exists, it should print a message to that effect."
   ]
  },
  {
   "cell_type": "code",
   "execution_count": 7,
   "metadata": {
    "code_folding": []
   },
   "outputs": [
    {
     "name": "stdout",
     "output_type": "stream",
     "text": [
      "Enter an integer: 26\n",
      "root: 26 power: 1\n"
     ]
    }
   ],
   "source": [
    "integer = int(input('Enter an integer: '))\n",
    "pwr = 0\n",
    "result = False\n",
    "while pwr < 6:\n",
    "    root = integer\n",
    "    while root > 0:\n",
    "        if root**pwr == integer:\n",
    "            result = True\n",
    "            print(\"root:\", root, \"power:\", pwr)\n",
    "            root -= 1\n",
    "        else:\n",
    "            root -= 1    \n",
    "    pwr +=1\n",
    "if pwr == 6 and result == False:\n",
    "    print(\"No pair of roots and powers exist.\")"
   ]
  },
  {
   "cell_type": "markdown",
   "metadata": {},
   "source": [
    "```Python\n",
    "#This doesn't account for imaginary roots as I imagine that's more complicated... pretty solid tho imo.\n",
    "```"
   ]
  },
  {
   "cell_type": "markdown",
   "metadata": {},
   "source": [
    "## 3.2$\\qquad$For Loops  \n",
    "The `while` loops we have used iterate over a sequence of integers. Python provides a language mechanism, the **`for` loop**, that can be used to simplify programs containing this kind of iteration.\n",
    "\n",
    "The general form of a `for` statement is (the words in asterisks are desciptions of what can appear, not actual code):\n",
    "```python\n",
    "    for *variable* in *sequence*:\n",
    "        *code block*\n",
    "```\n",
    "The variable following `for` is assigned the first value in the sequence, then the second value in the sequence, etc. until the sequence is exhausted or a **break** statement is executed within the code block. \n",
    "\n",
    "The sequence of values bound to variable is most commonly generated using the built-in function **range**, which returns a sequence containing an arithmetic progression. <mark>**The `range` function takes three integer arguments: `start, stop,` and `step`.**</mark> It produces the progression: `start, start + step, start + 2*step,` etc.  \n",
    "<mark>**If `step` is positive, the last element is the largest integer(`start` + `i*step`) less than `stop`. If `step` is negative, the last element is the smallest integer greater than `stop`.**</mark>"
   ]
  },
  {
   "cell_type": "markdown",
   "metadata": {},
   "source": [
    "## `range(start, stop, step)`"
   ]
  },
  {
   "cell_type": "code",
   "execution_count": 8,
   "metadata": {
    "cell_style": "split"
   },
   "outputs": [
    {
     "data": {
      "text/plain": [
       "range(5, 40, 10)"
      ]
     },
     "execution_count": 8,
     "metadata": {},
     "output_type": "execute_result"
    }
   ],
   "source": [
    "range(5, 40, 10)"
   ]
  },
  {
   "cell_type": "markdown",
   "metadata": {
    "cell_style": "split"
   },
   "source": [
    "\n",
    "*This doesn't output a list in Python 3, but I can confirm it does in Python 2.*\n"
   ]
  },
  {
   "cell_type": "markdown",
   "metadata": {},
   "source": [
    " "
   ]
  },
  {
   "cell_type": "code",
   "execution_count": 9,
   "metadata": {
    "cell_style": "split"
   },
   "outputs": [
    {
     "data": {
      "text/plain": [
       "[5, 15, 25, 35]"
      ]
     },
     "execution_count": 9,
     "metadata": {},
     "output_type": "execute_result"
    }
   ],
   "source": [
    "list(range(5,40,10))"
   ]
  },
  {
   "cell_type": "markdown",
   "metadata": {
    "cell_style": "split"
   },
   "source": [
    "```Python\n",
    "#But I guess if you do it like this, using the list function to display the range, it displays the desired code from the book.\n",
    "```"
   ]
  },
  {
   "cell_type": "code",
   "execution_count": 10,
   "metadata": {
    "cell_style": "split"
   },
   "outputs": [
    {
     "data": {
      "text/plain": [
       "[40, 30, 20, 10]"
      ]
     },
     "execution_count": 10,
     "metadata": {},
     "output_type": "execute_result"
    }
   ],
   "source": [
    "list(range(40,5,-10))"
   ]
  },
  {
   "cell_type": "markdown",
   "metadata": {
    "cell_style": "split"
   },
   "source": [
    "```Python\n",
    "#In Python 3, range behaves the way xrange behaves in Python 2, so there's no need to worry about it.\n",
    "#I'm not really sure what this part about specifying a sequence using a literal is about though.\n",
    "```"
   ]
  },
  {
   "cell_type": "markdown",
   "metadata": {
    "cell_style": "center"
   },
   "source": [
    "If the first argument is omitted, it defaults to 0, and if the last argument is omitted(the step size), it defaults to 1. `range(0, 3)` and `range(3)` both produce `[0, 1, 2]`. <mark>**In other words, `start` defaults to 0, and `step` defaults to 1.**</mark>\n",
    "\n",
    "Less commonly, we specify the sequence to be iterated over in a `for` loop by using a literal, e.g.(for example), `[0, 1, 2]`."
   ]
  },
  {
   "cell_type": "markdown",
   "metadata": {
    "cell_style": "split"
   },
   "source": [
    "Think about the code:\n",
    "```Python\n",
    "    x = 4\n",
    "    for i in range(0, x):\n",
    "        print(i)\n",
    "        x = 5\n",
    "```"
   ]
  },
  {
   "cell_type": "markdown",
   "metadata": {
    "cell_style": "split"
   },
   "source": [
    "Having `x = 5` inside the loop here **does not** affect the number of iterations. The `range` function in the line with `for` is evaluated just before the first iteration of the loop, and **not reevaluated for subsequent iterations**.\n",
    "\n",
    "\n",
    "\n"
   ]
  },
  {
   "cell_type": "markdown",
   "metadata": {},
   "source": [
    " "
   ]
  },
  {
   "cell_type": "code",
   "execution_count": 1,
   "metadata": {
    "cell_style": "split"
   },
   "outputs": [
    {
     "name": "stdout",
     "output_type": "stream",
     "text": [
      "0\n",
      "1\n",
      "2\n",
      "3\n"
     ]
    }
   ],
   "source": [
    "x = 4\n",
    "for i in range(0, x):\n",
    "    print(i)\n",
    "    x = 5"
   ]
  },
  {
   "cell_type": "markdown",
   "metadata": {
    "cell_style": "split"
   },
   "source": [
    "```Python\n",
    "#This returns the same thing as if 'x = 5' was \n",
    "#not in the code, so it did not affect the \n",
    "#outcome at all.\n",
    "#An interesting thing to note here, is that the \n",
    "#variable 'i' is defined inside of the for loop\n",
    "#declaration.\n",
    "```"
   ]
  },
  {
   "cell_type": "markdown",
   "metadata": {},
   "source": [
    " "
   ]
  },
  {
   "cell_type": "code",
   "execution_count": 12,
   "metadata": {
    "cell_style": "split"
   },
   "outputs": [
    {
     "name": "stdout",
     "output_type": "stream",
     "text": [
      "0\n",
      "1\n",
      "2\n",
      "3\n",
      "0\n",
      "1\n",
      "0\n",
      "1\n",
      "0\n",
      "1\n"
     ]
    }
   ],
   "source": [
    "x = 4\n",
    "for j in range(x):\n",
    "    for i in range(x):\n",
    "        print(i)\n",
    "        x = 2"
   ]
  },
  {
   "cell_type": "markdown",
   "metadata": {
    "cell_style": "split"
   },
   "source": [
    "This is the output to the above code because the `range` function in the outer loop is only evaluated once, but the `range` function in the inner loop is evaluated each time the inner `for` statement is reached.\n",
    "```Python\n",
    "#You can see this is true by how the output is grouped, it's like, [0,1,2,3], [0,1], [0,1], [0,1]. So basically, the \n",
    "#inner and outer loop both evaluate 4 times initially, but the inner loop, after the first outer loop, will evaluate \n",
    "#using the new x value, so two times instead of 4 times. It does this 3 times because of the outer loop.\n",
    "```"
   ]
  },
  {
   "cell_type": "markdown",
   "metadata": {},
   "source": [
    "The code below reimplements the exhaustive enumeration algorithm for finding cube roots that we did above. This time, it'll use a `for` loop and a `break` statement. When executed, a `break` statement exits the innermost loop in which it is enclosed."
   ]
  },
  {
   "cell_type": "code",
   "execution_count": 13,
   "metadata": {
    "cell_style": "split"
   },
   "outputs": [
    {
     "name": "stdout",
     "output_type": "stream",
     "text": [
      "Enter an integer: 343\n",
      "Cube root of 343 is 7\n"
     ]
    }
   ],
   "source": [
    "#Find the cube root of a perfect cube\n",
    "x = int(input('Enter an integer: '))\n",
    "for ans in range(0, abs(x)+1):\n",
    "    if ans**3 >= abs(x):\n",
    "        break\n",
    "if ans**3 != abs(x):\n",
    "    print(x, 'is not a perfect cube')\n",
    "else:\n",
    "    if x < 0:\n",
    "        ans = -ans\n",
    "    print('Cube root of', x,'is', ans)"
   ]
  },
  {
   "cell_type": "code",
   "execution_count": 14,
   "metadata": {
    "cell_style": "split"
   },
   "outputs": [
    {
     "name": "stdout",
     "output_type": "stream",
     "text": [
      "45\n"
     ]
    }
   ],
   "source": [
    "total = 0\n",
    "for c in '123456789':\n",
    "    total += int(c)\n",
    "print(total)"
   ]
  },
  {
   "cell_type": "code",
   "execution_count": 15,
   "metadata": {
    "cell_style": "split"
   },
   "outputs": [
    {
     "data": {
      "text/plain": [
       "45"
      ]
     },
     "execution_count": 15,
     "metadata": {},
     "output_type": "execute_result"
    }
   ],
   "source": [
    "1+2+3+4+5+6+7+8+9"
   ]
  },
  {
   "cell_type": "markdown",
   "metadata": {},
   "source": [
    "As we can see above, the `for` statement can be used to conveniently iterate over characters of a string. Ths above code adds up all the numbers in the string `'123456789'` and prints the total."
   ]
  },
  {
   "cell_type": "markdown",
   "metadata": {},
   "source": [
    "**Finger exercise:** Let `s` be a string that contains a sequence of decimal numbers separated by commas, e.g., `s = '1.23,2.4,3.123'`. Write a program that prints the sum of the numbers in `s`."
   ]
  },
  {
   "cell_type": "code",
   "execution_count": 24,
   "metadata": {
    "cell_style": "split"
   },
   "outputs": [
    {
     "name": "stdout",
     "output_type": "stream",
     "text": [
      "6.753\n"
     ]
    }
   ],
   "source": [
    "total, s = 0, \"1.23,2.4,3.123\"\n",
    "for current_number in s.split(\",\"):\n",
    "    total += float(current_number)\n",
    "print(total)"
   ]
  },
  {
   "cell_type": "code",
   "execution_count": 30,
   "metadata": {
    "cell_style": "center"
   },
   "outputs": [
    {
     "name": "stdout",
     "output_type": "stream",
     "text": [
      "How many numbers?: 5\n",
      "Enter decimal number 1: 1\n",
      "Enter decimal number 2: 2\n",
      "Enter decimal number 3: 3\n",
      "Enter decimal number 4: 4\n",
      "Enter decimal number 5: 5\n",
      "[1.0, 2.0, 3.0, 4.0, 5.0]\n",
      "1.0 2.0 3.0 4.0 5.0\n",
      "15.0\n"
     ]
    }
   ],
   "source": [
    "#n = number\n",
    "#l = list\n",
    "#s = string\n",
    "#f = float\n",
    "#e = element\n",
    "n = int(input('How many numbers?: '))\n",
    "l = []\n",
    "for n in range(0, n):\n",
    "    l.append(float(input(\"Enter decimal number \" + str(n + 1) + \": \")))\n",
    "sum = 0\n",
    "print(l)\n",
    "s = s = ' '.join(str(e) for e in l)\n",
    "print(s)\n",
    "for f in s.split(\" \"):\n",
    "    sum += float(f)\n",
    "print(sum)"
   ]
  },
  {
   "cell_type": "code",
   "execution_count": 31,
   "metadata": {
    "cell_style": "split"
   },
   "outputs": [
    {
     "data": {
      "text/plain": [
       "15"
      ]
     },
     "execution_count": 31,
     "metadata": {},
     "output_type": "execute_result"
    }
   ],
   "source": [
    "5+4+3+2+1"
   ]
  },
  {
   "cell_type": "markdown",
   "metadata": {
    "cell_style": "center"
   },
   "source": [
    "```Python\n",
    "#We finally did it, ugh that was a pain for no reason. I really have to remember that my variables keep their values from previous code blocks, so I have to rename them or use new variable names...\n",
    "```\n",
    "***"
   ]
  },
  {
   "cell_type": "markdown",
   "metadata": {},
   "source": [
    "# Lecture and Exercise Notes/Scratch (just whatever I feel like putting down)"
   ]
  },
  {
   "cell_type": "code",
   "execution_count": 25,
   "metadata": {
    "cell_style": "split"
   },
   "outputs": [
    {
     "name": "stdout",
     "output_type": "stream",
     "text": [
      "hello there, eric\n"
     ]
    },
    {
     "data": {
      "text/plain": [
       "'ric'"
      ]
     },
     "execution_count": 25,
     "metadata": {},
     "output_type": "execute_result"
    }
   ],
   "source": [
    "hi = \"hello there\"\n",
    "hi\n",
    "foo = \"this isn't right\"\n",
    "foo\n",
    "name = 'eric'\n",
    "name\n",
    "greet = hi + \", \" + name\n",
    "print(greet)\n",
    "3*'eric'\n",
    "len('eric')\n",
    "len('hi there')\n",
    "'eric'[1]\n",
    "'eric'[0]\n",
    "name\n",
    "name[0]\n",
    "'eric'[1:3]\n",
    "'eric'[:3]\n",
    "'eric'[1:]"
   ]
  },
  {
   "cell_type": "code",
   "execution_count": null,
   "metadata": {
    "cell_style": "split"
   },
   "outputs": [],
   "source": [
    "#coding demonstration from lectures, only last output\n",
    "#displayed."
   ]
  },
  {
   "cell_type": "code",
   "execution_count": 29,
   "metadata": {
    "cell_style": "split"
   },
   "outputs": [
    {
     "data": {
      "text/plain": [
       "'ab'"
      ]
     },
     "execution_count": 29,
     "metadata": {},
     "output_type": "execute_result"
    }
   ],
   "source": [
    "\"abcd\"[:2]"
   ]
  },
  {
   "cell_type": "code",
   "execution_count": 28,
   "metadata": {
    "cell_style": "split"
   },
   "outputs": [
    {
     "data": {
      "text/plain": [
       "'cd'"
      ]
     },
     "execution_count": 28,
     "metadata": {},
     "output_type": "execute_result"
    }
   ],
   "source": [
    "\"abcd\"[2:]"
   ]
  },
  {
   "cell_type": "code",
   "execution_count": 31,
   "metadata": {
    "cell_style": "split"
   },
   "outputs": [
    {
     "data": {
      "text/plain": [
       "'o'"
      ]
     },
     "execution_count": 31,
     "metadata": {},
     "output_type": "execute_result"
    }
   ],
   "source": [
    "str1 = 'hello'\n",
    "str1[-1]"
   ]
  },
  {
   "cell_type": "code",
   "execution_count": 37,
   "metadata": {
    "cell_style": "split"
   },
   "outputs": [
    {
     "data": {
      "text/plain": [
       "'helloworl'"
      ]
     },
     "execution_count": 37,
     "metadata": {},
     "output_type": "execute_result"
    }
   ],
   "source": [
    "str4 = 'helloworld'\n",
    "str4[:-1]"
   ]
  },
  {
   "cell_type": "markdown",
   "metadata": {},
   "source": [
    " "
   ]
  },
  {
   "cell_type": "code",
   "execution_count": 42,
   "metadata": {
    "cell_style": "split"
   },
   "outputs": [
    {
     "name": "stdout",
     "output_type": "stream",
     "text": [
      "1\n",
      "my fav num is 1 . x = 1\n",
      "my fav num is 1. x = 1\n"
     ]
    }
   ],
   "source": [
    "x = 1\n",
    "print(x)\n",
    "x_str = str(x)\n",
    "print(\"my fav num is\", x, \".\", \"x =\", x)\n",
    "print(\"my fav num is \" + x_str + \". \" + \"x = \" + x_str)"
   ]
  },
  {
   "cell_type": "code",
   "execution_count": 43,
   "metadata": {
    "cell_style": "split"
   },
   "outputs": [
    {
     "name": "stdout",
     "output_type": "stream",
     "text": [
      "type something \"foo\"\n",
      "\"foo\"\"foo\"\"foo\"\"foo\"\"foo\"\n"
     ]
    }
   ],
   "source": [
    "text = input(\"type something \")\n",
    "print(5*text)"
   ]
  },
  {
   "cell_type": "code",
   "execution_count": 44,
   "metadata": {
    "cell_style": "split"
   },
   "outputs": [
    {
     "data": {
      "text/plain": [
       "str"
      ]
     },
     "execution_count": 44,
     "metadata": {},
     "output_type": "execute_result"
    }
   ],
   "source": [
    "type(text)"
   ]
  },
  {
   "cell_type": "markdown",
   "metadata": {},
   "source": [
    "```Python\n",
    "# What gets read in is automatically a string, if you want to take in a number, you have to cast it as an int or float before you can actually use it.\n",
    "```"
   ]
  },
  {
   "cell_type": "code",
   "execution_count": 46,
   "metadata": {
    "cell_style": "split"
   },
   "outputs": [
    {
     "name": "stdout",
     "output_type": "stream",
     "text": [
      "0\n",
      "1\n",
      "2\n",
      "3\n",
      "4\n"
     ]
    }
   ],
   "source": [
    "n = 0\n",
    "while(n < 5):\n",
    "    print(n)\n",
    "    n += 1"
   ]
  },
  {
   "cell_type": "code",
   "execution_count": 47,
   "metadata": {
    "cell_style": "split"
   },
   "outputs": [
    {
     "name": "stdout",
     "output_type": "stream",
     "text": [
      "0\n",
      "1\n",
      "2\n",
      "3\n",
      "4\n"
     ]
    }
   ],
   "source": [
    "for n in range(5):\n",
    "    print(n)"
   ]
  },
  {
   "cell_type": "code",
   "execution_count": 49,
   "metadata": {
    "cell_style": "split"
   },
   "outputs": [],
   "source": [
    "#simple examples while and for loop for the same thing,\n",
    "#showing for loop is easier to read."
   ]
  },
  {
   "cell_type": "code",
   "execution_count": 50,
   "metadata": {
    "cell_style": "split"
   },
   "outputs": [
    {
     "name": "stdout",
     "output_type": "stream",
     "text": [
      "24\n"
     ]
    }
   ],
   "source": [
    "mysum = 0\n",
    "for i in range(7,10):\n",
    "    mysum += i\n",
    "print(mysum)"
   ]
  },
  {
   "cell_type": "code",
   "execution_count": 51,
   "metadata": {
    "cell_style": "split"
   },
   "outputs": [
    {
     "name": "stdout",
     "output_type": "stream",
     "text": [
      "21\n"
     ]
    }
   ],
   "source": [
    "mysum = 0\n",
    "for i in range(5,11,2):\n",
    "    mysum += i\n",
    "print(mysum)"
   ]
  },
  {
   "cell_type": "code",
   "execution_count": 54,
   "metadata": {
    "cell_style": "split"
   },
   "outputs": [
    {
     "name": "stdout",
     "output_type": "stream",
     "text": [
      "5\n"
     ]
    }
   ],
   "source": [
    "mysum = 0\n",
    "for i in range(5,11,2):\n",
    "    mysum += i\n",
    "    if mysum == 5:\n",
    "        break\n",
    "print(mysum)"
   ]
  },
  {
   "cell_type": "code",
   "execution_count": null,
   "metadata": {
    "cell_style": "split"
   },
   "outputs": [],
   "source": [
    "#Testing out break statement."
   ]
  },
  {
   "cell_type": "code",
   "execution_count": 60,
   "metadata": {
    "cell_style": "split"
   },
   "outputs": [],
   "source": [
    "#You can always rewrite a for loop using a while loop.\n",
    "#However, you might not be able to rewrite a while loop\n",
    "#using a for loop."
   ]
  },
  {
   "cell_type": "markdown",
   "metadata": {},
   "source": [
    " "
   ]
  },
  {
   "cell_type": "code",
   "execution_count": 62,
   "metadata": {
    "cell_style": "split"
   },
   "outputs": [
    {
     "name": "stdout",
     "output_type": "stream",
     "text": [
      "hello world\n"
     ]
    }
   ],
   "source": [
    "happy = 3\n",
    "if happy > 2:\n",
    "    print('hello world')"
   ]
  },
  {
   "cell_type": "code",
   "execution_count": 63,
   "metadata": {
    "cell_style": "split"
   },
   "outputs": [],
   "source": [
    "#Please remember to end your if statements \n",
    "#and other statements with :\n",
    "#I always forget."
   ]
  },
  {
   "cell_type": "code",
   "execution_count": 70,
   "metadata": {},
   "outputs": [
    {
     "name": "stdout",
     "output_type": "stream",
     "text": [
      "string involved\n"
     ]
    }
   ],
   "source": [
    "#vara varb exercise\n",
    "varA = 32323\n",
    "varB = \"string\"\n",
    "if type(varA) == str or type(varB) == str:\n",
    "    print(\"string involved\")\n",
    "elif varA > varB:\n",
    "    print(\"bigger\")\n",
    "elif varA == varB:\n",
    "    print(\"equal\")\n",
    "elif varA < varB:\n",
    "    print(\"smaller\")"
   ]
  },
  {
   "cell_type": "code",
   "execution_count": null,
   "metadata": {},
   "outputs": [],
   "source": [
    "#You can stop an infinite loop in your program by typing CTRL+c in the console."
   ]
  },
  {
   "cell_type": "code",
   "execution_count": 71,
   "metadata": {
    "cell_style": "split"
   },
   "outputs": [],
   "source": [
    "#You can purposely use an infinite loops like this:\n",
    "while True:\n",
    "    #And then break out of it using \"break\"\n",
    "    break"
   ]
  },
  {
   "cell_type": "code",
   "execution_count": null,
   "metadata": {
    "cell_style": "split"
   },
   "outputs": [],
   "source": [
    "#This also works.\n",
    "while not False:\n",
    "    break"
   ]
  },
  {
   "cell_type": "markdown",
   "metadata": {},
   "source": [
    " "
   ]
  },
  {
   "cell_type": "code",
   "execution_count": 73,
   "metadata": {
    "cell_style": "split"
   },
   "outputs": [
    {
     "name": "stdout",
     "output_type": "stream",
     "text": [
      "10\n",
      "9\n",
      "8\n",
      "7\n",
      "Breaking out of loop\n",
      "Outside of loop\n"
     ]
    }
   ],
   "source": [
    "num = 10\n",
    "while True:\n",
    "    if num < 7:\n",
    "        print('Breaking out of loop')\n",
    "        break\n",
    "    print(num)\n",
    "    num -= 1\n",
    "print('Outside of loop')"
   ]
  },
  {
   "cell_type": "code",
   "execution_count": 3,
   "metadata": {
    "cell_style": "split"
   },
   "outputs": [
    {
     "name": "stdout",
     "output_type": "stream",
     "text": [
      "print  2\n",
      "prints  4\n",
      "prints  6\n",
      "prints  8\n",
      "prints  10\n",
      "prints Goodbye!\n"
     ]
    }
   ],
   "source": [
    "#alright fine this program was a bit overdone\n",
    "i = 0\n",
    "while(i <= 10):\n",
    "    if i == 2:\n",
    "        print(\"print \", i)\n",
    "        i += 1\n",
    "    elif i % 2 == 0 and i != 0:\n",
    "        print(\"prints \", i)\n",
    "        i += 1\n",
    "    else:\n",
    "        i += 1\n",
    "print(\"prints Goodbye!\")"
   ]
  },
  {
   "cell_type": "code",
   "execution_count": 8,
   "metadata": {
    "cell_style": "split"
   },
   "outputs": [
    {
     "name": "stdout",
     "output_type": "stream",
     "text": [
      "2\n",
      "4\n",
      "6\n",
      "8\n",
      "10\n",
      "Goodbye!\n"
     ]
    }
   ],
   "source": [
    "#Yeah woops I guess I took it too literally\n",
    "#This is correct.\n",
    "i = 2\n",
    "while i <= 10:\n",
    "    print(i)\n",
    "    i += 2\n",
    "print(\"Goodbye!\")"
   ]
  },
  {
   "cell_type": "code",
   "execution_count": 11,
   "metadata": {
    "cell_style": "split"
   },
   "outputs": [
    {
     "name": "stdout",
     "output_type": "stream",
     "text": [
      "Hello!\n",
      "10\n",
      "8\n",
      "6\n",
      "4\n",
      "2\n"
     ]
    }
   ],
   "source": [
    "i = 10\n",
    "print(\"Hello!\")\n",
    "while i >= 2:\n",
    "    print(i)\n",
    "    i -= 2"
   ]
  },
  {
   "cell_type": "markdown",
   "metadata": {
    "cell_style": "center"
   },
   "source": [
    " "
   ]
  },
  {
   "cell_type": "code",
   "execution_count": 26,
   "metadata": {
    "cell_style": "split"
   },
   "outputs": [
    {
     "name": "stdout",
     "output_type": "stream",
     "text": [
      "31375\n"
     ]
    }
   ],
   "source": [
    "#Well, I thought this wouldn't be accepted.\n",
    "#Can't use a for loop or range.\n",
    "#I could reuse this for the for loop part though!\n",
    "end = 250\n",
    "summation = 0\n",
    "for i in range(1, end + 1):\n",
    "    summation += i\n",
    "    #print(i)\n",
    "    #print(summation)\n",
    "print(summation)"
   ]
  },
  {
   "cell_type": "code",
   "execution_count": 33,
   "metadata": {
    "cell_style": "split"
   },
   "outputs": [
    {
     "name": "stdout",
     "output_type": "stream",
     "text": [
      "21\n"
     ]
    }
   ],
   "source": [
    "end = 6\n",
    "i = 0\n",
    "summation = 0\n",
    "while i < end:\n",
    "    i += 1\n",
    "    summation += i\n",
    "print(summation)"
   ]
  },
  {
   "cell_type": "markdown",
   "metadata": {},
   "source": [
    " "
   ]
  },
  {
   "cell_type": "code",
   "execution_count": 36,
   "metadata": {
    "cell_style": "split",
    "scrolled": true
   },
   "outputs": [
    {
     "name": "stdout",
     "output_type": "stream",
     "text": [
      "2\n",
      "4\n",
      "6\n",
      "8\n",
      "10\n",
      "Goodbye!\n"
     ]
    }
   ],
   "source": [
    "for a in range(2,11,2):\n",
    "    print(a)\n",
    "print(\"Goodbye!\")"
   ]
  },
  {
   "cell_type": "code",
   "execution_count": 1,
   "metadata": {
    "cell_style": "split"
   },
   "outputs": [
    {
     "name": "stdout",
     "output_type": "stream",
     "text": [
      "Hello!\n",
      "10\n",
      "8\n",
      "6\n",
      "4\n",
      "2\n"
     ]
    }
   ],
   "source": [
    "print(\"Hello!\")\n",
    "for i in range(10,0,-2):\n",
    "    print(i)"
   ]
  },
  {
   "cell_type": "code",
   "execution_count": 3,
   "metadata": {
    "cell_style": "split"
   },
   "outputs": [
    {
     "name": "stdout",
     "output_type": "stream",
     "text": [
      "5*5 = 25\n"
     ]
    }
   ],
   "source": [
    "x = 5\n",
    "ans = 0\n",
    "itersLeft = x\n",
    "while(itersLeft != 0):\n",
    "    ans = ans + x\n",
    "    itersLeft = itersLeft - 1\n",
    "print(str(x) + '*' + str(x) + ' = ' + str(ans))"
   ]
  },
  {
   "cell_type": "code",
   "execution_count": 5,
   "metadata": {
    "cell_style": "split"
   },
   "outputs": [
    {
     "name": "stdout",
     "output_type": "stream",
     "text": [
      "0\n",
      "1\n",
      "2\n",
      "3\n",
      "4\n",
      "4\n"
     ]
    }
   ],
   "source": [
    "#don't be fooled here, num is redfined\n",
    "#in the for loop.\n",
    "num = 10\n",
    "for num in range(5):\n",
    "    print(num)\n",
    "print(num)"
   ]
  },
  {
   "cell_type": "code",
   "execution_count": 6,
   "metadata": {
    "cell_style": "split"
   },
   "outputs": [
    {
     "name": "stdout",
     "output_type": "stream",
     "text": [
      "0.0\n",
      "1.0\n",
      "2.0\n",
      "3.0\n",
      "4.0\n"
     ]
    }
   ],
   "source": [
    "#division always gives a float\n",
    "#for some reason dividing 0 by a number gives 0\n",
    "#maybe im just dumb\n",
    "divisor = 2\n",
    "for num in range(0, 10, 2):\n",
    "        print(num/divisor)"
   ]
  },
  {
   "cell_type": "code",
   "execution_count": 7,
   "metadata": {
    "cell_style": "split"
   },
   "outputs": [
    {
     "name": "stdout",
     "output_type": "stream",
     "text": [
      "0\n",
      "Foo!\n",
      "4\n",
      "8\n",
      "12\n",
      "16\n",
      "Foo!\n"
     ]
    }
   ],
   "source": [
    "for variable in range(20):\n",
    "    if variable % 4 == 0:\n",
    "        print(variable)\n",
    "    if variable % 16 == 0:\n",
    "        print('Foo!') "
   ]
  },
  {
   "cell_type": "code",
   "execution_count": 10,
   "metadata": {
    "code_folding": []
   },
   "outputs": [
    {
     "name": "stdout",
     "output_type": "stream",
     "text": [
      "M\n",
      "numVowels is: 11\n",
      "numCons is: -25\n",
      "['s', 's', 'c', 'h', 's', 't', 't', 's', ' ', 'I', 'n', 's', 't', 't', 't', ' ', 'f', ' ', 'T', 'c', 'h', 'n', 'l', 'g', 'y']\n"
     ]
    }
   ],
   "source": [
    "# o never prints out because it's a vowel and gets parsed in the first if statement.\n",
    "# I missed the dumb spaces for the value of numCons, I had -22 but there are 3 spaces so it's -25.\n",
    "school = 'Massachusetts Institute of Technology'\n",
    "numVowels = 0\n",
    "numCons = 0\n",
    "cons = []\n",
    "\n",
    "for char in school:\n",
    "    if char == 'a' or char == 'e' or char == 'i' \\\n",
    "       or char == 'o' or char == 'u':\n",
    "        numVowels += 1\n",
    "    elif char == 'o' or char == 'M':\n",
    "        print(char)\n",
    "    else:\n",
    "        cons.append(char)\n",
    "        numCons -= 1\n",
    "\n",
    "print('numVowels is: ' + str(numVowels))\n",
    "print('numCons is: ' + str(numCons)) \n",
    "print(cons)"
   ]
  },
  {
   "cell_type": "code",
   "execution_count": null,
   "metadata": {},
   "outputs": [],
   "source": [
    "# Make sure to always define/initialize the variable before the loop, when using loops."
   ]
  },
  {
   "cell_type": "code",
   "execution_count": 15,
   "metadata": {
    "cell_style": "split",
    "code_folding": []
   },
   "outputs": [
    {
     "name": "stdout",
     "output_type": "stream",
     "text": [
      "Enter an Integer: -28\n",
      "-28 is not a perfect cube.\n"
     ]
    }
   ],
   "source": [
    "# Cleaner Guess and Check\n",
    "# cube root\n",
    "cube = int(input(\"Enter an Integer: \"))\n",
    "for guess in range(abs(cube)+1):\n",
    "    if guess**3 == abs(cube):\n",
    "        break\n",
    "if guess**3 != abs(cube):\n",
    "    print(cube, \"is not a perfect cube.\")\n",
    "else:\n",
    "    if cube < 0:\n",
    "        guess = -guess\n",
    "        \n",
    "    print(\"Cube root of \", cube, \" is \", guess)"
   ]
  },
  {
   "cell_type": "code",
   "execution_count": 19,
   "metadata": {
    "cell_style": "split"
   },
   "outputs": [
    {
     "data": {
      "text/plain": [
       "\"You shouldn't just deal with cases where you get what you expect. You should prepare for other cases to see if your code does the right thing.\""
      ]
     },
     "execution_count": 19,
     "metadata": {},
     "output_type": "execute_result"
    }
   ],
   "source": [
    "'''You shouldn't just deal with cases where you get what you expect. You should prepare for other cases to see if your code does the right thing.'''\n"
   ]
  },
  {
   "cell_type": "code",
   "execution_count": 22,
   "metadata": {},
   "outputs": [
    {
     "name": "stdout",
     "output_type": "stream",
     "text": [
      "Number of vowels: 5\n"
     ]
    }
   ],
   "source": [
    "#PSET 1 Problem 1\n",
    "s = 'azcbobobegghakl'\n",
    "numVowels = 0\n",
    "for char in s:\n",
    "    if char == 'a' or char == 'e' or char == 'i' or char == 'o' or char == 'u':\n",
    "        numVowels += 1\n",
    "print(\"Number of vowels: \" + str(numVowels))"
   ]
  },
  {
   "cell_type": "code",
   "execution_count": 74,
   "metadata": {},
   "outputs": [
    {
     "name": "stdout",
     "output_type": "stream",
     "text": [
      "Number of times bob occurs is: 5\n"
     ]
    }
   ],
   "source": [
    "#PSET 1 Problem 2\n",
    "s = 'bobobobobobo'\n",
    "numBob = 0\n",
    "testBob = ''\n",
    "for char in s:\n",
    "    testBob += char\n",
    "    if len(testBob) == 3:\n",
    "        if testBob == 'bob':\n",
    "            numBob += 1\n",
    "    if len(testBob) > 2:\n",
    "        testBob = testBob[1:]\n",
    "print(\"Number of times bob occurs is: \" + str(numBob))"
   ]
  },
  {
   "cell_type": "code",
   "execution_count": 221,
   "metadata": {},
   "outputs": [
    {
     "name": "stdout",
     "output_type": "stream",
     "text": [
      "Longest substring in alphabetical order is: beggh\n"
     ]
    }
   ],
   "source": [
    "#PSET 1 Problem 3\n",
    "#This was actually so hard. Easy once I figured out that comparison operands(>, <, etc) work for strings. (a < b == True etc)\n",
    "s = 'abcbcd'\n",
    "alphabet = 'abcdefghijklmnopqrstuvwxyz'\n",
    "i = 0\n",
    "largestString = ''\n",
    "while i < len(s):\n",
    "    subString = ''\n",
    "    test = s[i:]\n",
    "    i += 1\n",
    "    for char in test:\n",
    "        if len(subString) == 0:\n",
    "            subString += char\n",
    "        elif char >= subString[-1]:\n",
    "            subString += char\n",
    "        elif char < subString[-1]:\n",
    "            break\n",
    "        #print(subString)\n",
    "    #if subString > largestString, then if lengths are tied, largestString doesn't get replaced.\n",
    "    #if subString >= largestString, then if lengths are tied, largestString does get replaced.\n",
    "    #we want to print the first substring in ties so we don't want it to get replaced.\n",
    "    if len(subString) > len(largestString):\n",
    "        largestString = subString\n",
    "\n",
    "print(\"Longest substring in alphabetical order is: \" + largestString)\n",
    "        "
   ]
  },
  {
   "cell_type": "code",
   "execution_count": 190,
   "metadata": {
    "cell_style": "split"
   },
   "outputs": [
    {
     "data": {
      "text/plain": [
       "False"
      ]
     },
     "execution_count": 190,
     "metadata": {},
     "output_type": "execute_result"
    }
   ],
   "source": [
    "'a' > 'b'"
   ]
  },
  {
   "cell_type": "code",
   "execution_count": 191,
   "metadata": {
    "cell_style": "split"
   },
   "outputs": [
    {
     "data": {
      "text/plain": [
       "True"
      ]
     },
     "execution_count": 191,
     "metadata": {},
     "output_type": "execute_result"
    }
   ],
   "source": [
    "'b' > 'a'"
   ]
  },
  {
   "cell_type": "markdown",
   "metadata": {},
   "source": [
    "```Python\n",
    "'''what do we want our program to do...  \n",
    "Perhaps we could use a while loop?  \n",
    "Let's think about the outcome.  \n",
    "'azcbobobegghakl' is the example string.  \n",
    "We'd go through this string and compare it to alphabetical order and collect the following substrings:  \n",
    "'az' 'z' 'c' 'bo' 'o' 'bo' 'o' 'beggh' 'eggh' 'ggh' 'gh' 'h' 'akl' 'kl' 'l'\n",
    "Then return 'beggh' because it is the largest.\n",
    "Second example string: 'abcbcd'\n",
    "'abc' 'bc' 'c' 'bcd' 'cd' 'd'\n",
    "'abc' and 'bcd' are tied, but 'abc' is first so that is what is printed.\n",
    "Whenever the next element of the string is \"less\" than the other, we want it to terminate. We don't even need to look at the alphabet.'''\n",
    "```"
   ]
  }
 ],
 "metadata": {
  "kernelspec": {
   "display_name": "Python 3",
   "language": "python",
   "name": "python3"
  },
  "language_info": {
   "codemirror_mode": {
    "name": "ipython",
    "version": 3
   },
   "file_extension": ".py",
   "mimetype": "text/x-python",
   "name": "python",
   "nbconvert_exporter": "python",
   "pygments_lexer": "ipython3",
   "version": "3.6.6"
  }
 },
 "nbformat": 4,
 "nbformat_minor": 2
}
