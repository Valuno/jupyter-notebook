{
 "cells": [
  {
   "cell_type": "markdown",
   "metadata": {},
   "source": [
    "# **Linear Algebra week 1**\n",
    "\n",
    "## 1.3 Simple Vector Operations\n",
    "\n",
    "### 1.3.1 Equality (=), Assignment (:=), and Copy\n",
    "\n",
    "This means that two vectors are equal if they point in the same direction and are of same length. They don't have need to have the same location.\n",
    "\n",
    "The assignment or copy operation assigns the content of one vector to another vector. In our mathematical notation, we will denote this by the symbol := (pronounce: becomes). After the assignment, the two vectors are equal to each other.\n",
    "\n",
    "**Algorithm**\n",
    "\n",
    "The following algorithm copies vector $x\\in \\mathbb{R}^n$ into vector $y \\in \\mathbb{R}^n$, performing the operation $y := x$\n",
    "\n",
    "$$\\begin{equation*}\n",
    "    \\left(\n",
    "        \\begin{array}{c} \n",
    "            \\Psi_0\\\\\\ \n",
    "            \\Psi_1\\\\\\ \n",
    "            \\vdots\\\\\\\n",
    "            \\Psi_{n-1}\n",
    "        \\end{array}\n",
    "    \\right)\n",
    "    :=\n",
    "    \\left(\n",
    "        \\begin{array}{c}\n",
    "            \\chi_0\\\\\\\n",
    "            \\chi_1\\\\\\\n",
    "            \\vdots\\\\\\\n",
    "            \\chi_{n-1}\n",
    "        \\end{array}\n",
    "    \\right)\n",
    "\\end{equation*}$$\n",
    "Note: $\\Psi$ = Psi\n",
    "$\\chi$ = chi\n",
    "\n",
    "**for** $i = 0,...,n - 1\\\\\n",
    "    \\Psi_i := \\chi_i$\n",
    "\n",
    "**endfor**\n",
    "\n",
    "**Cost**\n",
    "\n",
    "(Notice: we will cost of various operations in more detail in the future.)\n",
    "    Copying one vector to another vector requires 2*n* memory operations (memops).  \n",
    "* The vector x of length n must be read, requires n memops and\n",
    "* the vector y must be written, which accounts for the other n memops.\n",
    "    \n",
    "### **1.3.2 Vector Addition** (ADD)\n",
    "\n",
    "**Definition**\n",
    "\n",
    "**Definition 1.5** *Vector addition* $x + y$ (*sum of vectors) is defined by*\n",
    "\n",
    "$$\\begin{equation*}\n",
    "x + y =\n",
    "\\left(\n",
    "    \\begin{array}{c}\n",
    "        \\chi_0\\\\\\\n",
    "        \\chi_1\\\\\\\n",
    "        \\vdots\\\\\\\n",
    "        \\chi_{n-1}\n",
    "    \\end{array}\n",
    "\\right)\n",
    "+\n",
    "\\left(\n",
    "    \\begin{array}{c}\n",
    "        \\Psi_0\\\\\\\n",
    "        \\Psi_1\\\\\\\n",
    "        \\vdots\\\\\\\n",
    "        \\Psi_{n-1}\n",
    "    \\end{array}\n",
    "\\right)\n",
    "=\n",
    "\\left(\n",
    "    \\begin{array}{c}\n",
    "        \\chi_0 + \\Psi_0\\\\\\\n",
    "        \\chi_1 + \\Psi_1\\\\\\\n",
    "        \\vdots\\\\\\\n",
    "        \\chi_{n-1} + \\Psi_{n-1}\\\\\\\n",
    "    \\end{array}\n",
    "\\right)\n",
    "\\end{equation*}$$\n",
    "\n",
    "In other words, the vectors are added element-wise, yielding a new vector of the same size.\n",
    "\n",
    "**Algorithm**\n",
    "\n",
    "The following algorithm assigns the sum of vectors $x$ and $y$ (of size $n$ and stored in arrays x and y) to vector z(of size $n$ and stored in array z), computing $z:= x+y:$\n",
    "$$\\begin{equation*}\n",
    "    \\left(\n",
    "        \\begin{array}{c}\n",
    "            \\zeta_0\\\\\\\n",
    "            \\zeta_1\\\\\\\n",
    "            \\vdots\\\\\\\n",
    "            \\zeta_{n-1}\n",
    "        \\end{array}\n",
    "    \\right)\n",
    "    :=\n",
    "    \\left(\n",
    "        \\begin{array}{c}\n",
    "            \\chi_0 + \\Psi_0\\\\\\\n",
    "            \\chi_1 + \\Psi_1\\\\\\\n",
    "            \\vdots\\\\\\\n",
    "            \\chi_{n-1} + \\Psi_{n-1}\n",
    "        \\end{array}            \n",
    "     \\right)                   \n",
    "     .\n",
    "\\end{equation*}$$\n",
    " \n",
    " **for** $i = 0,...,n - 1\\\\  \n",
    "     \\zeta_i := \\chi_i + \\Psi_i$\n",
    "\n",
    "**endfor**\n",
    "\n",
    "**Cost**\n",
    "\n",
    "$\\qquad$On a computer, real numbers are stored as floating point numbers, and real arithmetic is approximated with floating point arithmetic. <mark>Thus we count floating point operations (flops)</mark>: a multiplication or addition each cost one flop.  \n",
    "$\\qquad$Vector addition requires 3$n$ memops ($x$ is read, $y$ is read, and the resulting vector is written) and $n$ flops(floating point additions). For those who understand \"Big-O\" notation, the cost of the $SCAL$ operation, which is seen in the next section, is $O(n)$. However, we tend to want to be more exact than just saying $O(n)$. To us, the coefficient in front of $n$ is important.\n",
    "\n",
    "### **1.3.3 Scaling**($SCAL$) \n",
    "\n",
    "**Definition 1.6** *Multiplying vector $x$ by scalar $\\alpha$ yields a new vector, $\\alpha x$, in the same direction as $x$, but scaled by a factor $\\alpha$. Scaling a vector by $\\alpha$ means each of its components, $\\chi_i$, is multiplied by $\\alpha$*:\n",
    "$$\\begin {equation*}\n",
    "\\alpha x = \\alpha\n",
    "\\left(\n",
    "    \\begin {array}{c}\n",
    "        \\chi_0\\\\\\\n",
    "        \\chi_1\\\\\\\n",
    "        \\vdots\\\\\\\n",
    "        \\chi_{n-1}\n",
    "    \\end {array}    \n",
    "\\right)\n",
    "=\n",
    "\\left(\n",
    "    \\begin {array}{c}\n",
    "        \\alpha\\chi_0\\\\\\\n",
    "        \\alpha\\chi_1\\\\\\\n",
    "        \\vdots\\\\\\\n",
    "        \\alpha\\chi_{n-1}\n",
    "    \\end {array}    \n",
    "\\right)\n",
    ".\n",
    "\\end {equation*}$$\n"
   ]
  },
  {
   "cell_type": "markdown",
   "metadata": {},
   "source": [
    "**Homework 1.3.3**"
   ]
  },
  {
   "cell_type": "code",
   "execution_count": 53,
   "metadata": {},
   "outputs": [
    {
     "data": {
      "text/html": [
       "<html><script type=\"math/tex; mode=display\">\\newcommand{\\Bold}[1]{\\mathbf{#1}}\\left(\\begin{array}{rr}\n",
       "-3 & 6\n",
       "\\end{array}\\right)</script></html>"
      ],
      "text/plain": [
       "[-3  6]"
      ]
     },
     "metadata": {},
     "output_type": "display_data"
    }
   ],
   "source": [
    "a = matrix([-1,2])\n",
    "show(((a)+(a))+(a))"
   ]
  },
  {
   "cell_type": "markdown",
   "metadata": {},
   "source": [
    "$$\\begin{equation*}\n",
    "    \\left(\n",
    "    \\left(\n",
    "        \\begin{array}{c}\n",
    "        -1\\\\\\\n",
    "        2\n",
    "        \\end{array}\n",
    "    \\right)\n",
    "    +\n",
    "    \\left(\n",
    "        \\begin{array}{c}\n",
    "        -1\\\\\\\n",
    "        2\n",
    "        \\end{array}\n",
    "    \\right)\n",
    "    \\right)\n",
    "    +\n",
    "    \\left(\n",
    "        \\begin{array}{c}\n",
    "        -1\\\\\\\n",
    "        2\n",
    "        \\end{array}\n",
    "    \\right)\n",
    "    =\n",
    "    \\left(\n",
    "        \\begin{array}{c}\n",
    "        -3\\\\\\\n",
    "        6\n",
    "        \\end{array}\n",
    "    \\right)\n",
    "\\end{equation*}$$"
   ]
  },
  {
   "cell_type": "code",
   "execution_count": 54,
   "metadata": {},
   "outputs": [
    {
     "data": {
      "text/html": [
       "<html><script type=\"math/tex; mode=display\">\\newcommand{\\Bold}[1]{\\mathbf{#1}}\\left(\\begin{array}{rr}\n",
       "-3 & 6\n",
       "\\end{array}\\right)</script></html>"
      ],
      "text/plain": [
       "[-3  6]"
      ]
     },
     "metadata": {},
     "output_type": "display_data"
    }
   ],
   "source": [
    "scalar = 3\n",
    "show(3 * a)"
   ]
  },
  {
   "cell_type": "markdown",
   "metadata": {},
   "source": [
    "$$\\begin{equation*}\n",
    "3\\times\n",
    "    \\left(\n",
    "        \\begin{array}{c}\n",
    "        -1\\\\\\\n",
    "        2\n",
    "        \\end{array}\n",
    "    \\right)\n",
    "=\n",
    "    \\left(\n",
    "        \\begin{array}{c}\n",
    "        -3\\\\\\\n",
    "        6\n",
    "        \\end{array}\n",
    "    \\right)\n",
    "\\end{equation*}$$"
   ]
  },
  {
   "cell_type": "code",
   "execution_count": 55,
   "metadata": {},
   "outputs": [
    {
     "data": {
      "image/png": "[encoded data removed]",
      "text/plain": [
       "Graphics object consisting of 4 graphics primitives"
      ]
     },
     "execution_count": 55,
     "metadata": {},
     "output_type": "execute_result"
    }
   ],
   "source": [
    "a = matrix([[0,0],[4,2]])\n",
    "b = .5 * a\n",
    "c = -.5 * a\n",
    "d = 2 * a\n",
    "line(a) + line(b) + line(c,color = 'green') + line(d,color = 'red')"
   ]
  },
  {
   "cell_type": "markdown",
   "metadata": {},
   "source": [
    "**Algorithm**\n",
    "\n",
    "The following algorithm scales a vector $x \\in \\mathbb{R}^n$ by $\\alpha$, overwriting $x$ with the result $\\alpha x$:\n",
    "$$\\begin {equation*}\n",
    "\\left(\n",
    "    \\begin {array}{c}\n",
    "        \\chi_0\\\\\\\n",
    "        \\chi_1\\\\\\\n",
    "        \\vdots\\\\\\\n",
    "        \\chi_{n-1}\n",
    "    \\end {array}    \n",
    "\\right)\n",
    ":=\n",
    "\\left(\n",
    "    \\begin {array}{c}\n",
    "        \\alpha\\chi_0\\\\\\\n",
    "        \\alpha\\chi_1\\\\\\\n",
    "        \\vdots\\\\\\\n",
    "        \\alpha\\chi_{n-1}\n",
    "    \\end {array}    \n",
    "\\right)\n",
    ".\n",
    "\\end {equation*}$$"
   ]
  },
  {
   "cell_type": "markdown",
   "metadata": {},
   "source": [
    "<div class=\"alert alert-block alert-info\">\n",
    "**for** $ i = 0,..., n - 1$  \n",
    "\n",
    "$\\qquad \\chi_i := \\alpha \\chi_i $  \n",
    "**endfor**\n",
    "</div>"
   ]
  },
  {
   "cell_type": "markdown",
   "metadata": {},
   "source": [
    "**Cost**\n",
    "\n",
    "Scaling a vector requires $n$ flops and $2n + 1$ memops. Here, $\\alpha$ is only brought in from memory once and kept in a register for reuse. To fully understand this, you need to know a little bit about computer architecture.  \n",
    "$\\qquad$\"Among friends\" we will simply say that the cost is $2n$ memops since the one extra memory operations(to bring $\\alpha$ in from memory) is negligible."
   ]
  },
  {
   "attachments": {},
   "cell_type": "markdown",
   "metadata": {},
   "source": [
    "**Summary**\n",
    "- Scaling a vector $x$ by $\\alpha$ results in a new vector in the same direction as $x$, but with length scaled by $\\alpha$.\n",
    "- Computing $\\alpha x$ means each component of $x$ is multiplied by $\\alpha$."
   ]
  },
  {
   "cell_type": "markdown",
   "metadata": {},
   "source": [
    "### 1.3.4 Vector Subtraction\n",
    "\n",
    "Recall the geometric interpretation for adding two vectors, $x,y \\in \\mathbb{R}^n$:  \n",
    "Subtracting $y$ from $x$ is defined as  $$x - y = x + (-y).$$  \n",
    "We learned in the last unit that $-y$ is the same as $(-1)y$ which is the same as pointing $y$ in the opposite direction, while keeping it's length the same. This allows us to take the parallelogram that we used to illustrate vector addition and change it into the equivalent picture. Since we know how to add two vectors, we can now illustrate $x + (-y):$ Which then means that $x-y$ can be illustrated by  Finally, we note that the parallelogram can be used to simultaneously illustrate vector addition and subtraction: (Obviously, you need to be careful to point the vectors in the right direction.)  \n",
    "$\\qquad$Now computing $x - y$ when $x,y \\in \\mathbb{R}^n$ is a simple matter of subtracting components of $y$ off the corresponding components of $x$: *Look at week 1 pdf notes, or figure out how to insert pictures*  "
   ]
  },
  {
   "cell_type": "markdown",
   "metadata": {},
   "source": [
    "$$\\begin{equation*}\n",
    "x - y =\n",
    "\\left(\n",
    "    \\begin{array}{c}\n",
    "        \\chi_0\\\\\\\n",
    "        \\chi_1\\\\\\\n",
    "        \\vdots\\\\\\\n",
    "        \\chi_{n-1}\n",
    "    \\end{array}\n",
    "\\right)\n",
    "-\n",
    "\\left(\n",
    "    \\begin{array}{c}\n",
    "        \\Psi_0\\\\\\\n",
    "        \\Psi_1\\\\\\\n",
    "        \\vdots\\\\\\\n",
    "        \\Psi_{n-1}\n",
    "    \\end{array}\n",
    "\\right)\n",
    "=\n",
    "\\left(\n",
    "    \\begin{array}{c}\n",
    "        \\chi_0 - \\Psi_0\\\\\\\n",
    "        \\chi_1 - \\Psi_1\\\\\\\n",
    "        \\vdots\\\\\\\n",
    "        \\chi_{n-1} - \\Psi_{n-1}\n",
    "    \\end{array}\n",
    "\\right)\n",
    ".\n",
    "\\end{equation*}$$"
   ]
  },
  {
   "attachments": {
    "2018-09-05_14-50-00.png": {
     "image/png": "[encoded data removed]"
    }
   },
   "cell_type": "markdown",
   "metadata": {},
   "source": [
    "![2018-09-05_14-50-00.png](attachment:2018-09-05_14-50-00.png)"
   ]
  },
  {
   "cell_type": "markdown",
   "metadata": {},
   "source": [
    "**Homework 1.3.4**\n",
    "For $x \\in \\mathbb{R}^n, x - x = 0.$  \n",
    "$\\qquad$>> Always  \n",
    "**Proof:** Let $x$ be arbitrary\n",
    "$$\\begin{align*} \\\n",
    "&\\quad \\: x - x \\\\\n",
    "&= \n",
    "x + (-1)x &<def ->\\\\\n",
    "&= \n",
    "\\left(\\begin{array}{c} \\chi_0\\\\\\ \\chi_1\\\\\\ \\vdots\\\\\\ \\chi_{n-1} \\end{array} \\right) + (-1) \\left(\\begin{array}{c} \\chi_0\\\\\\ \n",
    "\\chi_1\\\\\\ \\vdots\\\\\\ \\chi_{n-1} \\end{array} \\right) &<notation> \\\\\n",
    "&=\n",
    "\\left(\\begin{array}{c} \\chi_0\\\\\\ \\chi_1\\\\\\ \\vdots\\\\\\ \\chi_{n-1} \\end{array} \\right) + \\left(\\begin{array}{c} -\\chi_0\\\\\\ \n",
    "-\\chi_1\\\\\\ -\\vdots\\\\\\ -\\chi_{n-1} \\end{array} \\right) &<scalar\\:multiplication> \\\\\n",
    "&=\n",
    "\\left(\n",
    "    \\begin{array}{c}\n",
    "        \\chi_0 + (-\\chi_0)\\\\\\\n",
    "        \\chi_1 + (-\\chi_1)\\\\\\\n",
    "        \\vdots\\\\\\\n",
    "        \\chi_{n-1} + (-\\chi_{n-1})\n",
    "    \\end{array}\n",
    "\\right) &<vector\\:addition>\\\\\n",
    "&=\n",
    "\\left(\n",
    "    \\begin{array}{c}\n",
    "        0\\\\\\\n",
    "        0\\\\\\\n",
    "        \\vdots\\\\\\\n",
    "        0\n",
    "    \\end{array}\n",
    "\\right) &<real\\:\\#\\:addition>\\\\\n",
    "&=\n",
    "0\n",
    "\\end{align*}$$\n",
    "\n",
    "For $x,y \\in \\mathbb{R}^n, x - y = y - x.$  \n",
    "$\\qquad$>> Sometimes  \n",
    "The important thing is to notce that the length if the same, but the direction is opposite, since $x - y = (-1) \\times (y - x).$ It is equal ONLY if $x = y$!"
   ]
  },
  {
   "cell_type": "markdown",
   "metadata": {},
   "source": [
    "## 1.4 Advanced Vector Operations\n",
    "\n",
    "### 1.4.1 Scaled Vector Addition ($AXPY$)\n",
    "\n",
    "**Definition 1.7** *One of the most commonly encountered operations when implementing more complex linear algebra operations is the scaled vector addition, which (given $x,y \\in \\mathbb{R}^n$) computes $y := \\alpha x + y:$*"
   ]
  },
  {
   "cell_type": "markdown",
   "metadata": {},
   "source": [
    "$$\\begin{equation*}\n",
    "\\alpha x + y = \\alpha\n",
    "\\left(\n",
    "    \\begin{array}{c}\n",
    "    \\chi_0\\\\\\\n",
    "    \\chi_1\\\\\\\n",
    "    \\vdots\\\\\\\n",
    "    \\chi{n-1}\n",
    "    \\end{array}\n",
    "\\right)\n",
    "+\n",
    "\\left(\n",
    "    \\begin{array}{c}\n",
    "    \\Psi_0\\\\\\\n",
    "    \\Psi_1\\\\\\\n",
    "    \\vdots\\\\\\\n",
    "    \\Psi_{n-1}\n",
    "    \\end{array}\n",
    "\\right)\n",
    "=\n",
    "\\left(\n",
    "    \\begin{array}{c}\n",
    "    \\alpha \\chi_0 + \\Psi_0\\\\\\\n",
    "    \\alpha \\chi_1 + \\Psi_1\\\\\\\n",
    "    \\vdots\\\\\\\n",
    "    \\alpha \\chi_{n-1} + \\Psi_{n-1}\n",
    "    \\end{array}\n",
    "\\right)\n",
    ".\n",
    "\\end{equation*}$$"
   ]
  },
  {
   "cell_type": "markdown",
   "metadata": {},
   "source": [
    "It is often referred to as the $AXPY$ operation, which stands for **a**lpha times **x p**lus **y**. We emphasize that it is typically used in situations where the output vector overwrites the input vector $y$."
   ]
  },
  {
   "cell_type": "markdown",
   "metadata": {},
   "source": [
    "**Algorithm**\n",
    "\n",
    "Obviously, one could copy $x$ into another vector, scale it by $\\alpha$, and then add it to $y$. Usually, however, vector $y$ is simply updated one element at a time:"
   ]
  },
  {
   "cell_type": "markdown",
   "metadata": {},
   "source": [
    "$$\\begin{equation*}\n",
    "\\left(\n",
    "    \\begin{array}{c}\n",
    "        \\Psi_0\\\\\\\n",
    "        \\Psi_1\\\\\\\n",
    "        \\vdots\\\\\\\n",
    "        \\Psi_{n-1}\n",
    "    \\end{array}\n",
    "\\right)\n",
    ":=\n",
    "\\left(\n",
    "    \\begin{array}{c}\n",
    "        \\alpha \\chi_0 +\\Psi_0\\\\\\\n",
    "        \\alpha \\chi_1 +\\Psi_1\\\\\\\n",
    "        \\vdots\\\\\\\n",
    "        \\alpha \\chi_{n-1}\\Psi_{n-1}\n",
    "    \\end{array}\n",
    "\\right)\n",
    ".\n",
    "\\end{equation*}$$"
   ]
  },
  {
   "cell_type": "markdown",
   "metadata": {},
   "source": [
    "<div class=\"alert alert-block alert-info\">\n",
    "**for** $ i = 0,...,n - 1$  \n",
    "\n",
    "$\\qquad \\Psi_i := \\alpha \\chi_i + \\Psi_i$  \n",
    "**endfor**\n",
    "</div>"
   ]
  },
  {
   "cell_type": "code",
   "execution_count": 49,
   "metadata": {},
   "outputs": [],
   "source": [
    "# n is the number of elements in the vectors, the size of the vector. This is obvious but I didn't get it for a bit."
   ]
  },
  {
   "cell_type": "markdown",
   "metadata": {},
   "source": [
    "**Cost**\n",
    "\n",
    "In Section 1.3 for many of the operations we discuss the cost in terms of memory operations (memops) and floating point operations (flops). This is discussed in the text, but not the videos. The reason for this is that we will talk about the cost of various operations later in a larger context, and include these discussions here for more completely."
   ]
  },
  {
   "cell_type": "markdown",
   "metadata": {},
   "source": [
    "**Homework 1.4.1.1**\n",
    "1. What is the cost of an axpy operation?  \n",
    "How many memops?  \n",
    "(a) $3n +1$\n",
    "2. How many flops?  \n",
    "(d) $2n$"
   ]
  },
  {
   "cell_type": "markdown",
   "metadata": {},
   "source": [
    "### 1.4.2 Linear Combinations of Vectors  \n",
    "There are few concepts in linear algebra more fundamental than linear combination of vectors.\n",
    "\n",
    "**Definition 1.8** *Let $u,v \\in \\mathbb{R}^m$ and $\\alpha,\\beta \\in \\mathbb{R}$. Then $\\alpha u + \\beta v$ is said to be a linear combination of vectors $u$ and $v$:*"
   ]
  },
  {
   "cell_type": "code",
   "execution_count": null,
   "metadata": {},
   "outputs": [],
   "source": [
    "# u and v are two vectors of length m, alpha and beta are two scalars."
   ]
  },
  {
   "cell_type": "markdown",
   "metadata": {},
   "source": [
    "$$\\begin{equation*}\n",
    "\\alpha u + \\beta v = \\alpha\n",
    "\\left(\n",
    "    \\begin{array}{c}\n",
    "        \\upsilon_0\\\\\\\n",
    "        \\upsilon_1\\\\\\\n",
    "        \\vdots\\\\\\\n",
    "        \\upsilon_{m-1}\n",
    "    \\end{array}\n",
    "\\right)\n",
    "+ \\beta\n",
    "\\left(\n",
    "    \\begin{array}{c}\n",
    "        v_0\\\\\\\n",
    "        v_1\\\\\\\n",
    "        \\vdots\\\\\\\n",
    "        v_{m-1}\n",
    "    \\end{array}\n",
    "\\right)\n",
    "=\n",
    "\\left(\n",
    "    \\begin{array}{c}\n",
    "        \\alpha \\upsilon_0\\\\\\\n",
    "        \\alpha \\upsilon_1\\\\\\\n",
    "        \\vdots\\\\\\\n",
    "        \\alpha \\upsilon_{m-1}\n",
    "    \\end{array}\n",
    "\\right)\n",
    "+\n",
    "\\left(\n",
    "    \\begin{array}{c}\n",
    "        \\beta v_0\\\\\\\n",
    "        \\beta v_1\\\\\\\n",
    "        \\vdots\\\\\\\n",
    "        \\beta v_{m-1}\n",
    "    \\end{array}\n",
    "\\right)\n",
    "=\n",
    "\\left(\n",
    "    \\begin{array}{c}\n",
    "    \\alpha \\upsilon_0 + \\beta v_0\\\\\\\n",
    "    \\alpha \\upsilon_1 + \\beta v_1\\\\\\\n",
    "    \\vdots\\\\\\\n",
    "    \\alpha \\upsilon_{m-1} + \\beta v_{m-1}\\\\\\\n",
    "    \\end{array}\n",
    "\\right)\n",
    ".\n",
    "\\end{equation*}$$"
   ]
  },
  {
   "cell_type": "markdown",
   "metadata": {},
   "source": [
    "*The scalars $\\alpha$ and $\\beta$ are the coefficients used in the linear combination.  \n",
    "$\\quad$More generally, if $v_0,\\ldots,v_{n-1} \\in\\mathbb{R}^m$ are $n$ vectors and $\\chi_0,\\ldots,\\chi_{n-1} \\in \\mathbb{R}$ are $n$ scalars, then $\\chi_0 v_0 + \\chi_1 v_1 + \\ldots + \\chi_{n-1} v_{n-1}$ is a linear combination of the vectors, with coefficients $\\chi_0,\\ldots,\\chi_{n-1}$.*"
   ]
  },
  {
   "cell_type": "markdown",
   "metadata": {},
   "source": [
    "$\\qquad$We will often use the summation notation to more concisely write such a linear combination:  \n",
    "$$\\begin{equation*}\n",
    "\\chi_0 v_0 + \\chi_1 v_1 + \\ldots + \\chi_{n-1} v_{n-1} = \\sum_{j=0}^{n-1} \\chi_j v_j .\n",
    "\\end{equation*}$$"
   ]
  },
  {
   "cell_type": "code",
   "execution_count": 56,
   "metadata": {},
   "outputs": [],
   "source": [
    "# AXPY is a linear combination, Beta = 1."
   ]
  },
  {
   "cell_type": "markdown",
   "metadata": {},
   "source": [
    "**Algorithm**  \n",
    "\n",
    "Given $v_0,\\ldots,v_{n-1} \\in\\mathbb{R}^m$ and $\\chi_0,\\ldots,\\chi_{n-1}\\in\\mathbb{R}$ the linear combination $w = \\chi_0v_0 + \\chi_1v_1 + \\ldots + \\chi_{n-1}v_{n-1}$ can be computed by first setting the result vector $w$ to the zero vector of size $m$, and then performing $n$ $AXPY$ operations:"
   ]
  },
  {
   "cell_type": "markdown",
   "metadata": {},
   "source": [
    "<div class=\"alert alert-block alert-info\">\n",
    "$w = 0\\qquad$(the zero vector of size $m$)  \n",
    "\n",
    "**for** $j = 0,\\ldots\\,n - 1$  \n",
    "  \n",
    "  $\\qquad w := \\chi_j v_j + w$  \n",
    "  \n",
    "**endfor**\n",
    "</div>"
   ]
  },
  {
   "cell_type": "markdown",
   "metadata": {},
   "source": [
    "The axpy operation computed $y := \\alpha x + y$. In our algorithm, $\\chi_j$ takes the place of $\\alpha, v_j$ the place of $x$, and $w$ the place of $y$."
   ]
  },
  {
   "cell_type": "markdown",
   "metadata": {},
   "source": [
    "**Cost**\n",
    "\n",
    "We noted that computing $w = \\chi_0 v_0 + \\chi_1 v_1 + \\ldots \\chi_{n-1} v_{n-1}$ can be implementated as $n$ $AXPY$ operations. This suggests that the cost is $n$ times the cost of an $AXPY$ operation with vectors of size $m: n \\times (2m) = 2mn$ flops and (approximately) $n \\times (3m)$ memops.  \n",
    "$\\qquad$**However**, one can actually do better. The vector $w$ is updated repeatedly. If this vector stays in the L1 cache of a computer, then it needs not be repeatedly loaded from memory, and the cost becomes $m$ memops(to load $w$ into the cache) and then for each $AXPY$ operation(approximately) $m$ memops(to read $v_j$(ignoring the cost of reading $\\chi_j$. Then, once $w$ has been completely updated, it can eb written back to memory. So, the total cost related to accessing memory becomes $m + n \\times m + m = (n+2)m \\approx mn$ memops."
   ]
  },
  {
   "cell_type": "markdown",
   "metadata": {},
   "source": [
    "**An important example**"
   ]
  },
  {
   "cell_type": "markdown",
   "metadata": {},
   "source": [
    "**Example 1.9** Given any $x \\in \\mathbb{R}^n$ with $x = \\pmatrix{\\chi_0\\\\ \\chi_1\\\\ \\vdots\\\\ \\chi_{n-1}},$ this vector can always be written as the linear combination of the unit basis vectors given by\n",
    "\n",
    "$$ x \\quad = \\quad\n",
    "\\pmatrix{\\chi_0\\\\ \n",
    "         \\chi_1\\\\ \n",
    "         \\vdots\\\\ \n",
    "         \\chi_{n-1}} \n",
    "= \\chi_0 \n",
    "\\pmatrix{1\\\\\n",
    "         0\\\\\n",
    "         \\vdots\\\\\n",
    "         0\\\\\n",
    "         0} \n",
    "+ \\chi_1\n",
    "\\pmatrix{0\\\\\n",
    "         1\\\\\n",
    "         \\vdots\\\\\n",
    "         0\\\\\n",
    "         0}\n",
    "+ \\ldots + \\chi_{n-1}\n",
    "\\pmatrix{0\\\\\n",
    "         0\\\\\n",
    "         \\vdots\\\\\n",
    "         0\\\\\n",
    "         1}\n",
    "$$\n",
    "\n",
    "$$=\\quad \\chi_0 e_0 + \\chi_1 e_1 + \\ldots + \\chi_{n-1} e_{n-1} = \\sum_{i = 0}^{n - 1} \\chi_i e_i .$$\n",
    "\n",
    "Shortly, this will become really important as we make the connection between linear combinations of vectors, linear transformations, and matrices."
   ]
  },
  {
   "cell_type": "markdown",
   "metadata": {},
   "source": [
    "**Homework 1.4.2.1**"
   ]
  },
  {
   "cell_type": "code",
   "execution_count": 64,
   "metadata": {},
   "outputs": [
    {
     "data": {
      "text/plain": [
       "(8, 12, -1, 0)"
      ]
     },
     "execution_count": 64,
     "metadata": {},
     "output_type": "execute_result"
    }
   ],
   "source": [
    "vectorA = vector([2,4,-1,0])\n",
    "vectorB = vector([1,0,1,0])\n",
    "3*vectorA + 2*vectorB"
   ]
  },
  {
   "cell_type": "code",
   "execution_count": 65,
   "metadata": {},
   "outputs": [
    {
     "data": {
      "text/plain": [
       "[8, 12, -1, 0]"
      ]
     },
     "execution_count": 65,
     "metadata": {},
     "output_type": "execute_result"
    }
   ],
   "source": [
    "[6,12,-3,0] + [2,0,2,0] \n",
    "[8,12,-1,0]"
   ]
  },
  {
   "cell_type": "markdown",
   "metadata": {},
   "source": [
    "**Homework 1.4.2.2**"
   ]
  },
  {
   "cell_type": "code",
   "execution_count": 66,
   "metadata": {},
   "outputs": [
    {
     "data": {
      "text/plain": [
       "(-3, 2, 4)"
      ]
     },
     "execution_count": 66,
     "metadata": {},
     "output_type": "execute_result"
    }
   ],
   "source": [
    "a = vector([1,0,0])\n",
    "b = vector([0,1,0])\n",
    "c = vector([0,0,1])\n",
    "-3*a + 2*b + 4*c"
   ]
  },
  {
   "cell_type": "markdown",
   "metadata": {},
   "source": [
    "**Homework 1.4.2.3**"
   ]
  },
  {
   "cell_type": "markdown",
   "metadata": {},
   "source": [
    "$\\alpha \\left( \\begin{array}{r} 1 \\\\ 0 \\\\ 0 \\end{array} \\right) + \\beta \\left( \\begin{array}{r} 0 \\\\ 1 \\\\ 0 \\end{array} \\right) + \\gamma \\left( \\begin{array}{r} 0 \\\\ 0 \\\\ 1 \\end{array} \\right) = \\left( \\begin{array}{r} 2 \\\\ -1 \\\\ 3 \\end{array} \\right)$"
   ]
  },
  {
   "cell_type": "markdown",
   "metadata": {},
   "source": [
    "$\\alpha = 2$  \n",
    "$\\beta = -1$  \n",
    "$\\gamma = 3$"
   ]
  },
  {
   "cell_type": "markdown",
   "metadata": {},
   "source": [
    "### 1.4.3 Dot or Inner Product $(DOT)$"
   ]
  },
  {
   "cell_type": "code",
   "execution_count": 77,
   "metadata": {},
   "outputs": [],
   "source": [
    "# When the dot product is zero, it means that the vectors are orthagonal."
   ]
  },
  {
   "cell_type": "markdown",
   "metadata": {},
   "source": [
    "**Random Notes:**    \n",
    "For $x, y, z \\in \\mathbb{R}^n,\\\\ \n",
    "    (x + y) + z = x + (y + z).$\n",
    "\n",
    "is always true.\n",
    "  \n"
   ]
  },
  {
   "cell_type": "code",
   "execution_count": 43,
   "metadata": {},
   "outputs": [],
   "source": [
    "pretty_print?"
   ]
  }
 ],
 "metadata": {
  "kernelspec": {
   "display_name": "SageMath 8.2",
   "language": "",
   "name": "sagemath"
  },
  "language_info": {
   "codemirror_mode": {
    "name": "ipython",
    "version": 2
   },
   "file_extension": ".py",
   "mimetype": "text/x-python",
   "name": "python",
   "nbconvert_exporter": "python",
   "pygments_lexer": "ipython2",
   "version": "2.7.14"
  }
 },
 "nbformat": 4,
 "nbformat_minor": 2
}
