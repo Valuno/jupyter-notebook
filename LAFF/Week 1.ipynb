{
 "cells": [
  {
   "cell_type": "markdown",
   "metadata": {},
   "source": [
    "# **Linear Algebra week 1**\n",
    "\n",
    "## 1.3 Simple Vector Operations\n",
    "\n",
    "### 1.3.1 Equality (=), Assignment (:=), and Copy\n",
    "\n",
    "This means that two vectors are equal if they point in the same direction and are of same length. They don't have need to have the same location.\n",
    "\n",
    "The assignment or copy operation assigns the content of one vector to another vector. In our mathematical notation, we will denote this by the symbol := (pronounce: becomes). After the assignment, the two vectors are equal to each other.\n",
    "\n",
    "**Algorithm**\n",
    "\n",
    "The following algorithm copies vector $x\\in \\mathbb{R}^n$ into vector $y \\in \\mathbb{R}^n$, performing the operation $y := x$\n",
    "\n",
    "$$\\begin{equation*}\n",
    "    \\left(\n",
    "        \\begin{array}{c} \n",
    "            \\Psi_0\\\\\\ \n",
    "            \\Psi_1\\\\\\ \n",
    "            \\vdots\\\\\\\n",
    "            \\Psi_{n-1}\n",
    "        \\end{array}\n",
    "    \\right)\n",
    "    :=\n",
    "    \\left(\n",
    "        \\begin{array}{c}\n",
    "            \\chi_0\\\\\\\n",
    "            \\chi_1\\\\\\\n",
    "            \\vdots\\\\\\\n",
    "            \\chi_{n-1}\n",
    "        \\end{array}\n",
    "    \\right)\n",
    "\\end{equation*}$$\n",
    "Note: $\\Psi$ = Psi\n",
    "$\\chi$ = chi\n",
    "\n",
    "**for** $i = 0,...,n - 1\\\\\n",
    "    \\Psi_i := \\chi_i$\n",
    "\n",
    "**endfor**\n",
    "\n",
    "**Cost**\n",
    "\n",
    "(Notice: we will cost of various operations in more detail in the future.)\n",
    "    Copying one vector to another vector requires 2*n* memory operations (memops).  \n",
    "* The vector x of length n must be read, requires n memops and\n",
    "* the vector y must be written, which accounts for the other n memops.\n",
    "    \n",
    "### **1.3.2 Vector Addition** (ADD)\n",
    "\n",
    "**Definition**\n",
    "\n",
    "**Definition 1.5** *Vector addition* $x + y$ (*sum of vectors) is defined by*\n",
    "\n",
    "$$\\begin{equation*}\n",
    "x + y =\n",
    "\\left(\n",
    "    \\begin{array}{c}\n",
    "        \\chi_0\\\\\\\n",
    "        \\chi_1\\\\\\\n",
    "        \\vdots\\\\\\\n",
    "        \\chi_{n-1}\n",
    "    \\end{array}\n",
    "\\right)\n",
    "+\n",
    "\\left(\n",
    "    \\begin{array}{c}\n",
    "        \\Psi_0\\\\\\\n",
    "        \\Psi_1\\\\\\\n",
    "        \\vdots\\\\\\\n",
    "        \\Psi_{n-1}\n",
    "    \\end{array}\n",
    "\\right)\n",
    "=\n",
    "\\left(\n",
    "    \\begin{array}{c}\n",
    "        \\chi_0 + \\Psi_0\\\\\\\n",
    "        \\chi_1 + \\Psi_1\\\\\\\n",
    "        \\vdots\\\\\\\n",
    "        \\chi_{n-1} + \\Psi_{n-1}\\\\\\\n",
    "    \\end{array}\n",
    "\\right)\n",
    "\\end{equation*}$$\n",
    "\n",
    "In other words, the vectors are added element-wise, yielding a new vector of the same size.\n",
    "\n",
    "**Algorithm**\n",
    "\n",
    "The following algorithm assigns the sum of vectors $x$ and $y$ (of size $n$ and stored in arrays x and y) to vector z(of size $n$ and stored in array z), computing $z:= x+y:$\n",
    "$$\\begin{equation*}\n",
    "    \\left(\n",
    "        \\begin{array}{c}\n",
    "            \\zeta_0\\\\\\\n",
    "            \\zeta_1\\\\\\\n",
    "            \\vdots\\\\\\\n",
    "            \\zeta_{n-1}\n",
    "        \\end{array}\n",
    "    \\right)\n",
    "    :=\n",
    "    \\left(\n",
    "        \\begin{array}{c}\n",
    "            \\chi_0 + \\Psi_0\\\\\\\n",
    "            \\chi_1 + \\Psi_1\\\\\\\n",
    "            \\vdots\\\\\\\n",
    "            \\chi_{n-1} + \\Psi_{n-1}\n",
    "        \\end{array}            \n",
    "     \\right)                   \n",
    "     .\n",
    "\\end{equation*}$$\n",
    " \n",
    " **for** $i = 0,...,n - 1\\\\  \n",
    "     \\zeta_i := \\chi_i + \\Psi_i$\n",
    "\n",
    "**endfor**\n",
    "\n",
    "**Cost**\n",
    "\n",
    "$\\qquad$On a computer, real numbers are stored as floating point numbers, and real arithmetic is approximated with floating point arithmetic. <mark>Thus we count floating point operations (flops)</mark>: a multiplication or addition each cost one flop.  \n",
    "$\\qquad$Vector addition requires 3$n$ memops ($x$ is read, $y$ is read, and the resulting vector is written) and $n$ flops(floating point additions). For those who understand \"Big-O\" notation, the cost of the $SCAL$ operation, which is seen in the next section, is $O(n)$. However, we tend to want to be more exact than just saying $O(n)$. To us, the coefficient in front of $n$ is important.\n",
    "\n",
    "### **1.3.3 Scaling**($SCAL$) \n",
    "\n",
    "**Definition 1.6** *Multiplying vector $x$ by scalar $\\alpha$ yields a new vector, $\\alpha x$, in the same direction as $x$, but scaled by a factor $\\alpha$. Scaling a vector by $\\alpha$ means each of its components, $\\chi_i$, is multiplied by $\\alpha$*:\n",
    "$$\\begin {equation*}\n",
    "\\alpha x = \\alpha\n",
    "\\left(\n",
    "    \\begin {array}{c}\n",
    "        \\chi_0\\\\\\\n",
    "        \\chi_1\\\\\\\n",
    "        \\vdots\\\\\\\n",
    "        \\chi_{n-1}\n",
    "    \\end {array}    \n",
    "\\right)\n",
    "=\n",
    "\\left(\n",
    "    \\begin {array}{c}\n",
    "        \\alpha\\chi_0\\\\\\\n",
    "        \\alpha\\chi_1\\\\\\\n",
    "        \\vdots\\\\\\\n",
    "        \\alpha\\chi_{n-1}\n",
    "    \\end {array}    \n",
    "\\right)\n",
    ".\n",
    "\\end {equation*}$$\n"
   ]
  },
  {
   "cell_type": "markdown",
   "metadata": {},
   "source": [
    "**Homework 1.3.3**"
   ]
  },
  {
   "cell_type": "code",
   "execution_count": 53,
   "metadata": {},
   "outputs": [
    {
     "data": {
      "text/html": [
       "<html><script type=\"math/tex; mode=display\">\\newcommand{\\Bold}[1]{\\mathbf{#1}}\\left(\\begin{array}{rr}\n",
       "-3 & 6\n",
       "\\end{array}\\right)</script></html>"
      ],
      "text/plain": [
       "[-3  6]"
      ]
     },
     "metadata": {},
     "output_type": "display_data"
    }
   ],
   "source": [
    "a = matrix([-1,2])\n",
    "show(((a)+(a))+(a))"
   ]
  },
  {
   "cell_type": "markdown",
   "metadata": {},
   "source": [
    "$$\\begin{equation*}\n",
    "    \\left(\n",
    "    \\left(\n",
    "        \\begin{array}{c}\n",
    "        -1\\\\\\\n",
    "        2\n",
    "        \\end{array}\n",
    "    \\right)\n",
    "    +\n",
    "    \\left(\n",
    "        \\begin{array}{c}\n",
    "        -1\\\\\\\n",
    "        2\n",
    "        \\end{array}\n",
    "    \\right)\n",
    "    \\right)\n",
    "    +\n",
    "    \\left(\n",
    "        \\begin{array}{c}\n",
    "        -1\\\\\\\n",
    "        2\n",
    "        \\end{array}\n",
    "    \\right)\n",
    "    =\n",
    "    \\left(\n",
    "        \\begin{array}{c}\n",
    "        -3\\\\\\\n",
    "        6\n",
    "        \\end{array}\n",
    "    \\right)\n",
    "\\end{equation*}$$"
   ]
  },
  {
   "cell_type": "code",
   "execution_count": 54,
   "metadata": {},
   "outputs": [
    {
     "data": {
      "text/html": [
       "<html><script type=\"math/tex; mode=display\">\\newcommand{\\Bold}[1]{\\mathbf{#1}}\\left(\\begin{array}{rr}\n",
       "-3 & 6\n",
       "\\end{array}\\right)</script></html>"
      ],
      "text/plain": [
       "[-3  6]"
      ]
     },
     "metadata": {},
     "output_type": "display_data"
    }
   ],
   "source": [
    "scalar = 3\n",
    "show(3 * a)"
   ]
  },
  {
   "cell_type": "markdown",
   "metadata": {},
   "source": [
    "$$\\begin{equation*}\n",
    "3\\times\n",
    "    \\left(\n",
    "        \\begin{array}{c}\n",
    "        -1\\\\\\\n",
    "        2\n",
    "        \\end{array}\n",
    "    \\right)\n",
    "=\n",
    "    \\left(\n",
    "        \\begin{array}{c}\n",
    "        -3\\\\\\\n",
    "        6\n",
    "        \\end{array}\n",
    "    \\right)\n",
    "\\end{equation*}$$"
   ]
  },
  {
   "cell_type": "code",
   "execution_count": 55,
   "metadata": {},
   "outputs": [
    {
     "data": {
      "image/png": "[encoded data removed]",
      "text/plain": [
       "Graphics object consisting of 4 graphics primitives"
      ]
     },
     "execution_count": 55,
     "metadata": {},
     "output_type": "execute_result"
    }
   ],
   "source": [
    "a = matrix([[0,0],[4,2]])\n",
    "b = .5 * a\n",
    "c = -.5 * a\n",
    "d = 2 * a\n",
    "line(a) + line(b) + line(c,color = 'green') + line(d,color = 'red')"
   ]
  },
  {
   "cell_type": "markdown",
   "metadata": {},
   "source": [
    "**Algorithm**\n",
    "\n",
    "The following algorithm scales a vector $x \\in \\mathbb{R}^n$ by $\\alpha$, overwriting $x$ with the result $\\alpha x$:\n",
    "$$\\begin {equation*}\n",
    "\\left(\n",
    "    \\begin {array}{c}\n",
    "        \\chi_0\\\\\\\n",
    "        \\chi_1\\\\\\\n",
    "        \\vdots\\\\\\\n",
    "        \\chi_{n-1}\n",
    "    \\end {array}    \n",
    "\\right)\n",
    ":=\n",
    "\\left(\n",
    "    \\begin {array}{c}\n",
    "        \\alpha\\chi_0\\\\\\\n",
    "        \\alpha\\chi_1\\\\\\\n",
    "        \\vdots\\\\\\\n",
    "        \\alpha\\chi_{n-1}\n",
    "    \\end {array}    \n",
    "\\right)\n",
    ".\n",
    "\\end {equation*}$$"
   ]
  },
  {
   "cell_type": "markdown",
   "metadata": {},
   "source": [
    "<div class=\"alert alert-block alert-info\">\n",
    "**for** $ i = 0,..., n - 1$  \n",
    "\n",
    "$\\qquad \\chi_i := \\alpha \\chi_i $  \n",
    "**endfor**\n",
    "</div>"
   ]
  },
  {
   "cell_type": "markdown",
   "metadata": {},
   "source": [
    "**Cost**\n",
    "\n",
    "Scaling a vector requires $n$ flops and $2n + 1$ memops. Here, $\\alpha$ is only brought in from memory once and kept in a register for reuse. To fully understand this, you need to know a little bit about computer architecture.  \n",
    "$\\qquad$\"Among friends\" we will simply say that the cost is $2n$ memops since the one extra memory operations(to bring $\\alpha$ in from memory) is negligible."
   ]
  },
  {
   "cell_type": "markdown",
   "metadata": {},
   "source": [
    "**Summary**\n",
    "- Scaling a vector $x$ by $\\alpha$ results in a new vector in the same direction as $x$, but with length scaled by $\\alpha$.\n",
    "- Computing $\\alpha x$ means each component of $x$ is multiplied by $\\alpha$."
   ]
  },
  {
   "cell_type": "markdown",
   "metadata": {},
   "source": [
    "### 1.3.4 Vector Subtraction\n",
    "\n",
    "Recall the geometric interpretation for adding two vectors, $x,y \\in \\mathbb{R}^n$:  \n",
    "Subtracting $y$ from $x$ is defined as  $$x - y = x + (-y).$$  \n",
    "We learned in the last unit that $-y$ is the same as $(-1)y$ which is the same as pointing $y$ in the opposite direction, while keeping it's length the same. This allows us to take the parallelogram that we used to illustrate vector addition and change it into the equivalent picture. Since we know how to add two vectors, we can now illustrate $x + (-y):$ Which then means that $x-y$ can be illustrated by  Finally, we note that the parallelogram can be used to simultaneously illustrate vector addition and subtraction: (Obviously, you need to be careful to point the vectors in the right direction.)  \n",
    "$\\qquad$Now computing $x - y$ when $x,y \\in \\mathbb{R}^n$ is a simple matter of subtracting components of $y$ off the corresponding components of $x$: *Look at week 1 pdf notes, or figure out how to insert pictures*  "
   ]
  },
  {
   "cell_type": "markdown",
   "metadata": {},
   "source": [
    "$$\\begin{equation*}\n",
    "x - y =\n",
    "\\left(\n",
    "    \\begin{array}{c}\n",
    "        \\chi_0\\\\\\\n",
    "        \\chi_1\\\\\\\n",
    "        \\vdots\\\\\\\n",
    "        \\chi_{n-1}\n",
    "    \\end{array}\n",
    "\\right)\n",
    "-\n",
    "\\left(\n",
    "    \\begin{array}{c}\n",
    "        \\Psi_0\\\\\\\n",
    "        \\Psi_1\\\\\\\n",
    "        \\vdots\\\\\\\n",
    "        \\Psi_{n-1}\n",
    "    \\end{array}\n",
    "\\right)\n",
    "=\n",
    "\\left(\n",
    "    \\begin{array}{c}\n",
    "        \\chi_0 - \\Psi_0\\\\\\\n",
    "        \\chi_1 - \\Psi_1\\\\\\\n",
    "        \\vdots\\\\\\\n",
    "        \\chi_{n-1} - \\Psi_{n-1}\n",
    "    \\end{array}\n",
    "\\right)\n",
    ".\n",
    "\\end{equation*}$$"
   ]
  },
  {
   "attachments": {
    "2018-09-05_14-50-00.png": {
     "image/png": "[encoded data removed]"
    }
   },
   "cell_type": "markdown",
   "metadata": {},
   "source": [
    "![2018-09-05_14-50-00.png](attachment:2018-09-05_14-50-00.png)"
   ]
  },
  {
   "cell_type": "markdown",
   "metadata": {},
   "source": [
    "**Homework 1.3.4**\n",
    "For $x \\in \\mathbb{R}^n, x - x = 0.$  \n",
    "$\\qquad$>> Always  \n",
    "**Proof:** Let $x$ be arbitrary\n",
    "$$\\begin{align*} \\\n",
    "&\\quad \\: x - x \\\\\n",
    "&= \n",
    "x + (-1)x &<def ->\\\\\n",
    "&= \n",
    "\\left(\\begin{array}{c} \\chi_0\\\\\\ \\chi_1\\\\\\ \\vdots\\\\\\ \\chi_{n-1} \\end{array} \\right) + (-1) \\left(\\begin{array}{c} \\chi_0\\\\\\ \n",
    "\\chi_1\\\\\\ \\vdots\\\\\\ \\chi_{n-1} \\end{array} \\right) &<notation> \\\\\n",
    "&=\n",
    "\\left(\\begin{array}{c} \\chi_0\\\\\\ \\chi_1\\\\\\ \\vdots\\\\\\ \\chi_{n-1} \\end{array} \\right) + \\left(\\begin{array}{c} -\\chi_0\\\\\\ \n",
    "-\\chi_1\\\\\\ -\\vdots\\\\\\ -\\chi_{n-1} \\end{array} \\right) &<scalar\\:multiplication> \\\\\n",
    "&=\n",
    "\\left(\n",
    "    \\begin{array}{c}\n",
    "        \\chi_0 + (-\\chi_0)\\\\\\\n",
    "        \\chi_1 + (-\\chi_1)\\\\\\\n",
    "        \\vdots\\\\\\\n",
    "        \\chi_{n-1} + (-\\chi_{n-1})\n",
    "    \\end{array}\n",
    "\\right) &<vector\\:addition>\\\\\n",
    "&=\n",
    "\\left(\n",
    "    \\begin{array}{c}\n",
    "        0\\\\\\\n",
    "        0\\\\\\\n",
    "        \\vdots\\\\\\\n",
    "        0\n",
    "    \\end{array}\n",
    "\\right) &<real\\:\\#\\:addition>\\\\\n",
    "&=\n",
    "0\n",
    "\\end{align*}$$\n",
    "\n",
    "For $x,y \\in \\mathbb{R}^n, x - y = y - x.$  \n",
    "$\\qquad$>> Sometimes  \n",
    "The important thing is to notce that the length if the same, but the direction is opposite, since $x - y = (-1) \\times (y - x).$ It is equal ONLY if $x = y$!"
   ]
  },
  {
   "cell_type": "markdown",
   "metadata": {},
   "source": [
    "## 1.4 Advanced Vector Operations\n",
    "\n",
    "### 1.4.1 Scaled Vector Addition ($AXPY$)\n",
    "\n",
    "**Definition 1.7** *One of the most commonly encountered operations when implementing more complex linear algebra operations is the scaled vector addition, which (given $x,y \\in \\mathbb{R}^n$) computes $y := \\alpha x + y:$*"
   ]
  },
  {
   "cell_type": "markdown",
   "metadata": {},
   "source": [
    "$$\\begin{equation*}\n",
    "\\alpha x + y = \\alpha\n",
    "\\left(\n",
    "    \\begin{array}{c}\n",
    "    \\chi_0\\\\\\\n",
    "    \\chi_1\\\\\\\n",
    "    \\vdots\\\\\\\n",
    "    \\chi{n-1}\n",
    "    \\end{array}\n",
    "\\right)\n",
    "+\n",
    "\\left(\n",
    "    \\begin{array}{c}\n",
    "    \\Psi_0\\\\\\\n",
    "    \\Psi_1\\\\\\\n",
    "    \\vdots\\\\\\\n",
    "    \\Psi_{n-1}\n",
    "    \\end{array}\n",
    "\\right)\n",
    "=\n",
    "\\left(\n",
    "    \\begin{array}{c}\n",
    "    \\alpha \\chi_0 + \\Psi_0\\\\\\\n",
    "    \\alpha \\chi_1 + \\Psi_1\\\\\\\n",
    "    \\vdots\\\\\\\n",
    "    \\alpha \\chi_{n-1} + \\Psi_{n-1}\n",
    "    \\end{array}\n",
    "\\right)\n",
    ".\n",
    "\\end{equation*}$$"
   ]
  },
  {
   "cell_type": "markdown",
   "metadata": {},
   "source": [
    "It is often referred to as the $AXPY$ operation, which stands for **a**lpha times **x p**lus **y**. We emphasize that it is typically used in situations where the output vector overwrites the input vector $y$."
   ]
  },
  {
   "cell_type": "markdown",
   "metadata": {},
   "source": [
    "**Algorithm**\n",
    "\n",
    "Obviously, one could copy $x$ into another vector, scale it by $\\alpha$, and then add it to $y$. Usually, however, vector $y$ is simply updated one element at a time:"
   ]
  },
  {
   "cell_type": "markdown",
   "metadata": {},
   "source": [
    "$$\\begin{equation*}\n",
    "\\left(\n",
    "    \\begin{array}{c}\n",
    "        \\Psi_0\\\\\\\n",
    "        \\Psi_1\\\\\\\n",
    "        \\vdots\\\\\\\n",
    "        \\Psi_{n-1}\n",
    "    \\end{array}\n",
    "\\right)\n",
    ":=\n",
    "\\left(\n",
    "    \\begin{array}{c}\n",
    "        \\alpha \\chi_0 +\\Psi_0\\\\\\\n",
    "        \\alpha \\chi_1 +\\Psi_1\\\\\\\n",
    "        \\vdots\\\\\\\n",
    "        \\alpha \\chi_{n-1}\\Psi_{n-1}\n",
    "    \\end{array}\n",
    "\\right)\n",
    ".\n",
    "\\end{equation*}$$"
   ]
  },
  {
   "cell_type": "markdown",
   "metadata": {},
   "source": [
    "<div class=\"alert alert-block alert-info\">\n",
    "**for** $ i = 0,...,n - 1$  \n",
    "\n",
    "$\\qquad \\Psi_i := \\alpha \\chi_i + \\Psi_i$  \n",
    "**endfor**\n",
    "</div>"
   ]
  },
  {
   "cell_type": "code",
   "execution_count": 49,
   "metadata": {},
   "outputs": [],
   "source": [
    "# n is the number of elements in the vectors, the size of the vector. This is obvious but I didn't get it for a bit."
   ]
  },
  {
   "cell_type": "markdown",
   "metadata": {},
   "source": [
    "**Cost**\n",
    "\n",
    "In Section 1.3 for many of the operations we discuss the cost in terms of memory operations (memops) and floating point operations (flops). This is discussed in the text, but not the videos. The reason for this is that we will talk about the cost of various operations later in a larger context, and include these discussions here for more completely."
   ]
  },
  {
   "cell_type": "markdown",
   "metadata": {},
   "source": [
    "**Homework 1.4.1.1**\n",
    "1. What is the cost of an axpy operation?  \n",
    "How many memops?  \n",
    "(a) $3n +1$\n",
    "2. How many flops?  \n",
    "(d) $2n$"
   ]
  },
  {
   "cell_type": "markdown",
   "metadata": {},
   "source": [
    "### 1.4.2 Linear Combinations of Vectors  \n",
    "There are few concepts in linear algebra more fundamental than linear combination of vectors.\n",
    "\n",
    "**Definition 1.8** *Let $u,v \\in \\mathbb{R}^m$ and $\\alpha,\\beta \\in \\mathbb{R}$. Then $\\alpha u + \\beta v$ is said to be a linear combination of vectors $u$ and $v$:*"
   ]
  },
  {
   "cell_type": "code",
   "execution_count": null,
   "metadata": {},
   "outputs": [],
   "source": [
    "# u and v are two vectors of length m, alpha and beta are two scalars."
   ]
  },
  {
   "cell_type": "markdown",
   "metadata": {},
   "source": [
    "$$\\begin{equation*}\n",
    "\\alpha u + \\beta v = \\alpha\n",
    "\\left(\n",
    "    \\begin{array}{c}\n",
    "        \\upsilon_0\\\\\\\n",
    "        \\upsilon_1\\\\\\\n",
    "        \\vdots\\\\\\\n",
    "        \\upsilon_{m-1}\n",
    "    \\end{array}\n",
    "\\right)\n",
    "+ \\beta\n",
    "\\left(\n",
    "    \\begin{array}{c}\n",
    "        v_0\\\\\\\n",
    "        v_1\\\\\\\n",
    "        \\vdots\\\\\\\n",
    "        v_{m-1}\n",
    "    \\end{array}\n",
    "\\right)\n",
    "=\n",
    "\\left(\n",
    "    \\begin{array}{c}\n",
    "        \\alpha \\upsilon_0\\\\\\\n",
    "        \\alpha \\upsilon_1\\\\\\\n",
    "        \\vdots\\\\\\\n",
    "        \\alpha \\upsilon_{m-1}\n",
    "    \\end{array}\n",
    "\\right)\n",
    "+\n",
    "\\left(\n",
    "    \\begin{array}{c}\n",
    "        \\beta v_0\\\\\\\n",
    "        \\beta v_1\\\\\\\n",
    "        \\vdots\\\\\\\n",
    "        \\beta v_{m-1}\n",
    "    \\end{array}\n",
    "\\right)\n",
    "=\n",
    "\\left(\n",
    "    \\begin{array}{c}\n",
    "    \\alpha \\upsilon_0 + \\beta v_0\\\\\\\n",
    "    \\alpha \\upsilon_1 + \\beta v_1\\\\\\\n",
    "    \\vdots\\\\\\\n",
    "    \\alpha \\upsilon_{m-1} + \\beta v_{m-1}\\\\\\\n",
    "    \\end{array}\n",
    "\\right)\n",
    ".\n",
    "\\end{equation*}$$"
   ]
  },
  {
   "cell_type": "markdown",
   "metadata": {},
   "source": [
    "*The scalars $\\alpha$ and $\\beta$ are the coefficients used in the linear combination.  \n",
    "$\\quad$More generally, if $v_0,\\ldots,v_{n-1} \\in\\mathbb{R}^m$ are $n$ vectors and $\\chi_0,\\ldots,\\chi_{n-1} \\in \\mathbb{R}$ are $n$ scalars, then $\\chi_0 v_0 + \\chi_1 v_1 + \\ldots + \\chi_{n-1} v_{n-1}$ is a linear combination of the vectors, with coefficients $\\chi_0,\\ldots,\\chi_{n-1}$.*"
   ]
  },
  {
   "cell_type": "markdown",
   "metadata": {},
   "source": [
    "$\\qquad$We will often use the summation notation to more concisely write such a linear combination:  \n",
    "$$\\begin{equation*}\n",
    "\\chi_0 v_0 + \\chi_1 v_1 + \\ldots + \\chi_{n-1} v_{n-1} = \\sum_{j=0}^{n-1} \\chi_j v_j .\n",
    "\\end{equation*}$$"
   ]
  },
  {
   "cell_type": "code",
   "execution_count": 56,
   "metadata": {},
   "outputs": [],
   "source": [
    "# AXPY is a linear combination, Beta = 1."
   ]
  },
  {
   "cell_type": "markdown",
   "metadata": {},
   "source": [
    "**Algorithm**  \n",
    "\n",
    "Given $v_0,\\ldots,v_{n-1} \\in\\mathbb{R}^m$ and $\\chi_0,\\ldots,\\chi_{n-1}\\in\\mathbb{R}$ the linear combination $w = \\chi_0v_0 + \\chi_1v_1 + \\ldots + \\chi_{n-1}v_{n-1}$ can be computed by first setting the result vector $w$ to the zero vector of size $m$, and then performing $n$ $AXPY$ operations:"
   ]
  },
  {
   "cell_type": "markdown",
   "metadata": {},
   "source": [
    "<div class=\"alert alert-block alert-info\">\n",
    "$w = 0\\qquad$(the zero vector of size $m$)  \n",
    "\n",
    "**for** $j = 0,\\ldots\\,n - 1$  \n",
    "  \n",
    "  $\\qquad w := \\chi_j v_j + w$  \n",
    "  \n",
    "**endfor**\n",
    "</div>"
   ]
  },
  {
   "cell_type": "markdown",
   "metadata": {},
   "source": [
    "The axpy operation computed $y := \\alpha x + y$. In our algorithm, $\\chi_j$ takes the place of $\\alpha, v_j$ the place of $x$, and $w$ the place of $y$."
   ]
  },
  {
   "cell_type": "markdown",
   "metadata": {},
   "source": [
    "**Cost**\n",
    "\n",
    "We noted that computing $w = \\chi_0 v_0 + \\chi_1 v_1 + \\ldots \\chi_{n-1} v_{n-1}$ can be implementated as $n$ $AXPY$ operations. This suggests that the cost is $n$ times the cost of an $AXPY$ operation with vectors of size $m: n \\times (2m) = 2mn$ flops and (approximately) $n \\times (3m)$ memops.  \n",
    "$\\qquad$**However**, one can actually do better. The vector $w$ is updated repeatedly. If this vector stays in the L1 cache of a computer, then it needs not be repeatedly loaded from memory, and the cost becomes $m$ memops(to load $w$ into the cache) and then for each $AXPY$ operation(approximately) $m$ memops(to read $v_j$(ignoring the cost of reading $\\chi_j$. Then, once $w$ has been completely updated, it can eb written back to memory. So, the total cost related to accessing memory becomes $m + n \\times m + m = (n+2)m \\approx mn$ memops."
   ]
  },
  {
   "cell_type": "markdown",
   "metadata": {},
   "source": [
    "**An important example**"
   ]
  },
  {
   "cell_type": "markdown",
   "metadata": {},
   "source": [
    "**Example 1.9** Given any $x \\in \\mathbb{R}^n$ with $x = \\pmatrix{\\chi_0\\\\ \\chi_1\\\\ \\vdots\\\\ \\chi_{n-1}},$ this vector can always be written as the linear combination of the unit basis vectors given by   "
   ]
  },
  {
   "cell_type": "markdown",
   "metadata": {},
   "source": [
    "$$ x \\quad = \\quad\n",
    "\\pmatrix{\\chi_0\\\\ \n",
    "         \\chi_1\\\\ \n",
    "         \\vdots\\\\ \n",
    "         \\chi_{n-1}} \n",
    "= \\chi_0 \n",
    "\\pmatrix{1\\\\\n",
    "         0\\\\\n",
    "         \\vdots\\\\\n",
    "         0\\\\\n",
    "         0} \n",
    "+ \\chi_1\n",
    "\\pmatrix{0\\\\\n",
    "         1\\\\\n",
    "         \\vdots\\\\\n",
    "         0\\\\\n",
    "         0}\n",
    "+ \\ldots + \\chi_{n-1}\n",
    "\\pmatrix{0\\\\\n",
    "         0\\\\\n",
    "         \\vdots\\\\\n",
    "         0\\\\\n",
    "         1}$$"
   ]
  },
  {
   "cell_type": "markdown",
   "metadata": {},
   "source": [
    "$$=\\quad \\chi_0 e_0 + \\chi_1 e_1 + \\ldots + \\chi_{n-1} e_{n-1} = \\sum_{i = 0}^{n - 1} \\chi_i e_i .$$\n",
    "\n",
    "Shortly, this will become really important as we make the connection between linear combinations of vectors, linear transformations, and matrices."
   ]
  },
  {
   "cell_type": "markdown",
   "metadata": {},
   "source": [
    "**Homework 1.4.2.1**"
   ]
  },
  {
   "cell_type": "code",
   "execution_count": 64,
   "metadata": {},
   "outputs": [
    {
     "data": {
      "text/plain": [
       "(8, 12, -1, 0)"
      ]
     },
     "execution_count": 64,
     "metadata": {},
     "output_type": "execute_result"
    }
   ],
   "source": [
    "vectorA = vector([2,4,-1,0])\n",
    "vectorB = vector([1,0,1,0])\n",
    "3*vectorA + 2*vectorB"
   ]
  },
  {
   "cell_type": "code",
   "execution_count": 65,
   "metadata": {},
   "outputs": [
    {
     "data": {
      "text/plain": [
       "[8, 12, -1, 0]"
      ]
     },
     "execution_count": 65,
     "metadata": {},
     "output_type": "execute_result"
    }
   ],
   "source": [
    "[6,12,-3,0] + [2,0,2,0] \n",
    "[8,12,-1,0]"
   ]
  },
  {
   "cell_type": "markdown",
   "metadata": {},
   "source": [
    "**Homework 1.4.2.2**"
   ]
  },
  {
   "cell_type": "code",
   "execution_count": 66,
   "metadata": {},
   "outputs": [
    {
     "data": {
      "text/plain": [
       "(-3, 2, 4)"
      ]
     },
     "execution_count": 66,
     "metadata": {},
     "output_type": "execute_result"
    }
   ],
   "source": [
    "a = vector([1,0,0])\n",
    "b = vector([0,1,0])\n",
    "c = vector([0,0,1])\n",
    "-3*a + 2*b + 4*c"
   ]
  },
  {
   "cell_type": "markdown",
   "metadata": {},
   "source": [
    "**Homework 1.4.2.3**"
   ]
  },
  {
   "cell_type": "markdown",
   "metadata": {},
   "source": [
    "$\\alpha \\left( \\begin{array}{r} 1 \\\\ 0 \\\\ 0 \\end{array} \\right) + \\beta \\left( \\begin{array}{r} 0 \\\\ 1 \\\\ 0 \\end{array} \\right) + \\gamma \\left( \\begin{array}{r} 0 \\\\ 0 \\\\ 1 \\end{array} \\right) = \\left( \\begin{array}{r} 2 \\\\ -1 \\\\ 3 \\end{array} \\right)$"
   ]
  },
  {
   "cell_type": "markdown",
   "metadata": {},
   "source": [
    "$\\alpha = 2$  \n",
    "$\\beta = -1$  \n",
    "$\\gamma = 3$"
   ]
  },
  {
   "cell_type": "markdown",
   "metadata": {},
   "source": [
    "### 1.4.3 Dot or Inner Product $(DOT)$"
   ]
  },
  {
   "cell_type": "code",
   "execution_count": 77,
   "metadata": {},
   "outputs": [],
   "source": [
    "# When the dot product is zero, it means that the vectors are orthagonal."
   ]
  },
  {
   "cell_type": "markdown",
   "metadata": {},
   "source": [
    "**Definition**\n",
    "\n",
    "The dot(inner) product is defined by:"
   ]
  },
  {
   "cell_type": "markdown",
   "metadata": {},
   "source": [
    "$$dot(x,y) = \\sum_{i=0}^{n-1} = \\chi_i\\Psi_i + \\chi_1\\Psi_1 + \\ldots + \\chi_{n-1}\\Psi{n-1}.$$"
   ]
  },
  {
   "cell_type": "markdown",
   "metadata": {},
   "source": [
    "***\n",
    "**Alternative notation**  \n",
    "We will often write"
   ]
  },
  {
   "cell_type": "markdown",
   "metadata": {},
   "source": [
    "$$x^Ty \\; = \\; dot(x,y) = \n",
    "\\pmatrix{\\chi_0\\\\ \n",
    "         \\chi_1\\\\ \n",
    "         \\vdots\\\\ \n",
    "         \\chi_{n-1}}^T \n",
    "\\pmatrix{\\Psi_0\\\\ \n",
    "         \\Psi_1\\\\ \n",
    "         \\vdots\\\\ \n",
    "         \\Psi_{n-1}}$$"
   ]
  },
  {
   "cell_type": "markdown",
   "metadata": {},
   "source": [
    "$$ = \\; (\\; \\chi_0 \\; \\chi_1 \\ldots \\chi_{n-1}\\;)\n",
    "\\pmatrix{\\Psi_0\\\\ \n",
    "         \\Psi_1\\\\ \n",
    "         \\vdots\\\\ \n",
    "         \\Psi_{n-1}}\n",
    "= \\chi_0\\Psi_0 + \\chi_1\\Psi_1 + \\ldots + \\chi_{n-1}\\Psi_{n-1}$$"
   ]
  },
  {
   "cell_type": "markdown",
   "metadata": {},
   "source": [
    "for reasons that will be more clear later."
   ]
  },
  {
   "cell_type": "code",
   "execution_count": 2,
   "metadata": {},
   "outputs": [],
   "source": [
    "# the T means transposition. This means that you take the column vector and turn it into a row vector. like above."
   ]
  },
  {
   "cell_type": "markdown",
   "metadata": {},
   "source": [
    "**Algorithm**  \n",
    " \n",
    " An algorithm for the $DOT$ operation is given by"
   ]
  },
  {
   "cell_type": "markdown",
   "metadata": {},
   "source": [
    "$\\alpha := 0$\n",
    "\n",
    "**for** $i = 0,\\ldots,n - 1$  \n",
    "\n",
    "$\\qquad\\alpha := \\chi_i\\Psi_i + \\alpha$  \n",
    "\n",
    "**endfor**"
   ]
  },
  {
   "cell_type": "markdown",
   "metadata": {},
   "source": [
    "**Homework 1.4.3.1**"
   ]
  },
  {
   "cell_type": "markdown",
   "metadata": {},
   "source": [
    "$\\left( \\begin{array}{r} 2 \\\\ 5 \\\\ -6 \\\\ 1 \\end{array} \\right)^T \\left( \\begin{array}{r} 1 \\\\ 1 \\\\ 1 \\\\ 1 \\\\ 1 \\\\ 1 \\\\ \\end{array} \\right)=$  \n",
    "Can't be done"
   ]
  },
  {
   "cell_type": "code",
   "execution_count": 21,
   "metadata": {
    "collapsed": true
   },
   "outputs": [
    {
     "ename": "TypeError",
     "evalue": "unsupported operand parent(s) for *: 'Ambient free module of rank 4 over the principal ideal domain Integer Ring' and 'Full MatrixSpace of 6 by 1 dense matrices over Integer Ring'",
     "output_type": "error",
     "traceback": [
      "\u001b[0;31m---------------------------------------------------------------------------\u001b[0m",
      "\u001b[0;31mTypeError\u001b[0m                                 Traceback (most recent call last)",
      "\u001b[0;32m<ipython-input-21-3e8a07113d71>\u001b[0m in \u001b[0;36m<module>\u001b[0;34m()\u001b[0m\n\u001b[1;32m      1\u001b[0m \u001b[0mx\u001b[0m \u001b[0;34m=\u001b[0m \u001b[0mvector\u001b[0m\u001b[0;34m(\u001b[0m\u001b[0;34m[\u001b[0m\u001b[0mInteger\u001b[0m\u001b[0;34m(\u001b[0m\u001b[0;36m2\u001b[0m\u001b[0;34m)\u001b[0m\u001b[0;34m,\u001b[0m\u001b[0mInteger\u001b[0m\u001b[0;34m(\u001b[0m\u001b[0;36m5\u001b[0m\u001b[0;34m)\u001b[0m\u001b[0;34m,\u001b[0m\u001b[0;34m-\u001b[0m\u001b[0mInteger\u001b[0m\u001b[0;34m(\u001b[0m\u001b[0;36m6\u001b[0m\u001b[0;34m)\u001b[0m\u001b[0;34m,\u001b[0m\u001b[0mInteger\u001b[0m\u001b[0;34m(\u001b[0m\u001b[0;36m1\u001b[0m\u001b[0;34m)\u001b[0m\u001b[0;34m]\u001b[0m\u001b[0;34m)\u001b[0m\u001b[0;34m\u001b[0m\u001b[0m\n\u001b[1;32m      2\u001b[0m \u001b[0my\u001b[0m \u001b[0;34m=\u001b[0m \u001b[0mmatrix\u001b[0m\u001b[0;34m(\u001b[0m\u001b[0mInteger\u001b[0m\u001b[0;34m(\u001b[0m\u001b[0;36m6\u001b[0m\u001b[0;34m)\u001b[0m\u001b[0;34m,\u001b[0m\u001b[0;34m[\u001b[0m\u001b[0mInteger\u001b[0m\u001b[0;34m(\u001b[0m\u001b[0;36m1\u001b[0m\u001b[0;34m)\u001b[0m\u001b[0;34m,\u001b[0m\u001b[0mInteger\u001b[0m\u001b[0;34m(\u001b[0m\u001b[0;36m1\u001b[0m\u001b[0;34m)\u001b[0m\u001b[0;34m,\u001b[0m\u001b[0mInteger\u001b[0m\u001b[0;34m(\u001b[0m\u001b[0;36m1\u001b[0m\u001b[0;34m)\u001b[0m\u001b[0;34m,\u001b[0m\u001b[0mInteger\u001b[0m\u001b[0;34m(\u001b[0m\u001b[0;36m1\u001b[0m\u001b[0;34m)\u001b[0m\u001b[0;34m,\u001b[0m\u001b[0mInteger\u001b[0m\u001b[0;34m(\u001b[0m\u001b[0;36m1\u001b[0m\u001b[0;34m)\u001b[0m\u001b[0;34m,\u001b[0m\u001b[0mInteger\u001b[0m\u001b[0;34m(\u001b[0m\u001b[0;36m1\u001b[0m\u001b[0;34m)\u001b[0m\u001b[0;34m]\u001b[0m\u001b[0;34m)\u001b[0m\u001b[0;34m\u001b[0m\u001b[0m\n\u001b[0;32m----> 3\u001b[0;31m \u001b[0mshow\u001b[0m\u001b[0;34m(\u001b[0m\u001b[0mx\u001b[0m\u001b[0;34m*\u001b[0m\u001b[0my\u001b[0m\u001b[0;34m)\u001b[0m\u001b[0;34m\u001b[0m\u001b[0m\n\u001b[0m",
      "\u001b[0;32m/opt/sagemath-8.3/local/lib/python2.7/site-packages/sage/structure/element.pyx\u001b[0m in \u001b[0;36msage.structure.element.Vector.__mul__ (build/cythonized/sage/structure/element.c:21929)\u001b[0;34m()\u001b[0m\n\u001b[1;32m   3364\u001b[0m         \u001b[0;32mif\u001b[0m \u001b[0mhave_same_parent\u001b[0m\u001b[0;34m(\u001b[0m\u001b[0mleft\u001b[0m\u001b[0;34m,\u001b[0m \u001b[0mright\u001b[0m\u001b[0;34m)\u001b[0m\u001b[0;34m:\u001b[0m\u001b[0;34m\u001b[0m\u001b[0m\n\u001b[1;32m   3365\u001b[0m             \u001b[0;32mreturn\u001b[0m \u001b[0;34m(\u001b[0m\u001b[0;34m<\u001b[0m\u001b[0mVector\u001b[0m\u001b[0;34m>\u001b[0m\u001b[0mleft\u001b[0m\u001b[0;34m)\u001b[0m\u001b[0;34m.\u001b[0m\u001b[0m_dot_product_\u001b[0m\u001b[0;34m(\u001b[0m\u001b[0;34m<\u001b[0m\u001b[0mVector\u001b[0m\u001b[0;34m>\u001b[0m\u001b[0mright\u001b[0m\u001b[0;34m)\u001b[0m\u001b[0;34m\u001b[0m\u001b[0m\n\u001b[0;32m-> 3366\u001b[0;31m         \u001b[0;32mreturn\u001b[0m \u001b[0mcoercion_model\u001b[0m\u001b[0;34m.\u001b[0m\u001b[0mbin_op\u001b[0m\u001b[0;34m(\u001b[0m\u001b[0mleft\u001b[0m\u001b[0;34m,\u001b[0m \u001b[0mright\u001b[0m\u001b[0;34m,\u001b[0m \u001b[0mmul\u001b[0m\u001b[0;34m)\u001b[0m\u001b[0;34m\u001b[0m\u001b[0m\n\u001b[0m\u001b[1;32m   3367\u001b[0m \u001b[0;34m\u001b[0m\u001b[0m\n\u001b[1;32m   3368\u001b[0m     \u001b[0mcpdef\u001b[0m \u001b[0m_dot_product_\u001b[0m\u001b[0;34m(\u001b[0m\u001b[0mVector\u001b[0m \u001b[0mleft\u001b[0m\u001b[0;34m,\u001b[0m \u001b[0mVector\u001b[0m \u001b[0mright\u001b[0m\u001b[0;34m)\u001b[0m\u001b[0;34m:\u001b[0m\u001b[0;34m\u001b[0m\u001b[0m\n",
      "\u001b[0;32m/opt/sagemath-8.3/local/lib/python2.7/site-packages/sage/structure/coerce.pyx\u001b[0m in \u001b[0;36msage.structure.coerce.CoercionModel_cache_maps.bin_op (build/cythonized/sage/structure/coerce.c:10874)\u001b[0;34m()\u001b[0m\n\u001b[1;32m   1225\u001b[0m         \u001b[0;31m# We should really include the underlying error.\u001b[0m\u001b[0;34m\u001b[0m\u001b[0;34m\u001b[0m\u001b[0m\n\u001b[1;32m   1226\u001b[0m         \u001b[0;31m# This causes so much headache.\u001b[0m\u001b[0;34m\u001b[0m\u001b[0;34m\u001b[0m\u001b[0m\n\u001b[0;32m-> 1227\u001b[0;31m         \u001b[0;32mraise\u001b[0m \u001b[0mbin_op_exception\u001b[0m\u001b[0;34m(\u001b[0m\u001b[0mop\u001b[0m\u001b[0;34m,\u001b[0m \u001b[0mx\u001b[0m\u001b[0;34m,\u001b[0m \u001b[0my\u001b[0m\u001b[0;34m)\u001b[0m\u001b[0;34m\u001b[0m\u001b[0m\n\u001b[0m\u001b[1;32m   1228\u001b[0m \u001b[0;34m\u001b[0m\u001b[0m\n\u001b[1;32m   1229\u001b[0m     \u001b[0mcpdef\u001b[0m \u001b[0mcanonical_coercion\u001b[0m\u001b[0;34m(\u001b[0m\u001b[0mself\u001b[0m\u001b[0;34m,\u001b[0m \u001b[0mx\u001b[0m\u001b[0;34m,\u001b[0m \u001b[0my\u001b[0m\u001b[0;34m)\u001b[0m\u001b[0;34m:\u001b[0m\u001b[0;34m\u001b[0m\u001b[0m\n",
      "\u001b[0;31mTypeError\u001b[0m: unsupported operand parent(s) for *: 'Ambient free module of rank 4 over the principal ideal domain Integer Ring' and 'Full MatrixSpace of 6 by 1 dense matrices over Integer Ring'"
     ]
    }
   ],
   "source": [
    "x = vector([2,5,-6,1])\n",
    "y = matrix(6,[1,1,1,1,1,1])\n",
    "show(x*y)"
   ]
  },
  {
   "cell_type": "markdown",
   "metadata": {},
   "source": [
    "**1.4.3.2**\n",
    "\n",
    "$$\\left( \\begin{array}{r} 2 \\\\ 5 \\\\ -6 \\\\ 1 \\end{array} \\right)^T \\left( \\begin{array}{r} 1 \\\\ 1 \\\\ 1 \\\\ 1 \\end{array} \\right)=$$"
   ]
  },
  {
   "cell_type": "markdown",
   "metadata": {},
   "source": [
    "$$n = 4\\\\\\begin{align*}\n",
    "\\chi_{n-1} + \\Psi_{n-1} &= x^Ty\\\\\n",
    "2 \\times 1 &= 2\\\\\n",
    "+\\; 5 \\times 1 &= 5\\\\\n",
    "+\\; {-6} \\times 1 &= {-6}\\\\\n",
    "+\\; 1 \\times 1 &= 1\\\\\n",
    "2 + 5 - 6 + 1 &= 2\\end{align*}$$"
   ]
  },
  {
   "cell_type": "code",
   "execution_count": 22,
   "metadata": {},
   "outputs": [
    {
     "data": {
      "text/html": [
       "<html><script type=\"math/tex; mode=display\">\\newcommand{\\Bold}[1]{\\mathbf{#1}}\\left(2\\right)</script></html>"
      ],
      "text/plain": [
       "(2)"
      ]
     },
     "metadata": {},
     "output_type": "display_data"
    }
   ],
   "source": [
    "x = vector([2,5,-6,1])\n",
    "y = matrix(4,[1,1,1,1])\n",
    "show(x*y)"
   ]
  },
  {
   "cell_type": "markdown",
   "metadata": {},
   "source": [
    "**1.4.3.3**  \n",
    "\n",
    "$\\left( \\begin{array}{r} 1 \\\\ 1 \\\\ 1 \\\\ 1 \\end{array} \\right)^T \\left( \\begin{array}{r} 2 \\\\ 5 \\\\ -6 \\\\ 1 \\end{array} \\right)= \\;2$"
   ]
  },
  {
   "cell_type": "markdown",
   "metadata": {},
   "source": [
    "**1.4.3.4**  \n",
    "For $x , y \\in \\mathbb{R}^n , \\\\  x^T  y = y^T x.$\n",
    "\n",
    "Always True. `too lazy to do the proof though. Here's a link to the video proof` https://www.youtube.com/watch?v=P4jS8Te3UDY"
   ]
  },
  {
   "cell_type": "markdown",
   "metadata": {},
   "source": [
    "**1.4.3.5**  \n",
    "\n",
    "$$\\left( \\begin{array}{r} 1 \\\\ 1 \\\\ 1 \\\\ 1 \\end{array} \\right)^T \\left (\\left( \\begin{array}{r} 2 \\\\ 5 \\\\ -6 \\\\ 1 \\end{array} \\right) + \\left(\\begin{array}{r} 1 \\\\ 2 \\\\ 3 \\\\ 4 \\end{array} \\right) \\right)=$$"
   ]
  },
  {
   "cell_type": "markdown",
   "metadata": {},
   "source": [
    "$$\\begin{align*}\n",
    " &= x^Ty\\\\\n",
    " y &= (u \\cdot v)\\\\\n",
    " 2 + 1 &= 3\\\\\n",
    " 5 + 2 &= 7\\\\\n",
    " {-6} + 3 &= {-3}\\\\\n",
    " 1 + 4 &= 5\\\\\n",
    " y &= \\pmatrix{3\\\\\n",
    "               7\\\\\n",
    "               {-3}\\\\\n",
    "               5}\\\\\n",
    "x^Ty &= (1\\times3) + (1\\times7) + (1\\times{-3}) + (1\\times5)\\\\\n",
    "&= 12\n",
    "\\end{align*}$$"
   ]
  },
  {
   "cell_type": "code",
   "execution_count": 24,
   "metadata": {},
   "outputs": [
    {
     "data": {
      "text/plain": [
       "[12]"
      ]
     },
     "execution_count": 24,
     "metadata": {},
     "output_type": "execute_result"
    }
   ],
   "source": [
    "u = matrix(4,[2,5,-6,1])\n",
    "v = matrix(4,[1,2,3,4])\n",
    "y = u + v\n",
    "xT = matrix([1,1,1,1])\n",
    "xT * y"
   ]
  },
  {
   "cell_type": "markdown",
   "metadata": {},
   "source": [
    "**1.4.3.6**\n",
    "\n",
    "$$\\left( \\begin{array}{r} 1 \\\\ 1 \\\\ 1 \\\\ 1 \\end{array} \\right)^T \\left( \\begin{array}{r} 2 \\\\ 5 \\\\ -6 \\\\ 1 \\end{array} \\right) + \\left( \\begin{array}{r} 1 \\\\ 1 \\\\ 1 \\\\ 1 \\end{array} \\right)^T \\left(\\begin{array}{r} 1 \\\\ 2 \\\\ 3 \\\\ 4 \\end{array} \\right)=$$"
   ]
  },
  {
   "cell_type": "markdown",
   "metadata": {},
   "source": [
    "$$\\begin{align*}\n",
    "2 + 5 - 6 + 1 &= 2\\\\\n",
    "1 + 2 + 3 + 4 &= 10\\\\\n",
    "10 + 2 &= 12\n",
    "\\end{align*}$$"
   ]
  },
  {
   "cell_type": "markdown",
   "metadata": {},
   "source": [
    "**1.4.3.7**\n",
    "\n",
    "$$\\left (\\left( \\begin{array}{r} 2 \\\\ 5 \\\\ -6 \\\\ 1 \\end{array} \\right) + \\left(\\begin{array}{r} 1 \\\\ 2 \\\\ 3 \\\\ 4 \\end{array} \\right) \\right)^T  \\left( \\begin{array}{r} 1 \\\\ 0 \\\\ 0 \\\\ 2 \\end{array} \\right)=$$"
   ]
  },
  {
   "cell_type": "markdown",
   "metadata": {},
   "source": [
    "$$\\begin{align*}\n",
    "&&<\\text{from}\\:1.4.3.5>\\\\\n",
    "y^T &= \\pmatrix{3,7,-3,5}\\\\\n",
    "x &= \\pmatrix{1,0,0,2}^T\\\\\n",
    "y^Tx &= (3\\times1) + (7\\times0) + (-3\\times0) + (5\\times2)\\\\\n",
    "&= 3 + 0 + 0 + 10\\\\\n",
    "&= 13\n",
    "\\end{align*}$$"
   ]
  },
  {
   "cell_type": "markdown",
   "metadata": {},
   "source": [
    "**1.4.3.8**  \n",
    "$\\text{For}\\: x , y, z \\in \\mathbb{R}^n , \\qquad\\qquad\\qquad\\text{Is this always true?}\\\\  \\quad x^T (y + z) = x^T y + x^T z.$"
   ]
  },
  {
   "cell_type": "markdown",
   "metadata": {},
   "source": [
    "$$\\begin{align*}\n",
    "x^T = \\pmatrix{1\\\\ \n",
    "               1\\\\\n",
    "               1\\\\\n",
    "               1\\\\}\n",
    ",\\;y &= \\pmatrix{2\\\\\n",
    "                5\\\\\n",
    "               -6\\\\\n",
    "                1\\\\}\n",
    ",\\;z = \\pmatrix{1\\\\\n",
    "                2\\\\\n",
    "                3\\\\\n",
    "                4\\\\}\\\\\n",
    "\\text{from 1.4.3.5,}\\\\\n",
    "x^T(y + z) &= 12\\\\\n",
    "x^Ty &=\\\\\n",
    "2 + 5 - 6 + 1 &= 2\\\\\n",
    "x^Tz &=\\\\\n",
    "1 + 2 + 3 + 4 &= 10\\\\\n",
    "x^Ty + x^Tz &= 12\\\\\n",
    "x^T(y + z) &= x^Ty + x^Tz\\\\\n",
    "&= \\; True\n",
    "\\end{align*}$$"
   ]
  },
  {
   "cell_type": "markdown",
   "metadata": {},
   "source": [
    "**1.4.3.11**\n",
    "\n",
    "For $x,y\\in\\mathbb{R}^n,$ when $x^Ty = 0, x = 0$ or $y = 0$  \n",
    "Always, **Sometimes**, or Never"
   ]
  },
  {
   "cell_type": "markdown",
   "metadata": {},
   "source": [
    "Let\n",
    "$$ x = \\pmatrix{1\\\\-2} \\qquad y = \\pmatrix{0\\\\0} \\qquad z = \\pmatrix{2\\\\1} $$\n",
    "$$\\begin{align*}\n",
    "x^Ty = (1)\\cdot0 + (-2)\\cdot0 &= 0\\\\\n",
    "x^Tz = (1)\\cdot 2 + (-2)\\cdot(1) &= 0\n",
    "\\end{align*}$$\n",
    "\n",
    "So, just because $x^Ty = 0$ does not mean $x$ or $y$ have to be zero, unlike in scalar multiplication. In matrix multiplication you can still get 0 without either factor being zero."
   ]
  },
  {
   "cell_type": "markdown",
   "metadata": {},
   "source": [
    "**1.4.4 Vector Length** $(NORM2)$  \n",
    "\n",
    "Let $x \\in \\mathbb{R}^n.$ Then the (Euclidean) length of a vector $x$ (the two-norm) is given by\n",
    "$$\\|x\\|_2 = \\sqrt{\\chi_0^2 + \\chi_1^2 + \\ldots + \\chi_{n-1}^2} = \\sqrt{\\sum_{i=0}^{n-1}\\chi_i^2} .$$"
   ]
  },
  {
   "cell_type": "markdown",
   "metadata": {},
   "source": [
    "Here $\\|x\\|_2$ notation stands for \"the two norm of $x$\", which is another way of saying \"the length of $x$\"."
   ]
  },
  {
   "cell_type": "markdown",
   "metadata": {},
   "source": [
    "**Homework 1.4.4.1**  \n",
    "$\\equiv$, `\\equiv`, means equivalence, like two formulas are equivalent to each other."
   ]
  },
  {
   "cell_type": "code",
   "execution_count": 25,
   "metadata": {},
   "outputs": [
    {
     "data": {
      "text/plain": [
       "1.00000000000000"
      ]
     },
     "execution_count": 25,
     "metadata": {},
     "output_type": "execute_result"
    }
   ],
   "source": [
    "sqrt(((.5)^2)*4)"
   ]
  },
  {
   "cell_type": "code",
   "execution_count": 31,
   "metadata": {},
   "outputs": [
    {
     "data": {
      "text/plain": [
       "3"
      ]
     },
     "execution_count": 31,
     "metadata": {},
     "output_type": "execute_result"
    }
   ],
   "source": [
    "sqrt(1^2 + 4 + 4)"
   ]
  },
  {
   "cell_type": "markdown",
   "metadata": {},
   "source": [
    "**Proof for perpendicular vectors dot product = 0**"
   ]
  },
  {
   "attachments": {
    "2018-09-07_17-41-26.png": {
     "image/png": "[encoded data removed]"
    }
   },
   "cell_type": "markdown",
   "metadata": {},
   "source": [
    "![2018-09-07_17-41-26.png](attachment:2018-09-07_17-41-26.png)\n",
    "$a^2 + b^2 = c^2\\\\\n",
    "\\|x\\|^2 = x^Tx\\\\\n",
    "\\|y\\|^2 = y^Ty\\\\\n",
    "\\|x+y\\|^2 = (x+y)^T(x+y)$\n"
   ]
  },
  {
   "cell_type": "markdown",
   "metadata": {},
   "source": [
    "$Proof:$\n",
    "$$\\begin{align*}\n",
    "\\|x+y\\|^2 - \\|x\\|^2 - \\|y\\|^2 &= 0&&<Pythagorean\\:Theorem>\\\\\n",
    "\\equiv\\qquad\\qquad\\qquad\\qquad\\qquad\\qquad\\\\ \n",
    "(x+y)^T(x+y) - x^Tx - y^Ty &= 0&&<length>\\\\\n",
    "\\equiv\\qquad\\qquad\\qquad\\qquad\\qquad\\qquad\\\\\n",
    "\\require{cancel}\\cancel{x^Tx} + 2x^Ty + \\cancel{y^Ty} \\cancel{- x^Tx} - \\cancel{y^Ty} &= 0 &&<Previous\\:Unit>\\\\\n",
    "\\equiv\\qquad\\qquad\\qquad\\qquad\\qquad\\qquad\\\\\n",
    "2x^Ty &= 0 &&<arithmetic>\\\\\n",
    "\\equiv\\qquad\\qquad\\qquad\\qquad\\qquad\\qquad\\\\\n",
    "x^Ty &= 0&&<arithmetic>\\\\\n",
    "\\end{align*}$$"
   ]
  },
  {
   "cell_type": "markdown",
   "metadata": {},
   "source": [
    "**1.4.5 Vector Functions**\n",
    "- We've agreed that lowercase greek letters are used for scalars.\n",
    "- A vector function is a function that takes one or more scalars and/or one or more vectors as inputs and then produces a vector as an output.\n",
    "\n",
    "$f(\\alpha,\\beta) = \\pmatrix{\\alpha+\\beta\\\\\\alpha-\\beta}$  \n",
    "$f(-2,1) =\\pmatrix{-2 + 1\\\\-2-1} = \\pmatrix{-1\\\\-3}.$\n"
   ]
  },
  {
   "cell_type": "markdown",
   "metadata": {},
   "source": [
    "**Homework 1.4.6.2**"
   ]
  },
  {
   "cell_type": "markdown",
   "metadata": {},
   "source": [
    "f(x0, x1, x2) = (x0, x0 + x1, x0 + x1 + x2)  \n",
    "2f(x0, x1, x2) = 2(x0, x0 + x1, x0 + x1 + x2)  \n",
    "= (2x0, 2x0 + 2x1, 2x0 + 2x1 + 2x2)  \n",
    "f(2(x0, x1, x2)) = f(2x0, 2x1, 2x2)  \n",
    "= (2x0, 2x1 + 2x0, 2x2 + 2x1 + 2x0)  "
   ]
  },
  {
   "cell_type": "markdown",
   "metadata": {},
   "source": [
    "**Random Notes:**    \n",
    "For $x, y, z \\in \\mathbb{R}^n,\\\\ \n",
    "    (x + y) + z = x + (y + z).$\n",
    "\n",
    "is always true."
   ]
  },
  {
   "attachments": {
    "Triangle_with_notations_2.svg": {
     "image/svg+xml": [
      "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"
     ]
    }
   },
   "cell_type": "markdown",
   "metadata": {},
   "source": [
    "**Law of cosines**\n",
    "![Triangle_with_notations_2.svg](attachment:Triangle_with_notations_2.svg)\n",
    "*Figure 1 – A triangle. The angles α (or A), β (or B), and γ (or C) are respectively opposite the sides a, b, and c.*  \n",
    "Relates the lengths of the sides of a triangle to the cosine of one of its angles.  \n",
    "$c^2 = a^2 + b^2 - 2ab\\cos\\gamma$  \n",
    "The law of cosines generalizes the Pythagorean theorem, which holds only for right triangles: if the angle γ is a right angle (of measure 90° [degrees], or π/2 radians), then cos γ = 0, and thus the law of cosines reduces to the Pythagorean theorem:  \n",
    "$c^2 = a^2 + b^2$  \n",
    "The law of cosines is useful for computing the third side of a triangle when two sides and their enclosed angle are known, and in computing the angles of a triangle if all three sides are known. "
   ]
  },
  {
   "cell_type": "markdown",
   "metadata": {},
   "source": [
    "- Using \"two dimensional array\" and \"matrix\" interchangeably is strictly speaking abuse of the term \"matrix\", even though it is done commonly. A matrix represents a linear transformation. "
   ]
  },
  {
   "cell_type": "markdown",
   "metadata": {},
   "source": [
    "##  1.6 Slicing and Dicing\n",
    "\n",
    "Basically you can partition vectors to take the dot product of parts of vectors, as long as they indices are the same."
   ]
  },
  {
   "cell_type": "markdown",
   "metadata": {},
   "source": [
    "## 1.7.1 Learn the Greek Alphabet\n",
    "\n",
    "Lowercase Greek letters ($\\alpha,\\beta,$ etc.) are used for scalars.\n",
    "\n",
    "Lowercase (Roman) letters ($a, b,$ etc) are used for vectors.\n",
    "\n",
    "Uppercase (Roman) letters ($A, B,$ etc) are used for matrices.\n",
    "\n",
    "Exceptions include the letters $l, j, k, l, m,$ and $n,$ which are typically used for integers"
   ]
  },
  {
   "cell_type": "markdown",
   "metadata": {},
   "source": [
    "### Homework 1.8.1.2\n",
    "\n",
    "Dot product has to be computed with a row vector, and then a column vector. Can't do column vector * row vector."
   ]
  }
 ],
 "metadata": {
  "kernelspec": {
   "display_name": "SageMath 8.3",
   "language": "",
   "name": "sagemath"
  },
  "language_info": {
   "codemirror_mode": {
    "name": "ipython",
    "version": 2
   },
   "file_extension": ".py",
   "mimetype": "text/x-python",
   "name": "python",
   "nbconvert_exporter": "python",
   "pygments_lexer": "ipython2",
   "version": "2.7.15"
  }
 },
 "nbformat": 4,
 "nbformat_minor": 2
}
