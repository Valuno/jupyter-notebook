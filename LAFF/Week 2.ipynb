{
 "cells": [
  {
   "cell_type": "markdown",
   "metadata": {},
   "source": [
    "# Linear Transformations and Matrices\n",
    "\n",
    "## 2.1 Opening Remarks\n",
    "\n",
    "### 2.1.1 Rotating in 2D\n",
    "\n",
    "A vector function $L$ is a linear transformation if\n",
    "- You can scale first and then transform, or transform first and then scale: $$L(\\alpha x) = \\alpha L(x).$$ and\n",
    "- You can transform first and then sum or sum first and then transform: $$L(x + y) = L(x) + L(y).$$\n",
    "\n",
    "Rotating vectors works the same way, just substitute $L$ for $R_\\theta$, which represents a function that transforms by angle $\\theta$.\n",
    "\n",
    "Reflecting a vector in 2D with respect to a line (as illustrated) is an example of a linear transformation.\n"
   ]
  },
  {
   "cell_type": "markdown",
   "metadata": {},
   "source": [
    "### 2.2.2 What is a linear transformation?\n",
    "\n",
    "- Show $f(\\alpha x) = \\alpha f(x)$:\n",
    "$$\\begin{align*}\n",
    "f(\\alpha x) &= f(\\alpha \\pmatrix{\\chi_0\\\\\\chi_1}) = f(\\pmatrix{\\alpha x_0\\\\\\alpha x_1})\\\\\n",
    "&= \\pmatrix{\\alpha\\chi_0 + \\alpha\\chi_1\\\\\\alpha\\chi_0}\n",
    "\\end{align*}$$ and"
   ]
  },
  {
   "cell_type": "markdown",
   "metadata": {},
   "source": [
    "$$\\begin{align*}\n",
    "\\alpha f(x) &= \\alpha f(\\pmatrix{\\chi_0\\\\\\chi_1}) = \\alpha\\pmatrix{\\chi_0 + \\chi_1\\\\\\chi_0} \\\\\n",
    "&= \\pmatrix{\\alpha(\\chi_0 + \\chi_1)\\\\\\alpha\\chi_0}\n",
    "\\end{align*}$$"
   ]
  },
  {
   "cell_type": "markdown",
   "metadata": {},
   "source": [
    "so that both $f(\\alpha x)$ and $\\alpha f(x)$ evaluate to the same expression."
   ]
  },
  {
   "cell_type": "markdown",
   "metadata": {},
   "source": [
    "Rewriting the proof to be more concise:\n",
    "$$\\begin{align*}\n",
    "f(\\alpha x) &= f(\\alpha \\pmatrix{\\chi_0\\\\\\chi_1}) = f(\\pmatrix{\\alpha x_0\\\\\\alpha x_1})\\\\\n",
    "&= \\pmatrix{\\alpha\\chi_0 + \\alpha\\chi_1\\\\\\alpha\\chi_0} &&<\\text{see note below}>\\\\\n",
    "&= \\pmatrix{\\alpha(\\chi_0 + \\chi_1)\\\\\\alpha\\chi_0}\\\\\n",
    "&= \\alpha\\pmatrix{\\chi_0 + \\chi_1\\\\\\chi_0} = \\alpha f(\\pmatrix{\\chi_0\\\\\\chi_1}) = \\alpha f(x).\n",
    "\\end{align*}$$"
   ]
  },
  {
   "cell_type": "markdown",
   "metadata": {},
   "source": [
    "Apparently, it's just true that $f\\pmatrix{\\chi_0\\\\\\chi_1} = \\pmatrix{\\chi_0 + \\chi_1\\\\\\chi_0}.$ Well, it is the function we're testing to see if it is a linear function or not."
   ]
  },
  {
   "cell_type": "markdown",
   "metadata": {},
   "source": [
    "*Note: pretend all my $\\Psi$s are $\\psi$ from here."
   ]
  },
  {
   "cell_type": "markdown",
   "metadata": {},
   "source": [
    "- Show $f(x + y) = f(x) + f(y):$\n",
    "$$\\begin{align*}\n",
    "f(x + y) &= f(\\pmatrix{\\chi_0\\\\\\chi_1} + \\pmatrix{\\Psi_0\\\\\\Psi_1}) = f(\\pmatrix{\\chi_0 + \\Psi_0\\\\\\chi_1 + \\Psi_1})\\\\\n",
    "&= \\pmatrix{(\\chi_0 + \\Psi_0) + (\\chi_1 + \\Psi_1)\\\\\\chi_0 + \\Psi_0}\n",
    "\\end{align*}$$"
   ]
  },
  {
   "cell_type": "markdown",
   "metadata": {},
   "source": [
    "and  \n",
    "$$\\begin{align*}\n",
    "f(x) + f(y) &= f\\pmatrix{\\chi_0\\\\\\chi_1} + f\\pmatrix{\\Psi_0\\\\\\Psi_1} \\\\\n",
    "&= \\pmatrix{\\chi_0 + \\chi_1\\\\\\chi_0} + \\pmatrix{\\Psi_0 + \\Psi_1\\\\\\Psi_0} \\\\\n",
    "&= \\pmatrix{(\\chi_0 + \\Psi_0) + (\\chi_1 + \\Psi_1)\\\\\\chi_0 + \\Psi_0}.\n",
    "\\end{align*}$$"
   ]
  },
  {
   "cell_type": "markdown",
   "metadata": {},
   "source": [
    "More concisely:  \n",
    "$$\\begin{align*}\n",
    "f(x + y) &= f(\\pmatrix{\\chi_0\\\\\\chi_1} + \\pmatrix{\\Psi_0\\\\\\Psi_1}) = f(\\pmatrix{\\chi_0 + \\Psi_0\\\\\\chi_1 + \\Psi_1})\\\\\n",
    "&= \\pmatrix{(\\chi_0 + \\Psi_0) + (\\chi_1 + \\Psi_1)\\\\\\chi_0 + \\Psi_0} \\\\\n",
    "&= \\pmatrix{(\\chi_0 + \\chi_1) + (\\Psi_0 + \\Psi_1)\\\\\\chi_0 + \\Psi_0} \\\\\n",
    "&= \\pmatrix{\\chi_0 + \\chi_1\\\\\\chi_0} + \\pmatrix{\\Psi_0 + \\Psi_1\\\\\\Psi_0} \\\\\n",
    "&=\\pmatrix{(\\chi_0 +\\Psi_0) + (\\chi_1 + \\Psi_1)\\\\\\chi_0 + \\Psi_0}\\\\\n",
    "&= f(\\pmatrix{\\chi_0\\\\\\chi_1}) + f(\\pmatrix{\\Psi_0\\\\\\Psi_1}) = f(x) + f(y) = f(x + y).\n",
    "\\end{align*}$$"
   ]
  },
  {
   "cell_type": "markdown",
   "metadata": {},
   "source": [
    "The transformation $f(\\pmatrix{\\chi_0\\\\\\chi_1} = \\pmatrix{\\chi_0 + \\chi_1\\\\\\chi_0}$ is a linear transformation."
   ]
  },
  {
   "cell_type": "markdown",
   "metadata": {},
   "source": [
    "Another example:\n",
    "The transformation $f\\pmatrix{\\chi\\\\\\Psi} = \\pmatrix{\\chi + \\Psi\\\\\\chi + 1}$ is *not* a linear transformation."
   ]
  },
  {
   "cell_type": "markdown",
   "metadata": {},
   "source": [
    "- Let $\\alpha$ = 1 and $\\pmatrix{\\chi\\\\\\Psi} = \\pmatrix{1\\\\1}.$ Then\n",
    "$$f(\\alpha\\pmatrix{\\chi\\\\\\Psi}) = f(1\\times\\pmatrix{1\\\\1}) = f(\\pmatrix{1\\\\1}) = \\pmatrix{1 + 1\\\\1 + 1} = \\pmatrix{2\\\\2} $$"
   ]
  },
  {
   "cell_type": "markdown",
   "metadata": {},
   "source": [
    "and\n",
    "$$\\alpha f(\\pmatrix{\\chi\\\\\\Psi}) = 1 \\times f(\\pmatrix{1\\\\1}) = 1 \\times\\pmatrix{1 + 1\\\\1 + 1} = \\pmatrix{2\\\\2}.$$"
   ]
  },
  {
   "cell_type": "markdown",
   "metadata": {},
   "source": [
    "So, for this choice of $x$ it is the case that $f(\\alpha\\chi) = \\alpha f(\\chi).$"
   ]
  },
  {
   "cell_type": "markdown",
   "metadata": {},
   "source": [
    "- Let $\\alpha = 0$ and $\\pmatrix{\\chi\\\\\\Psi} = \\pmatrix{1\\\\1}.$ Then"
   ]
  },
  {
   "cell_type": "markdown",
   "metadata": {},
   "source": [
    "Test $f(\\alpha\\pmatrix{\\chi\\\\\\Psi}) = \\alpha f(\\pmatrix{\\chi\\\\\\Psi})$"
   ]
  },
  {
   "cell_type": "markdown",
   "metadata": {},
   "source": [
    "$$f(\\alpha\\pmatrix{\\chi\\\\\\Psi}) = f(\\pmatrix{0\\\\0}) = \\pmatrix{0 + 0\\\\0 + 1} = \\pmatrix{0\\\\1}$$"
   ]
  },
  {
   "cell_type": "markdown",
   "metadata": {},
   "source": [
    "$$\\alpha f(\\pmatrix{\\chi\\\\\\Psi}) = 0 \\times f(\\pmatrix{1\\\\1}) = 0 \\times \\pmatrix{1 + 1\\\\1 + 1} = 0 \\times \\pmatrix{2\\\\2} = \\pmatrix{0\\\\0}$$"
   ]
  },
  {
   "cell_type": "markdown",
   "metadata": {},
   "source": [
    "$$\\text{So, for this choice of x it is the case that}\\:f(\\alpha\\pmatrix{\\chi\\\\\\Psi}) \\neq \\alpha f(\\pmatrix{\\chi\\\\\\Psi}),$$ "
   ]
  },
  {
   "cell_type": "markdown",
   "metadata": {},
   "source": [
    "Therefore, $f\\pmatrix{\\chi\\\\\\Psi} = \\pmatrix{\\chi + \\Psi\\\\\\chi + 1}$ is not a linear transformation."
   ]
  },
  {
   "cell_type": "markdown",
   "metadata": {},
   "source": [
    "**Summary**\n",
    "\n",
    "Linear transformations are special vector functions that have the property that\n",
    " - one can scale first and then transform, or transform first and then scale; **and**\n",
    " - one can add first and then transform, or transform and then add.\n",
    " \n",
    "Some vector functions are linear transformations. Others are not."
   ]
  },
  {
   "cell_type": "markdown",
   "metadata": {},
   "source": [
    "**Homework 2.2.2.1**  \n",
    "The vector function $f \\left( \\left( \\begin{array}{c} \\chi  \\\\ \\psi \\end{array} \\right) \\right) = \\left( \\begin{array}{c} \\chi \\psi  \\\\ \\chi \\end{array} \\right)$ is a linear transformation."
   ]
  },
  {
   "cell_type": "markdown",
   "metadata": {},
   "source": [
    "Test $f(\\alpha\\pmatrix{\\chi\\\\\\Psi}) = \\alpha f(\\pmatrix{\\chi\\\\\\Psi})$"
   ]
  },
  {
   "cell_type": "markdown",
   "metadata": {},
   "source": [
    "Let $\\alpha = 0$ and $\\pmatrix{\\chi\\\\\\Psi} = \\pmatrix{1\\\\1}:$"
   ]
  },
  {
   "cell_type": "markdown",
   "metadata": {},
   "source": [
    "$$f(\\alpha\\pmatrix{\\chi\\\\\\Psi}) = f(0 \\times\\pmatrix{1\\\\1})= f(\\pmatrix{0\\\\0}) = \\pmatrix{0\\times 0\\\\0} = \\pmatrix{0\\\\0}$$"
   ]
  },
  {
   "cell_type": "markdown",
   "metadata": {},
   "source": [
    "$$\\alpha f(\\pmatrix{\\chi\\\\\\Psi}) = 0 \\times f(\\pmatrix{1\\\\1}) = 0 \\times \\pmatrix{1 \\times 1\\\\1} = 0 \\times \\pmatrix{1\\\\1} = \\pmatrix{0\\\\0}$$"
   ]
  },
  {
   "cell_type": "markdown",
   "metadata": {},
   "source": [
    "$$\\text{So, for this choice of x it is the case that}\\:f(\\alpha\\pmatrix{\\chi\\\\\\Psi}) = \\alpha f(\\pmatrix{\\chi\\\\\\Psi})$$ "
   ]
  },
  {
   "cell_type": "markdown",
   "metadata": {},
   "source": [
    "Let $\\alpha = 1$ and $\\pmatrix{\\chi\\\\\\Psi} = \\pmatrix{1\\\\1}$:"
   ]
  },
  {
   "cell_type": "markdown",
   "metadata": {},
   "source": [
    "$$f(\\alpha\\pmatrix{\\chi\\\\\\Psi}) = f(1\\times\\pmatrix{1\\\\1}) = f(\\pmatrix{1\\\\1}) = \\pmatrix{1 \\times 1\\\\1} = \\pmatrix{1\\\\1}$$"
   ]
  },
  {
   "cell_type": "markdown",
   "metadata": {},
   "source": [
    "$$\\alpha f(\\pmatrix{\\chi\\\\\\Psi}) = 1 \\times f(\\pmatrix{1\\\\1}) = \\pmatrix{1\\\\1}$$"
   ]
  },
  {
   "cell_type": "markdown",
   "metadata": {},
   "source": [
    "Let $\\alpha = 2$ and $\\pmatrix{\\chi\\\\\\Psi} = \\pmatrix{1\\\\1}$:"
   ]
  },
  {
   "cell_type": "markdown",
   "metadata": {},
   "source": [
    "$$f(\\alpha\\pmatrix{\\chi\\\\\\Psi}) = f(2 \\times\\pmatrix{1\\\\1}) = f(\\pmatrix{2\\\\2}) = \\pmatrix{2\\times 2\\\\2} = \\pmatrix{4\\\\2}$$"
   ]
  },
  {
   "cell_type": "markdown",
   "metadata": {},
   "source": [
    "$$\\alpha f(\\pmatrix{\\chi\\\\\\Psi}) = 2 \\times f(\\pmatrix{1\\\\1}) = 2 \\times \\pmatrix{1\\\\1} = \\pmatrix{2\\\\2}$$"
   ]
  },
  {
   "cell_type": "markdown",
   "metadata": {},
   "source": [
    "$f(\\alpha\\pmatrix{\\chi\\\\\\Psi}) \\neq \\alpha f(\\pmatrix{\\chi\\\\\\Psi}),$ therefore $f \\left( \\left( \\begin{array}{c} \\chi  \\\\ \\psi \\end{array} \\right) \\right) = \\left( \\begin{array}{c} \\chi \\psi  \\\\ \\chi \\end{array} \\right)$ is **not** a linear transformation."
   ]
  },
  {
   "cell_type": "markdown",
   "metadata": {},
   "source": [
    "**Homework 2.2.2.2**  \n",
    "$f( \\left(  \\begin{array}{c} \\chi _0 \\\\ \\chi _1 \\\\ \\chi_2 \\end{array} \\right)) = \\left( \\begin{array}{c} \\chi_0 + 1 \\\\ \\chi_1 + 2 \\\\ \\chi_2 + 3 \\end{array} \\right)$ is a linear transformation?"
   ]
  },
  {
   "cell_type": "markdown",
   "metadata": {},
   "source": [
    "**False**, In Homework 1.4.6.1 there were examples where $f(\\alpha\\chi) \\neq \\alpha f(\\chi)$."
   ]
  },
  {
   "cell_type": "markdown",
   "metadata": {},
   "source": [
    "### 2.2.3 Of linear transformations and linear combinations\n",
    "\n",
    "$L : \\mathbb{R}^n \\rightarrow \\mathbb{R}^m$ is a linear transformation if and only if (iff) for all $u, v \\in \\mathbb{R}^n$ and $\\alpha,\\beta \\in \\mathbb{R}$"
   ]
  },
  {
   "cell_type": "markdown",
   "metadata": {},
   "source": [
    "$$L(\\alpha u + \\beta v) = \\alpha L(u) + \\beta L(v).$$"
   ]
  },
  {
   "cell_type": "markdown",
   "metadata": {},
   "source": [
    "$\\iff$ $\\implies$ $\\impliedby$"
   ]
  },
  {
   "cell_type": "markdown",
   "metadata": {},
   "source": [
    "**Proof:**\n",
    "($\\implies$) Assume that $L : R^n \\rightarrow R^m$ is a linear transformation and let $u, v \\in\\mathbb{R}^n$ be *arbitrary* vectors and $\\alpha,\\beta \\in\\mathbb{R}$ be *arbitrary* scalars.\n",
    "\n",
    "Then  \n",
    "$\\qquad\\;\\;\\: L(\\alpha u + \\beta v)$ "
   ]
  },
  {
   "cell_type": "markdown",
   "metadata": {},
   "source": [
    "< since $\\alpha u$ and $\\beta v$ are vectors and $L$ is a linear transformation >:  \n",
    "$= \\qquad L(\\alpha u) + L(\\beta v)$"
   ]
  },
  {
   "cell_type": "markdown",
   "metadata": {},
   "source": [
    "< since $L$ is a linear transformation >  \n",
    "$=\\qquad \\alpha L(u) + \\beta L(v)$"
   ]
  },
  {
   "cell_type": "markdown",
   "metadata": {},
   "source": [
    "($\\impliedby$) Assume that all $u, v \\in \\mathbb{R}^n$ and all $\\alpha,\\beta \\in \\mathbb{R}$ it is the case that $L(\\alpha u + \\beta v) = \\alpha L(u) + \\beta L(v).$"
   ]
  },
  {
   "cell_type": "markdown",
   "metadata": {},
   "source": [
    "We need to show that\n",
    "\n",
    "- $L(\\alpha u) = \\alpha L(u).$  \n",
    "    This follows immediately by setting $\\beta = 0$.\n",
    "- $L(u + v) = L(u) + L(v).$  \n",
    "    This follows immediately by setting $\\alpha = \\beta = 1$."
   ]
  },
  {
   "cell_type": "markdown",
   "metadata": {},
   "source": [
    "Let $v_0, v_1,\\ldots,v_{k_1}\\in \\mathbb{R}^n$ and let $L: \\mathbb{R}^n \\rightarrow \\mathbb{R}^m$ be a linear transformation.\n",
    "\n",
    "Then\n",
    "$L(v_0 + v_1 + \\ldots + v_{k-1}) = L(v_0) + L(v_1) + \\ldots + L(v_k-1).$\n",
    "\n",
    "We will prove this by using \"proof by induction\"."
   ]
  },
  {
   "cell_type": "markdown",
   "metadata": {},
   "source": [
    "**Proof by induction on *k*.**\n",
    "\n",
    "**Base case**: $k = 1$. For this case, we must show that $L(v_0) = L(v_0)$. This is trivially true.\n",
    "\n",
    "**Inductive step**: Inductive Hypothesis(IH): Assume that the result is true for $k = K$ where $K \\geq 1$:\n",
    "\n",
    "$\\qquad L(v_0 + v_1 + \\ldots + v_{K-1}) = L(v_0) + L(v_1) + \\ldots + L(v_K-1).$\n",
    "\n",
    "We will show that the result is **then** also true for $k = K + 1$. In other words, that\n",
    "\n",
    "$\\qquad L(v_0 + v_1 + \\ldots + v_{K}) = L(v_0) + L(v_1) + \\ldots + L(v_K).$"
   ]
  },
  {
   "cell_type": "markdown",
   "metadata": {},
   "source": [
    "$\\begin{align*}\n",
    "&\\qquad L(v_0 + v_1 + \\ldots + v_K)\\\\\n",
    "&= &&<\\text{expose extra term - We know we can do this since}\\;K \\geq 1 >  \\\\\n",
    "&\\qquad L(v_0 = v_1 + \\ldots + v_{K-1} + v_K)\\\\\n",
    "&= &&<\\text{associativity of vector addition}>\\\\\n",
    "&\\qquad L((v_0 + v_1 + \\ldots + v_{K-1}) + v_K)\\\\\n",
    "&= &&<L\\text{ is a linear transformation}>\\\\\n",
    "&\\qquad L(v_0 + v_1 + \\ldots + v_{K-1}) + L(v_K)\\\\\n",
    "&= &&<\\text{Inductive Hypothesis}>\\\\\n",
    "&\\qquad L(v_0) + L(v_1) + \\ldots + L(v_{K-1}) + L(v_K)\n",
    "\\end{align*}$"
   ]
  },
  {
   "cell_type": "markdown",
   "metadata": {},
   "source": [
    "**By the Principle of Mathematical Induction** the result holds for all *k*."
   ]
  },
  {
   "cell_type": "markdown",
   "metadata": {},
   "source": [
    "**Summary**\n",
    "\n",
    "The idea is as follows:\n",
    "- The base case shows that the result is true for $k = 1$:  \n",
    "    $L(v_0) = L(v_0)$.\n",
    "- The inductive step shows that if the result is true for $k = 1$, then the result is true for $k = 1 + 1 = 2$ so that  \n",
    "    $L(v_0 + v_1) = L(v_0) + L(v_1).$\n",
    "- Since the result is indeed true for $k = 1$ (as proven by the base case) we now know that the result is also true for $k = 2$.\n",
    "- The inductive step also implies that if the result is true for $k = 2$, then it is also true for $k = 3$.\n",
    "- Since we just reasoned that it is true for $k = 2$, we now know that it is also true for $k = 3$:\n",
    "    $L(v_0 + v_1 + v_2) = L(v_0) + L(v_1) + L(v_2)$.\n",
    "- And so forth."
   ]
  },
  {
   "cell_type": "markdown",
   "metadata": {},
   "source": [
    "### 2.3.1 What is the Principle of Mathematical Induction?\n",
    "\n",
    "What we do is sometimes called weak induction.  \n",
    "\n",
    "*If* one can show that\n",
    "- (Base case) a property holds for $k = k_b;$ and\n",
    "- (Inductive step) if it holds for $k = K,$ where $K \\geq k_b,$ then it also holds for $k = K + 1,$\n",
    "    \n",
    "*then* one can conclude that the property holds for all integers $k \\geq k_b.$\n",
    "\n",
    "Often $k_b = 0$ or $k_b = 1.$  \n",
    "*$k_b$ is the base case*, "
   ]
  },
  {
   "cell_type": "markdown",
   "metadata": {},
   "source": [
    "### 2.3.2 Examples  \n",
    "\n",
    "Show that if $n \\geq 1$ then $$\\sum_{i=0}^{n-1} i = \\frac{n(n-1)}{2}.$$\n",
    "\n"
   ]
  },
  {
   "cell_type": "markdown",
   "metadata": {},
   "source": [
    "Note: $$\\sum_{i=0}^{n-1} i = 0 + 1 + \\ldots + n - 1$$"
   ]
  },
  {
   "cell_type": "markdown",
   "metadata": {},
   "source": [
    "**Base case:** Set $n = 1.$ Show that $\\sum_{i=0}^{1-1} = 1(0)/2:$  \n",
    "\n",
    "$\\sum_{i=0}^{1-1} i\\\\\n",
    "= \\qquad<\\text{Definition of summation}>\\\\  \n",
    "0 \\\\  \n",
    "= \\qquad<\\text{arithmetic}>\\\\\n",
    "1(0)/2$\n",
    "\n",
    "This proves the base case.\n",
    "\n",
    "**Inductive step:**  \n",
    "Inductive Hypothesis (IH): Assume the result is true for $n = k$ where $k \\geq 1:$  $$\\sum_{i=0}^{k-1} i = \\frac{k(k-1)}{2}.$$  Must show that the result is then also true for $n = k + 1:$  $$\\sum_{i=0}^{(k+1)-1} i = \\frac{(k + 1)((k + 1) - 1)}{2}.$$"
   ]
  },
  {
   "cell_type": "markdown",
   "metadata": {},
   "source": [
    "**Proof:**  \n",
    "$\\begin{align*}\n",
    "&\\sum_{i=0}^{(k+1)-1} i\\\\\n",
    "&= && <\\text{arithmetic}>\\\\\n",
    "&\\sum_{i=0}^{k} i \\\\\n",
    "&= && <\\text{split off last term}>\\\\\n",
    "&\\sum_{i=0}^{k-1} i + k \\\\\n",
    "&= && <\\text{I.H.}>\\\\\n",
    "&\\frac{k(k-1)}{2 + k}\\\\\n",
    "&= && <\\text{algebra}>\\\\\n",
    "&\\frac{k^2}{2} + \\frac{k}{2}\\\\\n",
    "&= \\\\\n",
    "&\\frac{(k+1)k}{2}\\\\\n",
    "&= && <\\text{algebra}>\\\\\n",
    "&\\frac{(k+1)((k+1)-1)}{2}.\n",
    "\\end{align*}$  \n",
    "**By the Principle of Mathematical Induction** the result holds for all $n.$\n",
    "\n",
    "**Summary**\n",
    "- Mathematical induction is a very powerful proof technique.\n",
    "- To master it you need to\n",
    "    - Practice, practice, practice; and\n",
    "    - Be organized in your proofs\n",
    "- Notice how systematic Maggie is in her answer to the homeworks."
   ]
  },
  {
   "cell_type": "markdown",
   "metadata": {},
   "source": [
    "**Proof(alternative)**  \n",
    "$$\\begin{align*}\n",
    "\\sum_{i=0}^{n-1} i &= \\frac{n(n-1)}{2}\\\\\n",
    "\\sum_{i=0}^{n-1} i &= 0 + 1 + \\ldots + n - 2 + n-1\\\\\n",
    "\\sum_{i=0}^{n-1} i &= n - 1 + n - 1 + \\ldots + 1 + 0\\\\\n",
    "2 \\sum_{i=0}^{n-1} i &= (n-1) + (n-1) + \\ldots + (n-1) + (n-1)\\\\\n",
    "& = \\frac{n(n-1)}{2}\n",
    "\\end{align*}$$"
   ]
  },
  {
   "cell_type": "markdown",
   "metadata": {},
   "source": [
    "#### Homework 2.3.2.2\n",
    "\n",
    "Let $n \\geq 1$  \n",
    "$\\sum_{i=0}^{n-1} 1 = n$  \n",
    "$\\sum_{i=0}^{n-1} 1 = \\underbrace{1 + 1 + \\ldots + 1}_{n}$  \n",
    "So, $\\sum_{i=0}^{n-1} 1 = n$ is always true."
   ]
  },
  {
   "cell_type": "markdown",
   "metadata": {},
   "source": [
    "Let $n \\geq 1$  \n",
    "$\\sum_{i=0}^{n-1} 1 = n$  "
   ]
  },
  {
   "cell_type": "markdown",
   "metadata": {},
   "source": [
    "**Base Case:** $n = 1$  \n",
    "$\\sum_{i=0}^{1-1} 1 = 1$ < definition of summation >  \n",
    "$n(1) = 1 $  \n",
    "$\\sum_{i=0}^{n-1} 1 = n\\text{ when n = 1}$  \n",
    "This proves the base case."
   ]
  },
  {
   "cell_type": "markdown",
   "metadata": {},
   "source": [
    "**Inductive Step:** Inductive Hypothesis(IH): Assume that the result is true for $n=k$ where $k \\geq 1:$"
   ]
  },
  {
   "cell_type": "markdown",
   "metadata": {},
   "source": [
    "$\\sum_{i=0}^{k-1} 1 = k$ Also true for $\\sum_{i=0}^{(k+1)-1} 1 = (k + 1).$  \n",
    "$\\sum_{i=0}^{(k+1)-1} 1$ < arithmetic >  \n",
    "$= \\sum_{i=0}^{k} 1$ < split off last term>  \n",
    "$= \\sum_{i=0}^{k-1}1 + 1$ < inductive hypothesis>  \n",
    "$= k + 1.$  \n",
    "This proves the inductive step.  \n",
    "By the Principle of Mathematical Induction the result holds for all $n$."
   ]
  },
  {
   "cell_type": "markdown",
   "metadata": {},
   "source": [
    "*So for proof by induction, we are proving a sequence is equal to an expression. We do that by proving a base case, where we show that the sequence is equal to the expression at the index 0 or 1. Then we do an inductive step where we assume that the result is true for all of the steps after the base case. We do this by proving the step after the base case and the base case are equal to each other. We substitute the base case into the step after it to prove it.*"
   ]
  },
  {
   "cell_type": "markdown",
   "metadata": {},
   "source": [
    "**2.3.2.3**\n",
    "\n",
    "Let $n \\geq 1$ and $x \\in \\mathbb{R}.$  \n",
    "$\\sum _{i=0} ^{n-1} x = \\underbrace{x+x+ \\dots +x}_{n} = nx$"
   ]
  },
  {
   "cell_type": "markdown",
   "metadata": {},
   "source": [
    "**Base Case:** Let $n = 1$  \n",
    "$\\sum_{i=0}^{1-1} x = x$ < definition of summation>  \n",
    "$(1)x = x$ < arithmetic>  \n",
    "$\\sum_{i=0}^{1-1} x = (1)x$  \n",
    "This proves the base case."
   ]
  },
  {
   "cell_type": "markdown",
   "metadata": {},
   "source": [
    "**Inductive Step:** Inductive Hypothesis(IH): Assume the result is true for $n = k$ where $k \\geq 1:$  $$\\sum_{i=0}^{k-1} x = kx $$ And that  $$\\sum_{i=0}^{(k+1)-1} x = (k+1)x$$\n"
   ]
  },
  {
   "cell_type": "markdown",
   "metadata": {},
   "source": [
    "$\\begin{align*}\n",
    "&\\;\\:\\sum_{i=0}^{(k+1)-1} x\\\\\n",
    "&= \\sum_{i=0}^{k} x\\\\\n",
    "&= \\sum_{i=0}^{k-1} x + x\\\\\n",
    "&= kx + x\\\\\n",
    "&= (k+1)x\n",
    "\\end{align*}$  \n",
    "This proves the inductive step.  \n",
    "**By the Principle of Mathematical Induction** the result holds for all $n.$"
   ]
  },
  {
   "cell_type": "markdown",
   "metadata": {},
   "source": [
    "**2.3.2.4**  \n",
    "Let $n \\geq 1$  \n",
    "\n",
    "$\\sum _{i=0} ^{n-1} i^2 = (n-1)n(2n-1)/6$"
   ]
  },
  {
   "cell_type": "markdown",
   "metadata": {},
   "source": [
    "**Base Case:** Let $n = 1$  \n",
    "< definition of summation>  $$\\sum_{i=0}^{(1)-1} i^2 = \\sum_{i=0}^{0} i^2 = 0$$  \n",
    "< arithmetic>    $$\\frac{((1)-1)(1)(2(1)-1)}{6}  = 0$$  \n",
    "$$\\sum_{i=0}^{n-1} i^2 = \\frac{(n-1)n(2n-1)}{6} \\quad\\text{when n = 1} $$\n",
    "This proves the base case."
   ]
  },
  {
   "cell_type": "markdown",
   "metadata": {},
   "source": [
    "**Inductive Step:** Inductive Hypothesis: Assume the result is true for $n = k$ where $k \\geq 1:$  \n",
    "$$\\sum_{i=0}^{k-1} i^2 = \\frac{(k-1)k(2k-1)}{6} $$ and that\n",
    "$$\\sum_{i=0}^{(k+1)-1} i^2 = \\frac{((k+1)-1)(k+1)(2(k+1)-1)}{6} $$"
   ]
  },
  {
   "cell_type": "markdown",
   "metadata": {},
   "source": [
    "$\\begin{align*}\n",
    "& \\sum_{i=0}^{(k+1)-1} i^2 &&<\\text{arithmetic}>\\\\\n",
    "&=\\sum_{i=0}^{k} i^2 &&<\\text{split off last term}>\\\\\n",
    "&=\\sum_{i=0}^{k-1} i^2 + k^2&&<\\text{I.H.}>\\\\\n",
    "&=\\frac{(k-1)k(2k-1)}{6} + k^2&&<\\text{a ton of algebra}>\\\\\n",
    "&=\\frac{6k^2 +(k-1)k(2k-1)}6\\\\\n",
    "&=\\frac{6k^2 + (2k^2 - k)(k-1)}{6}\\\\\n",
    "&=\\frac{6k^2 + (2k^3 - 3k^2 + k)}{6}\\\\\n",
    "&=\\frac{2k^3 + 3k^2 + k}{6}\\\\\n",
    "&=\\frac{k(2k + 1)(k + 1)}{6}\\\\\n",
    "&=\\frac{k(2k^2 + 3k + 1)}{6}\\\\\n",
    "&=\\frac{2k^3 + 3k^2 + k}{6}\\\\\n",
    "&=\\frac{2k^3 + 2k^2 + k^2 + k}{6}\\\\\n",
    "&=\\frac{(k^2+k)(2k+1)}{6}\\\\\n",
    "&=\\frac{k(k+1)(2k+1)}{6}\\\\\n",
    "&=\\frac{((k+1)-1)(k+1)(2(k+1)-1)}{6}\n",
    "\\end{align*}$  \n",
    "This proves the inductive step.  \n",
    "**By the Principle of Mathematical Induction** the result holds for all $n.$"
   ]
  },
  {
   "cell_type": "markdown",
   "metadata": {},
   "source": [
    "### 2.4.1 From Linear Transformation to Matrix-Vector Multiplication\n",
    "\n",
    "*A linear combination is an expression contructed from a set of terms by multiplying each term by a constant and adding the results, see 1.4.3.*  \n",
    "- A matrix is a convenient way of representing a linear transformation.  \n",
    "**Theorem**  \n",
    "Let ${v_0,v_1,\\ldots,v_{k-1}} \\in \\mathbb{R}^n, {\\alpha_0,\\alpha_1,\\ldots,\\alpha_{k-1}} \\in \\mathbb{R},$ and let $L:\\mathbb{R}^n \\rightarrow \\mathbb{R}^m$ be a linear transformation. Then \n",
    "$$L(\\alpha_0v_0 + \\alpha_1v_1 + \\ldots + \\alpha_{k-1}v_{k-1}) = \\alpha_0L(v_0) + \\alpha_1L(v_1) + \\ldots + \\alpha_{k-1}L(v_{k-1}). $$"
   ]
  },
  {
   "cell_type": "markdown",
   "metadata": {},
   "source": [
    "If you take a linear combination of vectors and then apply a linear transformation, you get the same result as doing the transformation first and then the combination."
   ]
  },
  {
   "cell_type": "markdown",
   "metadata": {},
   "source": [
    "- We already saw that if $L$ is a linear transformation, then  \n",
    "$L(\\alpha x + \\beta y) = \\alpha L(x) + \\beta L(y). $\n",
    "- This is the natural extension.  \n",
    "\n",
    "More Concise notation:  \n",
    "$$L(\\sum_{j=0}^{k-1} a_jv_j) = \\sum_{j=0}^{k-1} \\alpha_jL(v_j) $$"
   ]
  },
  {
   "cell_type": "markdown",
   "metadata": {},
   "source": [
    "Recall: any $x \\in \\mathbb{R}^n$ can be written as $$\\sum_{j=0}^{n-1} \\chi_je_j. $$"
   ]
  },
  {
   "cell_type": "markdown",
   "metadata": {},
   "source": [
    "Let $L:\\mathbb{R}^n \\rightarrow \\mathbb{R}^m$ be a linear transformation. Then, given $x \\in \\mathbb{R}^n,$"
   ]
  },
  {
   "cell_type": "markdown",
   "metadata": {},
   "source": [
    "$\\begin{align*} \\\\\n",
    "& &&<\\text{Reason}>\\\\\n",
    "y &= L(x)\\\\\n",
    "&= L(\\sum_{j=0}^{n-1} \\chi_je_j.) &&<x = \\sum_{j=0}^{n-1} \\chi_je_j>\\\\\n",
    "&= \\sum_{j=0}^{n-1} \\chi_jL(e_j) &&<L(\\sum_{j=0}^{n-1} \\alpha_jv_j) = \\sum_{j=0}^{n-1} \\alpha_jL(v_j)>\\\\\n",
    "&= \\sum_{j=0}^{n-1}\\chi_j\\underbrace{L(e_J)}_{a_j} &&<\\text{Let } \\alpha_j = L(e_j)>\\\\\n",
    "&= \\sum_{j=0}^{n-1}\\chi_j\\alpha_j.\n",
    "\\end{align*}$"
   ]
  },
  {
   "cell_type": "markdown",
   "metadata": {},
   "source": [
    "**The linear transformation $L$ is completely described by the set of vectors {${a_0,\\ldots,\\alpha_{n-1}}$}, where $\\alpha_j = L(e_j)$**"
   ]
  },
  {
   "cell_type": "markdown",
   "metadata": {},
   "source": [
    "You don't need to know what the linear transformation is, you merely need to know how the the unit basis vectors have been transformed by the linear transformation."
   ]
  },
  {
   "cell_type": "markdown",
   "metadata": {},
   "source": [
    "**From linear transformation to matrix notation**  \n",
    "\n",
    "Let $\\alpha_j = L(e_j).$ Arrange these vectors as the columns of a two dimensional array, A:  \n",
    "$$A = \\pmatrix{\\alpha_{0,0}&\\alpha_{0,1}&\\ldots&\\alpha_{0,n-1}\\\\\n",
    "               \\alpha_{1,0}&\\alpha_{1,1}&\\ldots&\\alpha_{1,n-1}\\\\\n",
    "               \\vdots&\\vdots&\\ddots&\\vdots\\\\\n",
    "               \\alpha_{m-1,0}&\\alpha_{m-1,1}&\\ldots&\\alpha_{m-1,n-1}}$$  \n",
    "so that $\\alpha_{i,j}$ equals the $i$th component of vector $\\alpha_j.$"
   ]
  },
  {
   "cell_type": "markdown",
   "metadata": {},
   "source": [
    "So, now $A$ represents the linear transformation $L.$ \n",
    "\n",
    "We will write $L(x) = Ax.$\n",
    "\n",
    "How is $Ax$ then computed?"
   ]
  },
  {
   "cell_type": "markdown",
   "metadata": {},
   "source": [
    "$Ax = L(x) = \\chi_0a_0 + \\chi_1a_1 + \\ldots + \\chi_{n-1}a_{n-1}$"
   ]
  },
  {
   "cell_type": "markdown",
   "metadata": {},
   "source": [
    "$$=\\chi_0\\pmatrix{\\alpha_{0,0}\\\\\\alpha_{1,0}\\\\\\vdots\\\\\\alpha_{m-1,0}} +\\chi_0\\pmatrix{\\alpha_{0,1}\\\\\\alpha_{1,1}\\\\\\vdots\\\\\\alpha_{m-1,1}} + \\ldots + \\chi_0\\pmatrix{\\alpha_{0,n-1}\\\\\\alpha_{1,n-1}\\\\\\vdots\\\\\\alpha_{m-1,n-1}} $$"
   ]
  },
  {
   "cell_type": "markdown",
   "metadata": {},
   "source": [
    "$$= \\pmatrix{\\chi_0\\alpha_{0,0}+& \\chi_1\\alpha_{0,1}+& \\ldots +& \\chi_{n-1}\\alpha_{0,n-1}\\\\\n",
    "    \\chi_0\\alpha_{1,0}+& \\chi_1\\alpha_{1,1}+& \\ldots +& \\chi_{n-1}\\alpha_{1,n-1}\\\\\n",
    "    \\vdots&\\vdots&\\vdots&\\vdots\\\\\n",
    "    \\chi_0\\alpha_{m-1,0}+& \\chi_1\\alpha_{m-1,1}+& \\ldots +& \\chi_{n-1}\\alpha_{m-1,n-1}\\\\} $$"
   ]
  },
  {
   "cell_type": "markdown",
   "metadata": {},
   "source": [
    "$$= \\pmatrix{\\alpha_{0,0}\\chi_0+& \\alpha_{0,1}\\chi_1+& \\ldots +& \\alpha_{0,n-1}\\chi_{n-1}\\\\\n",
    "    \\alpha_{1,0}\\chi_0+& \\alpha_{1,1}\\chi_1+& \\ldots +& \\alpha_{1,n-1}\\chi_{n-1}\\\\\n",
    "    \\vdots&\\vdots&\\vdots&\\vdots\\\\\n",
    "    \\alpha_{m-1,0}\\chi_0+& \\alpha_{m-1,1}\\chi_1+& \\ldots +& \\alpha_{m-1,n-1}\\chi_{n-1}\\\\}. $$"
   ]
  },
  {
   "cell_type": "markdown",
   "metadata": {},
   "source": [
    "Remember from high school:\n",
    "$$Ax = \\pmatrix{\\alpha_{0,0}&\\alpha_{0,1}&\\ldots&\\alpha_{0,n-1}\\\\\n",
    "               \\alpha_{1,0}&\\alpha_{1,1}&\\ldots&\\alpha_{1,n-1}\\\\\n",
    "               \\vdots&\\vdots&\\ddots&\\vdots\\\\\n",
    "               \\alpha_{m-1,0}&\\alpha_{m-1,1}&\\ldots&\\alpha_{m-1,n-1}}\n",
    "        \\pmatrix{\\chi_0\\\\\\chi_1\\\\\\vdots\\\\\\chi_{n-1}}       $$  \n"
   ]
  },
  {
   "cell_type": "markdown",
   "metadata": {},
   "source": [
    "$$= \\pmatrix{\\alpha_{0,0}\\chi_0+& \\alpha_{0,1}\\chi_1+& \\ldots +& \\alpha_{0,n-1}\\chi_{n-1}\\\\\n",
    "    \\alpha_{1,0}\\chi_0+& \\alpha_{1,1}\\chi_1+& \\ldots +& \\alpha_{1,n-1}\\chi_{n-1}\\\\\n",
    "    \\vdots&\\vdots&\\vdots&\\vdots\\\\\n",
    "    \\alpha_{m-1,0}\\chi_0+& \\alpha_{m-1,1}\\chi_1+& \\ldots +& \\alpha_{m-1,n-1}\\chi_{n-1}\\\\}. $$"
   ]
  },
  {
   "cell_type": "markdown",
   "metadata": {},
   "source": [
    "Our definition of $Ax = L(x)$ yields the same result as the definition you have seen before."
   ]
  },
  {
   "cell_type": "markdown",
   "metadata": {},
   "source": [
    "**To Summarize**\n",
    "- The \"action\" of a linear transformation is completely described by how it transforms the unit basis vectors.\n",
    "- A linear transformation can be encoded in a two-dimensional array. We call this array a matrix.\n",
    "- Evaluating the linear transformation is equivalent to performing a matrix-vector multiplication as you already knew it."
   ]
  },
  {
   "cell_type": "markdown",
   "metadata": {},
   "source": [
    "**Homework 2.4.1.1**  "
   ]
  },
  {
   "cell_type": "markdown",
   "metadata": {},
   "source": [
    "Let $n \\geq 1$  \n",
    "$L\\sum_{i=0}^{n-1} \\alpha v = \\sum_{i=0}^{n-1} \\alpha L(v)$  \n",
    "$L\\sum_{i=0}^{n-1} \\alpha v = L(\\alpha_0v_0 + \\alpha_1v_1 + \\ldots + \\alpha_{n-1}v_{n-1})$  \n",
    "$\\sum_{i=0}^{n-1} \\alpha L(v) = \\alpha_0L(v_0) + \\alpha_1L(v_1) + \\ldots + \\alpha_{n-1}L(v_{n-1})$  \n"
   ]
  },
  {
   "cell_type": "markdown",
   "metadata": {},
   "source": [
    "**Base Case:** Let $n=1$  \n",
    "$$L\\sum_{i=0}^{1-1}v = L\\sum_{i=0}^{0} v = L(\\alpha_0v_0) = \\alpha_0L(v_0)$$  < arithmetic, definition of summation, properties of linear transformations>\n",
    "$$\\sum_{i=0}^{1-1} L(v) = \\sum_{i=0}^{0} L(v) = \\alpha_0L(v_0)$$  \n",
    "This proves the base case."
   ]
  },
  {
   "cell_type": "markdown",
   "metadata": {},
   "source": [
    "**Inductive Step** Inductive Hypothesis: Assume the result is true for $n = k$ while $k \\geq 1:$  $$L\\sum_{i=0}^{k-1} \\alpha v = \\sum_{i=0}^{k-1} \\alpha L(v)$$ and that $$L\\sum_{i=0}^{(k+1)-1}\\alpha v = \\sum_{i=0}^{(k+1)-1}\\alpha L(v)$$ is also true."
   ]
  },
  {
   "cell_type": "markdown",
   "metadata": {},
   "source": [
    "$\\begin{align*}\n",
    "&L\\sum_{i=0}^{(k+1)-1} \\alpha v &&<\\text{arithmetic}>\\\\\n",
    "&= L\\sum_{i=0}^k \\alpha v&&<\\text{split off last term}>\\\\\n",
    "&= L\\sum_{i=0}^{k-1}\\alpha v + L(\\alpha_{k}v_{k})&&<\\text{I.H.}>\\\\\n",
    "&= \\sum_{i=0}^{k-1}\\alpha L(v)+ L(\\alpha_{k}v_{k})\\\\\n",
    "&= \\sum_{i=0}^{k-1}\\alpha L(v)+ \\sum_{i=k-1}^{k} L(\\alpha_{k}v_{k})\\\\\n",
    "&= \\sum_{i=0}^{k-1}\\alpha L(v)+ \\sum_{i=k-1}^{k} \\alpha L(v_{k})\\\\\n",
    "&= \\sum_{i=0}^{k}\\alpha L(v)\\\\\n",
    "&= \\sum_{i=0}^{(k+1)-1} \\alpha L(v)\\\\\n",
    "\\end{align*}$"
   ]
  },
  {
   "cell_type": "markdown",
   "metadata": {},
   "source": [
    "### 2.4.3 It Goes Both Ways\n",
    "\n",
    "**Summary**  \n",
    "We now have a straight-forward, fool-proof way of checking whether a function is a linear transformation:\n",
    "- Compute a possible matrix\n",
    "- Check if the matrix-vector multiply always yields the same result as evaluating the function."
   ]
  },
  {
   "cell_type": "markdown",
   "metadata": {},
   "source": [
    "**Homework 2.4.3.3**  \n",
    "Let $f$ be a vector function such that $f(\\pmatrix{\\chi_0\\\\\\chi_1}) = \\pmatrix{\\chi_0^2\\\\\\chi_1}$ then $f$ is not a linear transformation."
   ]
  },
  {
   "cell_type": "markdown",
   "metadata": {},
   "source": [
    "To compute a possible matrix that represents $f$ consider:  \n",
    "$f(\\pmatrix{1\\\\0}) = \\pmatrix{1^2\\\\0} = \\pmatrix{1\\\\0}$ and $f(\\pmatrix{0\\\\1}) = \\pmatrix{0^2\\\\1} = \\pmatrix{0\\\\1}.$  \n",
    "Thus, *if* $f$ is a linear transformation, then $f(x) = Ax$ where $A = \\pmatrix{1&0\\\\0&1}.$ Now,  \n",
    "$Ax = \\pmatrix{1&0\\\\0&1}\\pmatrix{\\chi_0\\\\\\chi_1} = \\pmatrix{\\chi_0\\\\\\chi_1} \\neq \\pmatrix{\\chi_0^2\\\\\\chi_1} = f\\pmatrix{\\pmatrix{\\chi_0\\\\\\chi_1}} = f(x).$  \n",
    "Hence $f$ is *not* a linear transformation since $f(x)\\neq Ax.$"
   ]
  },
  {
   "cell_type": "markdown",
   "metadata": {},
   "source": [
    "### 2.4.4 Rotations and Reflections, Revisited  \n",
    "**Summary**  \n",
    "The linear transformation that rotates a vector $x \\in \\mathbb{R}^2$ through an angle $\\theta$ is represented by the $2 \\times 2$ matrix  \n",
    "$$\\pmatrix{cos(\\theta)&-sin(\\theta)\\\\sin(\\theta)&cos(\\theta)}.$$"
   ]
  }
 ],
 "metadata": {
  "kernelspec": {
   "display_name": "Python 2",
   "language": "python",
   "name": "python2"
  },
  "language_info": {
   "codemirror_mode": {
    "name": "ipython",
    "version": 2
   },
   "file_extension": ".py",
   "mimetype": "text/x-python",
   "name": "python",
   "nbconvert_exporter": "python",
   "pygments_lexer": "ipython2",
   "version": "2.7.15"
  },
  "latex_envs": {
   "LaTeX_envs_menu_present": true,
   "autoclose": true,
   "autocomplete": true,
   "bibliofile": "biblio.bib",
   "cite_by": "apalike",
   "current_citInitial": 1,
   "eqLabelWithNumbers": true,
   "eqNumInitial": 1,
   "hotkeys": {
    "equation": "Ctrl-E",
    "itemize": "Ctrl-I"
   },
   "labels_anchors": false,
   "latex_user_defs": false,
   "report_style_numbering": false,
   "user_envs_cfg": false
  }
 },
 "nbformat": 4,
 "nbformat_minor": 2
}
