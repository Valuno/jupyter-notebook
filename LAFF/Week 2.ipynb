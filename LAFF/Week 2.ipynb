{
 "cells": [
  {
   "cell_type": "markdown",
   "metadata": {},
   "source": [
    "# Linear Transformations and Matrices\n",
    "\n",
    "## 2.1 Opening Remarks\n",
    "\n",
    "### 2.1.1 Rotating in 2D\n",
    "\n",
    "A vector function $L$ is a linear transformation if\n",
    "- You can scale first and then transform, or transform first and then scale: $$L(\\alpha x) = \\alpha L(x).$$ and\n",
    "- You can transform first and then sum or sum first and then transform: $$L(x + y) = L(x) + L(y).$$\n",
    "\n",
    "Rotating vectors works the same way, just substitute $L$ for $R_\\theta$, which represents a function that transforms by angle $\\theta$.\n",
    "\n",
    "Reflecting a vector in 2D with respect to a line (as illustrated) is an example of a linear transformation.\n"
   ]
  },
  {
   "cell_type": "markdown",
   "metadata": {},
   "source": [
    "### 2.2.2 What is a linear transformation?\n",
    "\n",
    "- Show $f(\\alpha x) = \\alpha f(x)$:\n",
    "$$\\begin{align*}\n",
    "f(\\alpha x) &= f(\\alpha \\pmatrix{\\chi_0\\\\\\chi_1}) = f(\\pmatrix{\\alpha x_0\\\\\\alpha x_1})\\\\\n",
    "&= \\pmatrix{\\alpha\\chi_0 + \\alpha\\chi_1\\\\\\alpha\\chi_0}\n",
    "\\end{align*}$$ and"
   ]
  },
  {
   "cell_type": "markdown",
   "metadata": {},
   "source": [
    "$$\\begin{align*}\n",
    "\\alpha f(x) &= \\alpha f(\\pmatrix{\\chi_0\\\\\\chi_1}) = \\alpha\\pmatrix{\\chi_0 + \\chi_1\\\\\\chi_0} \\\\\n",
    "&= \\pmatrix{\\alpha(\\chi_0 + \\chi_1)\\\\\\alpha\\chi_0}\n",
    "\\end{align*}$$"
   ]
  },
  {
   "cell_type": "markdown",
   "metadata": {},
   "source": [
    "so that both $f(\\alpha x)$ and $\\alpha f(x)$ evaluate to the same expression."
   ]
  },
  {
   "cell_type": "markdown",
   "metadata": {},
   "source": [
    "Rewriting the proof to be more concise:\n",
    "$$\\begin{align*}\n",
    "f(\\alpha x) &= f(\\alpha \\pmatrix{\\chi_0\\\\\\chi_1}) = f(\\pmatrix{\\alpha x_0\\\\\\alpha x_1})\\\\\n",
    "&= \\pmatrix{\\alpha\\chi_0 + \\alpha\\chi_1\\\\\\alpha\\chi_0} &&<\\text{see note below}>\\\\\n",
    "&= \\pmatrix{\\alpha(\\chi_0 + \\chi_1)\\\\\\alpha\\chi_0}\\\\\n",
    "&= \\alpha\\pmatrix{\\chi_0 + \\chi_1\\\\\\chi_0} = \\alpha f(\\pmatrix{\\chi_0\\\\\\chi_1}) = \\alpha f(x).\n",
    "\\end{align*}$$"
   ]
  },
  {
   "cell_type": "markdown",
   "metadata": {},
   "source": [
    "Apparently, it's just true that $f\\pmatrix{\\chi_0\\\\\\chi_1} = \\pmatrix{\\chi_0 + \\chi_1\\\\\\chi_0}.$ Well, it is the function we're testing to see if it is a linear function or not."
   ]
  },
  {
   "cell_type": "markdown",
   "metadata": {},
   "source": [
    "*Note: pretend all my $\\Psi$s are $\\psi$ from here."
   ]
  },
  {
   "cell_type": "markdown",
   "metadata": {},
   "source": [
    "- Show $f(x + y) = f(x) + f(y):$\n",
    "$$\\begin{align*}\n",
    "f(x + y) &= f(\\pmatrix{\\chi_0\\\\\\chi_1} + \\pmatrix{\\Psi_0\\\\\\Psi_1}) = f(\\pmatrix{\\chi_0 + \\Psi_0\\\\\\chi_1 + \\Psi_1})\\\\\n",
    "&= \\pmatrix{(\\chi_0 + \\Psi_0) + (\\chi_1 + \\Psi_1)\\\\\\chi_0 + \\Psi_0}\n",
    "\\end{align*}$$"
   ]
  },
  {
   "cell_type": "markdown",
   "metadata": {},
   "source": [
    "and  \n",
    "$$\\begin{align*}\n",
    "f(x) + f(y) &= f\\pmatrix{\\chi_0\\\\\\chi_1} + f\\pmatrix{\\Psi_0\\\\\\Psi_1} \\\\\n",
    "&= \\pmatrix{\\chi_0 + \\chi_1\\\\\\chi_0} + \\pmatrix{\\Psi_0 + \\Psi_1\\\\\\Psi_0} \\\\\n",
    "&= \\pmatrix{(\\chi_0 + \\Psi_0) + (\\chi_1 + \\Psi_1)\\\\\\chi_0 + \\Psi_0}.\n",
    "\\end{align*}$$"
   ]
  },
  {
   "cell_type": "markdown",
   "metadata": {},
   "source": [
    "More concisely:  \n",
    "$$\\begin{align*}\n",
    "f(x + y) &= f(\\pmatrix{\\chi_0\\\\\\chi_1} + \\pmatrix{\\Psi_0\\\\\\Psi_1}) = f(\\pmatrix{\\chi_0 + \\Psi_0\\\\\\chi_1 + \\Psi_1})\\\\\n",
    "&= \\pmatrix{(\\chi_0 + \\Psi_0) + (\\chi_1 + \\Psi_1)\\\\\\chi_0 + \\Psi_0} \\\\\n",
    "&= \\pmatrix{(\\chi_0 + \\chi_1) + (\\Psi_0 + \\Psi_1)\\\\\\chi_0 + \\Psi_0} \\\\\n",
    "&= \\pmatrix{\\chi_0 + \\chi_1\\\\\\chi_0} + \\pmatrix{\\Psi_0 + \\Psi_1\\\\\\Psi_0} \\\\\n",
    "&=\\pmatrix{(\\chi_0 +\\Psi_0) + (\\chi_1 + \\Psi_1)\\\\\\chi_0 + \\Psi_0}\\\\\n",
    "&= f(\\pmatrix{\\chi_0\\\\\\chi_1}) + f(\\pmatrix{\\Psi_0\\\\\\Psi_1}) = f(x) + f(y) = f(x + y).\n",
    "\\end{align*}$$"
   ]
  },
  {
   "cell_type": "markdown",
   "metadata": {},
   "source": [
    "The transformation $f(\\pmatrix{\\chi_0\\\\\\chi_1} = \\pmatrix{\\chi_0 + \\chi_1\\\\\\chi_0}$ is a linear transformation."
   ]
  },
  {
   "cell_type": "markdown",
   "metadata": {},
   "source": [
    "Another example:\n",
    "The transformation $f\\pmatrix{\\chi\\\\\\Psi} = \\pmatrix{\\chi + \\Psi\\\\\\chi + 1}$ is *not* a linear transformation."
   ]
  },
  {
   "cell_type": "markdown",
   "metadata": {},
   "source": [
    "- Let $\\alpha$ = 1 and $\\pmatrix{\\chi\\\\\\Psi} = \\pmatrix{1\\\\1}.$ Then\n",
    "$$f(\\alpha\\pmatrix{\\chi\\\\\\Psi}) = f(1\\times\\pmatrix{1\\\\1}) = f(\\pmatrix{1\\\\1}) = \\pmatrix{1 + 1\\\\1 + 1} = \\pmatrix{2\\\\2} $$"
   ]
  },
  {
   "cell_type": "markdown",
   "metadata": {},
   "source": [
    "and\n",
    "$$\\alpha f(\\pmatrix{\\chi\\\\\\Psi}) = 1 \\times f(\\pmatrix{1\\\\1}) = 1 \\times\\pmatrix{1 + 1\\\\1 + 1} = \\pmatrix{2\\\\2}.$$"
   ]
  },
  {
   "cell_type": "markdown",
   "metadata": {},
   "source": [
    "So, for this choice of $x$ it is the case that $f(\\alpha\\chi) = \\alpha f(\\chi).$"
   ]
  },
  {
   "cell_type": "markdown",
   "metadata": {},
   "source": [
    "- Let $\\alpha = 0$ and $\\pmatrix{\\chi\\\\\\Psi} = \\pmatrix{1\\\\1}.$ Then"
   ]
  },
  {
   "cell_type": "markdown",
   "metadata": {},
   "source": [
    "Test $f(\\alpha\\pmatrix{\\chi\\\\\\Psi}) = \\alpha f(\\pmatrix{\\chi\\\\\\Psi})$"
   ]
  },
  {
   "cell_type": "markdown",
   "metadata": {},
   "source": [
    "$$f(\\alpha\\pmatrix{\\chi\\\\\\Psi}) = f(\\pmatrix{0\\\\0}) = \\pmatrix{0 + 0\\\\0 + 1} = \\pmatrix{0\\\\1}$$"
   ]
  },
  {
   "cell_type": "markdown",
   "metadata": {},
   "source": [
    "$$\\alpha f(\\pmatrix{\\chi\\\\\\Psi}) = 0 \\times f(\\pmatrix{1\\\\1}) = 0 \\times \\pmatrix{1 + 1\\\\1 + 1} = 0 \\times \\pmatrix{2\\\\2} = \\pmatrix{0\\\\0}$$"
   ]
  },
  {
   "cell_type": "markdown",
   "metadata": {},
   "source": [
    "$$\\text{So, for this choice of x it is the case that}\\:f(\\alpha\\pmatrix{\\chi\\\\\\Psi}) \\neq \\alpha f(\\pmatrix{\\chi\\\\\\Psi}),$$ "
   ]
  },
  {
   "cell_type": "markdown",
   "metadata": {},
   "source": [
    "Therefore, $f\\pmatrix{\\chi\\\\\\Psi} = \\pmatrix{\\chi + \\Psi\\\\\\chi + 1}$ is not a linear transformation."
   ]
  },
  {
   "cell_type": "markdown",
   "metadata": {},
   "source": [
    "**Summary**\n",
    "\n",
    "Linear transformations are special vector functions that have the property that\n",
    " - one can scale first and then transform, or transform first and then scale; **and**\n",
    " - one can add first and then transform, or transform and then add.\n",
    " \n",
    "Some vector functions are linear transformations. Others are not."
   ]
  },
  {
   "cell_type": "markdown",
   "metadata": {},
   "source": [
    "**Homework 2.2.2.1**  \n",
    "The vector function $f \\left( \\left( \\begin{array}{c} \\chi  \\\\ \\psi \\end{array} \\right) \\right) = \\left( \\begin{array}{c} \\chi \\psi  \\\\ \\chi \\end{array} \\right)$ is a linear transformation."
   ]
  },
  {
   "cell_type": "markdown",
   "metadata": {},
   "source": [
    "Test $f(\\alpha\\pmatrix{\\chi\\\\\\Psi}) = \\alpha f(\\pmatrix{\\chi\\\\\\Psi})$"
   ]
  },
  {
   "cell_type": "markdown",
   "metadata": {},
   "source": [
    "Let $\\alpha = 0$ and $\\pmatrix{\\chi\\\\\\Psi} = \\pmatrix{1\\\\1}:$"
   ]
  },
  {
   "cell_type": "markdown",
   "metadata": {},
   "source": [
    "$$f(\\alpha\\pmatrix{\\chi\\\\\\Psi}) = f(0 \\times\\pmatrix{1\\\\1})= f(\\pmatrix{0\\\\0}) = \\pmatrix{0\\times 0\\\\0} = \\pmatrix{0\\\\0}$$"
   ]
  },
  {
   "cell_type": "markdown",
   "metadata": {},
   "source": [
    "$$\\alpha f(\\pmatrix{\\chi\\\\\\Psi}) = 0 \\times f(\\pmatrix{1\\\\1}) = 0 \\times \\pmatrix{1 \\times 1\\\\1} = 0 \\times \\pmatrix{1\\\\1} = \\pmatrix{0\\\\0}$$"
   ]
  },
  {
   "cell_type": "markdown",
   "metadata": {},
   "source": [
    "$$\\text{So, for this choice of x it is the case that}\\:f(\\alpha\\pmatrix{\\chi\\\\\\Psi}) = \\alpha f(\\pmatrix{\\chi\\\\\\Psi})$$ "
   ]
  },
  {
   "cell_type": "markdown",
   "metadata": {},
   "source": [
    "Let $\\alpha = 1$ and $\\pmatrix{\\chi\\\\\\Psi} = \\pmatrix{1\\\\1}$:"
   ]
  },
  {
   "cell_type": "markdown",
   "metadata": {},
   "source": [
    "$$f(\\alpha\\pmatrix{\\chi\\\\\\Psi}) = f(1\\times\\pmatrix{1\\\\1}) = f(\\pmatrix{1\\\\1}) = \\pmatrix{1 \\times 1\\\\1} = \\pmatrix{1\\\\1}$$"
   ]
  },
  {
   "cell_type": "markdown",
   "metadata": {},
   "source": [
    "$$\\alpha f(\\pmatrix{\\chi\\\\\\Psi}) = 1 \\times f(\\pmatrix{1\\\\1}) = \\pmatrix{1\\\\1}$$"
   ]
  },
  {
   "cell_type": "markdown",
   "metadata": {},
   "source": [
    "Let $\\alpha = 2$ and $\\pmatrix{\\chi\\\\\\Psi} = \\pmatrix{1\\\\1}$:"
   ]
  },
  {
   "cell_type": "markdown",
   "metadata": {},
   "source": [
    "$$f(\\alpha\\pmatrix{\\chi\\\\\\Psi}) = f(2 \\times\\pmatrix{1\\\\1}) = f(\\pmatrix{2\\\\2}) = \\pmatrix{2\\times 2\\\\2} = \\pmatrix{4\\\\2}$$"
   ]
  },
  {
   "cell_type": "markdown",
   "metadata": {},
   "source": [
    "$$\\alpha f(\\pmatrix{\\chi\\\\\\Psi}) = 2 \\times f(\\pmatrix{1\\\\1}) = 2 \\times \\pmatrix{1\\\\1} = \\pmatrix{2\\\\2}$$"
   ]
  },
  {
   "cell_type": "markdown",
   "metadata": {},
   "source": [
    "$f(\\alpha\\pmatrix{\\chi\\\\\\Psi}) \\neq \\alpha f(\\pmatrix{\\chi\\\\\\Psi}),$ therefore $f \\left( \\left( \\begin{array}{c} \\chi  \\\\ \\psi \\end{array} \\right) \\right) = \\left( \\begin{array}{c} \\chi \\psi  \\\\ \\chi \\end{array} \\right)$ is **not** a linear transformation."
   ]
  },
  {
   "cell_type": "markdown",
   "metadata": {},
   "source": [
    "**Homework 2.2.2.2**  \n",
    "$f( \\left(  \\begin{array}{c} \\chi _0 \\\\ \\chi _1 \\\\ \\chi_2 \\end{array} \\right)) = \\left( \\begin{array}{c} \\chi_0 + 1 \\\\ \\chi_1 + 2 \\\\ \\chi_2 + 3 \\end{array} \\right)$ is a linear transformation?"
   ]
  },
  {
   "cell_type": "markdown",
   "metadata": {},
   "source": [
    "**False**, In Homework 1.4.6.1 there were examples where $f(\\alpha\\chi) \\neq \\alpha f(\\chi)$."
   ]
  },
  {
   "cell_type": "markdown",
   "metadata": {},
   "source": [
    "### 2.2.3 Of linear transformations and linear combinations\n",
    "\n",
    "$L : \\mathbb{R}^n \\rightarrow \\mathbb{R}^m$ is a linear transformation if and only if (iff) for all $u, v \\in \\mathbb{R}^n$ and $\\alpha,\\beta \\in \\mathbb{R}$"
   ]
  },
  {
   "cell_type": "markdown",
   "metadata": {},
   "source": [
    "$$L(\\alpha u + \\beta v) = \\alpha L(u) + \\beta L(v).$$"
   ]
  },
  {
   "cell_type": "markdown",
   "metadata": {},
   "source": [
    "$\\iff$ $\\implies$ $\\impliedby$"
   ]
  },
  {
   "cell_type": "markdown",
   "metadata": {},
   "source": [
    "**Proof:**\n",
    "($\\implies$) Assume that $L : R^n \\rightarrow R^m$ is a linear transformation and let $u, v \\in\\mathbb{R}^n$ be *arbitrary* vectors and $\\alpha,\\beta \\in\\mathbb{R}$ be *arbitrary* scalars.\n",
    "\n",
    "Then  \n",
    "$\\qquad\\;\\;\\: L(\\alpha u + \\beta v)$ "
   ]
  },
  {
   "cell_type": "markdown",
   "metadata": {},
   "source": [
    "< since $\\alpha u$ and $\\beta v$ are vectors and $L$ is a linear transformation >:  \n",
    "$= \\qquad L(\\alpha u) + L(\\beta v)$"
   ]
  },
  {
   "cell_type": "markdown",
   "metadata": {},
   "source": [
    "< since $L$ is a linear transformation >  \n",
    "$=\\qquad \\alpha L(u) + \\beta L(v)$"
   ]
  },
  {
   "cell_type": "markdown",
   "metadata": {},
   "source": [
    "($\\impliedby$) Assume that all $u, v \\in \\mathbb{R}^n$ and all $\\alpha,\\beta \\in \\mathbb{R}$ it is the case that $L(\\alpha u + \\beta v) = \\alpha L(u) + \\beta L(v).$"
   ]
  },
  {
   "cell_type": "markdown",
   "metadata": {},
   "source": [
    "We need to show that\n",
    "\n",
    "- $L(\\alpha u) = \\alpha L(u).$  \n",
    "    This follows immediately by setting $\\beta = 0$.\n",
    "- $L(u + v) = L(u) + L(v).$  \n",
    "    This follows immediately by setting $\\alpha = \\beta = 1$."
   ]
  },
  {
   "cell_type": "markdown",
   "metadata": {},
   "source": [
    "Let $v_0, v_1,\\ldots,v_{k_1}\\in \\mathbb{R}^n$ and let $L: \\mathbb{R}^n \\rightarrow \\mathbb{R}^m$ be a linear transformation.\n",
    "\n",
    "Then\n",
    "$L(v_0 + v_1 + \\ldots + v_{k-1}) = L(v_0) + L(v_1) + \\ldots + L(v_k-1).$\n",
    "\n",
    "We will prove this by using \"proof by induction\"."
   ]
  },
  {
   "cell_type": "markdown",
   "metadata": {},
   "source": [
    "**Proof by induction on *k*.**\n",
    "\n",
    "**Base case**: $k = 1$. For this case, we must show that $L(v_0) = L(v_0)$. This is trivially true.\n",
    "\n",
    "**Inductive step**: Inductive Hypothesis(IH): Assume that the result is true for $k = K$ where $K \\geq 1$:\n",
    "\n",
    "$\\qquad L(v_0 + v_1 + \\ldots + v_{K-1}) = L(v_0) + L(v_1) + \\ldots + L(v_K-1).$\n",
    "\n",
    "We will show that the result is **then** also true for $k = K + 1$. In other words, that\n",
    "\n",
    "$\\qquad L(v_0 + v_1 + \\ldots + v_{K}) = L(v_0) + L(v_1) + \\ldots + L(v_K).$"
   ]
  },
  {
   "cell_type": "markdown",
   "metadata": {},
   "source": [
    "$\\begin{align*}\n",
    "&\\qquad L(v_0 + v_1 + \\ldots + v_K)\\\\\n",
    "&= &&<\\text{expose extra term - We know we can do this since}\\;K \\geq 1 >  \\\\\n",
    "&\\qquad L(v_0 = v_1 + \\ldots + v_{K-1} + v_K)\\\\\n",
    "&= &&<\\text{associativity of vector addition}>\\\\\n",
    "&\\qquad L((v_0 + v_1 + \\ldots + v_{K-1}) + v_K)\\\\\n",
    "&= &&<L\\text{ is a linear transformation}>\\\\\n",
    "&\\qquad L(v_0 + v_1 + \\ldots + v_{K-1}) + L(v_K)\\\\\n",
    "&= &&<\\text{Inductive Hypothesis}>\\\\\n",
    "&\\qquad L(v_0) + L(v_1) + \\ldots + L(v_{K-1}) + L(v_K)\n",
    "\\end{align*}$"
   ]
  },
  {
   "cell_type": "markdown",
   "metadata": {},
   "source": [
    "**By the Principle of Mathematical Induction** the result holds for all *k*."
   ]
  },
  {
   "cell_type": "markdown",
   "metadata": {},
   "source": [
    "**Summary**\n",
    "\n",
    "The idea is as follows:\n",
    "- The base case shows that the result is true for $k = 1$:  \n",
    "    $L(v_0) = L(v_0)$.\n",
    "- The inductive step shows that if the result is true for $k = 1$, then the result is true for $k = 1 + 1 = 2$ so that  \n",
    "    $L(v_0 + v_1) = L(v_0) + L(v_1).$\n",
    "- Since the result is indeed true for $k = 1$ (as proven by the base case) we now know that the result is also true for $k = 2$.\n",
    "- The inductive step also implies that if the result is true for $k = 2$, then it is also true for $k = 3$.\n",
    "- Since we just reasoned that it is true for $k = 2$, we now know that it is also true for $k = 3$:\n",
    "    $L(v_0 + v_1 + v_2) = L(v_0) + L(v_1) + L(v_2)$.\n",
    "- And so forth."
   ]
  }
 ],
 "metadata": {
  "kernelspec": {
   "display_name": "SageMath 8.3",
   "language": "",
   "name": "sagemath"
  },
  "language_info": {
   "codemirror_mode": {
    "name": "ipython",
    "version": 2
   },
   "file_extension": ".py",
   "mimetype": "text/x-python",
   "name": "python",
   "nbconvert_exporter": "python",
   "pygments_lexer": "ipython2",
   "version": "2.7.15"
  },
  "latex_envs": {
   "LaTeX_envs_menu_present": true,
   "autoclose": true,
   "autocomplete": true,
   "bibliofile": "biblio.bib",
   "cite_by": "apalike",
   "current_citInitial": 1,
   "eqLabelWithNumbers": true,
   "eqNumInitial": 1,
   "hotkeys": {
    "equation": "Ctrl-E",
    "itemize": "Ctrl-I"
   },
   "labels_anchors": false,
   "latex_user_defs": false,
   "report_style_numbering": false,
   "user_envs_cfg": false
  }
 },
 "nbformat": 4,
 "nbformat_minor": 2
}
