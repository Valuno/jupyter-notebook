{
 "cells": [
  {
   "cell_type": "markdown",
   "metadata": {},
   "source": [
    "Yeah I guess this is pretty cool? $e^x=\\sum_{i=0}^\\infty \\frac{1}{i!}x^1$ We could definitely take some sick $\\LaTeX$ math notes with this.\n"
   ]
  },
  {
   "cell_type": "markdown",
   "metadata": {},
   "source": [
    "\\begin{equation}\n",
    "R^2 = \n",
    "\\left({\\begin{array}{cc} c & s \\end{array}}\\right)\n",
    "\\left(\\begin{array}{cc} 1 & 0\\\\ 0 & 1 \\end{array}\\right)\n",
    "\\left(\\begin{array}{c} c \\\\ s \\end{array}\\right) \n",
    "= c^2 + s^2\n",
    "\\end{equation}\n",
    "\n",
    "\\begin{equation}\n",
    "R^2 = \n",
    "\\begin{pmatrix} c & s \\end{pmatrix} \n",
    "\\begin{pmatrix} 1 & 0\\\\ 0 & 1 \\end{pmatrix}\n",
    "\\begin{pmatrix} c \\\\ s \\end{pmatrix} \n",
    "= c^2 + s^2\n",
    "\\end{equation}\n"
   ]
  },
  {
   "cell_type": "markdown",
   "metadata": {},
   "source": [
    "The following algorithm copies vector $x\\in \\mathbb{R}^n$ into vector $y \\in \\mathbb{R}^n$, performing the operation $y := x$\n",
    "$$\\begin{equation*}\n",
    "    \\left(\n",
    "        \\begin{array}{c} \n",
    "            \\Psi_0\\\\\\ \n",
    "            \\Psi_1\\\\\\ \n",
    "             ... \\\\\\ \n",
    "            \\Psi_n-1\n",
    "        \\end{array}\n",
    "    \\right)\n",
    "    :=\n",
    "    \\left(\n",
    "        \\begin{array}{c}\n",
    "            \\chi_0\\\\\\\n",
    "            \\chi_1\\\\\\\n",
    "            ...\\\\\\\n",
    "            \\chi_n-1\n",
    "        \\end{array}\n",
    "    \\right)\n",
    "\\end{equation*}$$\n",
    "Note: $\\Psi$ = Psi  \n",
    "$\\chi$ = chi"
   ]
  },
  {
   "cell_type": "markdown",
   "metadata": {},
   "source": [
    "\n"
   ]
  },
  {
   "cell_type": "code",
   "execution_count": 3,
   "metadata": {},
   "outputs": [
    {
     "ename": "SyntaxError",
     "evalue": "invalid syntax (<ipython-input-3-21c03e13c55a>, line 8)",
     "output_type": "error",
     "traceback": [
      "\u001b[1;36m  File \u001b[1;32m\"<ipython-input-3-21c03e13c55a>\"\u001b[1;36m, line \u001b[1;32m8\u001b[0m\n\u001b[1;33m    print str(x) + '*' + str(x) + ' = ' + str(ans)\u001b[0m\n\u001b[1;37m            ^\u001b[0m\n\u001b[1;31mSyntaxError\u001b[0m\u001b[1;31m:\u001b[0m invalid syntax\n"
     ]
    }
   ],
   "source": [
    "#Square an integer, the hard way\n",
    "x = 3\n",
    "ans = 0 \n",
    "itersLeft = x\n",
    "while (itersLeft != 0):\n",
    "        ans = ans + x\n",
    "        itersLeft = itersLeft - 1\n",
    "print str(x) + '*' + str(x) + ' = ' + str(ans)"
   ]
  },
  {
   "cell_type": "markdown",
   "metadata": {},
   "source": [
    "| test# | x | ans | itersLeft |\n",
    "|-------|---|-----|-----------|\n",
    "|1      | 3 | 0   |  3        |\n",
    "|2      | 3 | 3   |  2        |\n",
    "|3      | 3 | 6   |  1        |\n",
    "|4      | 3 | 9   |  0        |"
   ]
  },
  {
   "cell_type": "code",
   "execution_count": null,
   "metadata": {},
   "outputs": [],
   "source": [
    "inputs = [1,2,3,4,5,6,7,8,9,10]\n",
    "i = 0\n",
    "while(i < 10):    \n",
    "    if inputs[i]%2 == 0:\n",
    "        inputs.remove(i)\n",
    "    i += 1\n",
    "print(int(max(inputs)))\n",
    "#first iteration\n",
    "i == y\n",
    "i < 10 == True\n",
    "inputs[i] == 1\n",
    "1%2 != 0\n",
    "i += 1\n",
    "i == 1\n",
    "#second iteration\n",
    "i == 1\n",
    "i < 10 == True\n",
    "inputs[1] == 2"
   ]
  },
  {
   "cell_type": "markdown",
   "metadata": {},
   "source": [
    "The problem ended up being that I was using the index for the list to go through it in the while loop, but I short-circuited the indexes by removing values from the list. So, I went out of range. In the end, I just ended up making another list of odd numbers."
   ]
  },
  {
   "cell_type": "code",
   "execution_count": 4,
   "metadata": {},
   "outputs": [
    {
     "data": {
      "image/png": "[encoded data removed]",
      "text/latex": [
       "$$a x^{2} + b x + c = 0$$"
      ],
      "text/plain": [
       "   2              \n",
       "a⋅x  + b⋅x + c = 0"
      ]
     },
     "metadata": {},
     "output_type": "display_data"
    },
    {
     "data": {
      "image/png": "[encoded data removed]",
      "text/latex": [
       "$$\\left [ \\frac{- b + \\sqrt{- 4 a c + b^{2}}}{2 a}, \\quad - \\frac{b + \\sqrt{- 4 a c + b^{2}}}{2 a}\\right ]$$"
      ],
      "text/plain": [
       "⎡        _____________   ⎛       _____________⎞ ⎤\n",
       "⎢       ╱           2    ⎜      ╱           2 ⎟ ⎥\n",
       "⎢-b + ╲╱  -4⋅a⋅c + b    -⎝b + ╲╱  -4⋅a⋅c + b  ⎠ ⎥\n",
       "⎢─────────────────────, ────────────────────────⎥\n",
       "⎣         2⋅a                     2⋅a           ⎦"
      ]
     },
     "execution_count": 4,
     "metadata": {},
     "output_type": "execute_result"
    }
   ],
   "source": [
    "from sympy import *\n",
    "from IPython.display import display\n",
    "init_printing()\n",
    "var('a:z')\n",
    "eq = Eq(a*x**2+b*x+c,0)\n",
    "display(eq)\n",
    "solve(eq,x)\n"
   ]
  }
 ],
 "metadata": {
  "kernelspec": {
   "display_name": "Python 3",
   "language": "python",
   "name": "python3"
  },
  "language_info": {
   "codemirror_mode": {
    "name": "ipython",
    "version": 3
   },
   "file_extension": ".py",
   "mimetype": "text/x-python",
   "name": "python",
   "nbconvert_exporter": "python",
   "pygments_lexer": "ipython3",
   "version": "3.6.6"
  }
 },
 "nbformat": 4,
 "nbformat_minor": 2
}
